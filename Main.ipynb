{
 "cells": [
  {
   "cell_type": "code",
   "execution_count": 4,
   "id": "d6a7d11d",
   "metadata": {},
   "outputs": [
    {
     "name": "stdout",
     "output_type": "stream",
     "text": [
      "1\n",
      "2\n",
      "3\n",
      "4\n",
      "5\n",
      "1\n",
      "2\n",
      "3\n",
      "4\n",
      "5\n",
      "6\n",
      "7\n",
      "8\n",
      "9\n",
      "10\n",
      "11\n",
      "12\n",
      "13\n",
      "14\n",
      "15\n",
      "16\n",
      "17\n",
      "18\n",
      "19\n",
      "20\n"
     ]
    }
   ],
   "source": [
    "## iterators\n",
    "mytuple = (\"apple\", \"banana\", \"cherry\")\n",
    "myit = iter(mytuple)\n",
    "next(myit)\n",
    "\n",
    "\n",
    "# __iter__ method works like __init__, but the variable is iterable\n",
    "class MyNumbers:\n",
    "  def __iter__(self):\n",
    "    self.a = 1\n",
    "    return self\n",
    "\n",
    "  def __next__(self):\n",
    "    x = self.a\n",
    "    self.a += 1\n",
    "    return x\n",
    "\n",
    "myclass = MyNumbers()\n",
    "myiter = iter(myclass)\n",
    "\n",
    "print(next(myiter))\n",
    "print(next(myiter))\n",
    "print(next(myiter))\n",
    "print(next(myiter))\n",
    "print(next(myiter))\n",
    "\n",
    "\n",
    "## raise StopIteration to make it loop up to a point with 'for'\n",
    "class MyNumbers:\n",
    "  def __iter__(self):\n",
    "    self.a = 1\n",
    "    return self\n",
    "\n",
    "  def __next__(self):\n",
    "    if self.a <= 20:\n",
    "      x = self.a\n",
    "      self.a += 1\n",
    "      return x\n",
    "    else:\n",
    "      raise StopIteration\n",
    "\n",
    "myclass = MyNumbers()\n",
    "myiter = iter(myclass)\n",
    "\n",
    "for x in myiter:\n",
    "  print(x)"
   ]
  },
  {
   "cell_type": "code",
   "execution_count": 10,
   "id": "7295904b",
   "metadata": {},
   "outputs": [
    {
     "name": "stdout",
     "output_type": "stream",
     "text": [
      "1\n",
      "2\n",
      "3\n"
     ]
    }
   ],
   "source": [
    "# creating a generator by using 'yield' as part of __iter__\n",
    "class MyIterable:\n",
    "    def __init__(self, data):\n",
    "        self.data = data\n",
    "\n",
    "    def __iter__(self):\n",
    "        for x in self.data:\n",
    "            yield x\n",
    "            \n",
    "\n",
    "my_iterable = MyIterable([1, 2, 3])\n",
    "for x in my_iterable:\n",
    "    print(x)"
   ]
  },
  {
   "cell_type": "code",
   "execution_count": 31,
   "id": "49fb0404",
   "metadata": {},
   "outputs": [
    {
     "data": {
      "text/plain": [
       "'00000000000000000000000000000000000000000000000000000000000000000000000000000000000000000000aioho422'"
      ]
     },
     "execution_count": 31,
     "metadata": {},
     "output_type": "execute_result"
    }
   ],
   "source": [
    "'aioho422'.zfill(100)"
   ]
  },
  {
   "cell_type": "code",
   "execution_count": 33,
   "id": "c3c36204",
   "metadata": {},
   "outputs": [
    {
     "name": "stdout",
     "output_type": "stream",
     "text": [
      "97\n",
      "98\n",
      "99\n",
      "101\n",
      "102\n",
      "103\n"
     ]
    }
   ],
   "source": [
    "v = memoryview(b'abcefg')\n",
    "for l in v:\n",
    "    print(l)"
   ]
  },
  {
   "cell_type": "code",
   "execution_count": 35,
   "id": "186a0cf0",
   "metadata": {},
   "outputs": [
    {
     "data": {
      "text/plain": [
       "22222222"
      ]
     },
     "execution_count": 35,
     "metadata": {},
     "output_type": "execute_result"
    }
   ],
   "source": [
    "## memoryview\n",
    "import array\n",
    "a = array.array('l', [-11111111, 22222222, -33333333, 44444444])\n",
    "m = memoryview(a)\n",
    "m[1]\n",
    "\n"
   ]
  },
  {
   "cell_type": "code",
   "execution_count": 36,
   "id": "07ef07e9",
   "metadata": {},
   "outputs": [
    {
     "data": {
      "text/plain": [
       "True"
      ]
     },
     "execution_count": 36,
     "metadata": {},
     "output_type": "execute_result"
    }
   ],
   "source": [
    "# memoryview object can be hashed\n",
    "v = memoryview(b'abcefg')\n",
    "hash(v) == hash(b'abcefg')"
   ]
  },
  {
   "cell_type": "code",
   "execution_count": 38,
   "id": "b3894c6b",
   "metadata": {},
   "outputs": [
    {
     "data": {
      "text/plain": [
       "'616263'"
      ]
     },
     "execution_count": 38,
     "metadata": {},
     "output_type": "execute_result"
    }
   ],
   "source": [
    "b\"abc\".hex()"
   ]
  },
  {
   "cell_type": "code",
   "execution_count": 47,
   "id": "2cac17d7",
   "metadata": {},
   "outputs": [
    {
     "name": "stdout",
     "output_type": "stream",
     "text": [
      "72\n"
     ]
    },
    {
     "data": {
      "text/plain": [
       "bytearray(b'eello, world!')"
      ]
     },
     "execution_count": 47,
     "metadata": {},
     "output_type": "execute_result"
    }
   ],
   "source": [
    "my_bytearray = bytearray(b'Hello, world!')\n",
    "mv = memoryview(my_bytearray)\n",
    "\n",
    "# Do something with the memoryview\n",
    "mv[0]=101\n",
    "\n",
    "# Release the memory associated with the memoryview\n",
    "mv.release()\n",
    "\n",
    "# view change\n",
    "my_bytearray"
   ]
  },
  {
   "cell_type": "code",
   "execution_count": 56,
   "id": "4682ee13",
   "metadata": {},
   "outputs": [
    {
     "data": {
      "text/plain": [
       "-272375401224217160"
      ]
     },
     "execution_count": 56,
     "metadata": {},
     "output_type": "execute_result"
    }
   ],
   "source": [
    "hash(frozenset([1,2,3]))"
   ]
  },
  {
   "cell_type": "code",
   "execution_count": 65,
   "id": "e8ae3f48",
   "metadata": {},
   "outputs": [
    {
     "name": "stdout",
     "output_type": "stream",
     "text": [
      "('four', 4)\n",
      "('three', 3)\n",
      "('two', 2)\n",
      "('one', 1)\n"
     ]
    },
    {
     "data": {
      "text/plain": [
       "{'one': 3, 'two': 3, 'three': 3, 'four': 3}"
      ]
     },
     "execution_count": 65,
     "metadata": {},
     "output_type": "execute_result"
    }
   ],
   "source": [
    "d = {\"one\": 1, \"two\": 2, \"three\": 3, \"four\": 4}\n",
    "for i in reversed(d.items()):\n",
    "    print(i)\n",
    "    d[i[0]] = 3\n",
    "d"
   ]
  },
  {
   "cell_type": "code",
   "execution_count": 66,
   "id": "9f044f5e",
   "metadata": {},
   "outputs": [
    {
     "data": {
      "text/plain": [
       "{'one': 2, 'two': 2, 'three': 2, 'four': 2}"
      ]
     },
     "execution_count": 66,
     "metadata": {},
     "output_type": "execute_result"
    }
   ],
   "source": [
    "for k,v in d.items():\n",
    "    d[k] = 2\n",
    "d"
   ]
  },
  {
   "cell_type": "code",
   "execution_count": 74,
   "id": "bb528ad0",
   "metadata": {},
   "outputs": [
    {
     "data": {
      "text/plain": [
       "dict_keys"
      ]
     },
     "execution_count": 74,
     "metadata": {},
     "output_type": "execute_result"
    }
   ],
   "source": [
    "type(d.keys())"
   ]
  },
  {
   "cell_type": "code",
   "execution_count": 76,
   "id": "19e6744e",
   "metadata": {},
   "outputs": [
    {
     "data": {
      "text/plain": [
       "True"
      ]
     },
     "execution_count": 76,
     "metadata": {},
     "output_type": "execute_result"
    }
   ],
   "source": [
    "# confirm d (a dict) is a mapping object\n",
    "import collections.abc\n",
    "isinstance(d, collections.abc.Mapping)"
   ]
  },
  {
   "cell_type": "code",
   "execution_count": 97,
   "id": "2c199fa1",
   "metadata": {},
   "outputs": [
    {
     "name": "stdout",
     "output_type": "stream",
     "text": [
      "2\n",
      "4\n",
      "(1, 2)\n",
      "(3, 4)\n",
      "5\n"
     ]
    }
   ],
   "source": [
    "# Create a custom mapping object: ie a dictionary with extra methods\n",
    "class MyMapping(collections.abc.Mapping):\n",
    "    def __init__(self, data):\n",
    "        self._data = data\n",
    "\n",
    "    def __getitem__(self, key):\n",
    "        return self._data[key]\n",
    "    \n",
    "    def __setitem__(self, key, newdata):\n",
    "        self._data[key] = newdata\n",
    "    \n",
    "    def __iter__(self):\n",
    "        for x in self._data:\n",
    "            yield x\n",
    "            \n",
    "    def __len__(self):\n",
    "        l = 0\n",
    "        for i in self:\n",
    "            l += 1\n",
    "        return l\n",
    "    \n",
    "k = MyMapping({1:2, 3:4})\n",
    "print(len(k))\n",
    "print(k[3])\n",
    "for v in k.items():\n",
    "    print(v)\n",
    "k[2] = 5\n",
    "print(k[2])"
   ]
  },
  {
   "cell_type": "code",
   "execution_count": 98,
   "id": "09387ac9",
   "metadata": {},
   "outputs": [
    {
     "data": {
      "text/plain": [
       "Ellipsis"
      ]
     },
     "execution_count": 98,
     "metadata": {},
     "output_type": "execute_result"
    }
   ],
   "source": [
    "type(Ellipsis)()"
   ]
  },
  {
   "cell_type": "code",
   "execution_count": 99,
   "id": "f8cc9dd3",
   "metadata": {},
   "outputs": [
    {
     "data": {
      "text/plain": [
       "Ellipsis"
      ]
     },
     "execution_count": 99,
     "metadata": {},
     "output_type": "execute_result"
    }
   ],
   "source": [
    "Ellipsis"
   ]
  },
  {
   "cell_type": "code",
   "execution_count": null,
   "id": "61ce89b5",
   "metadata": {},
   "outputs": [],
   "source": [
    "### Can use Ellipsis in slicing and indexing: doesn't seem useful\n",
    "my_list = [1, 2, 3, 4, 5, 6]\n",
    "\n",
    "# Use Ellipsis to include all elements up to the fourth element\n",
    "print(my_list[:Ellipsis, 4])  # [1, 2, 3, 4]\n",
    "\n",
    "# Use Ellipsis to include all elements after the second element\n",
    "print(my_list[2, Ellipsis])  # [3, 4, 5, 6]\n",
    "\n",
    "# Use Ellipsis to include all elements\n",
    "print(my_list[Ellipsis])  # [1, 2, 3, 4, 5, 6]\n"
   ]
  },
  {
   "cell_type": "code",
   "execution_count": 103,
   "id": "d12aae3a",
   "metadata": {},
   "outputs": [],
   "source": [
    "## NotImplemented shows user that method isn't made: inheriting class might want to create it\n",
    "\n",
    "class MyNumber:\n",
    "    def __add__(self, other):\n",
    "        # Implement __add__\n",
    "        pass\n",
    "\n",
    "    def __radd__(self, other):\n",
    "        # Return NotImplemented to delegate __radd__ to another object\n",
    "        return NotImplemented\n",
    "\n",
    "# Define a class that implements __radd__\n",
    "class MyOtherNumber:\n",
    "    def __radd__(self, other):\n",
    "        # Implement __radd__\n",
    "        pass\n",
    "\n",
    "MyNumber() + 2"
   ]
  },
  {
   "cell_type": "code",
   "execution_count": 106,
   "id": "b9ba811f",
   "metadata": {},
   "outputs": [
    {
     "data": {
      "text/plain": [
       "15"
      ]
     },
     "execution_count": 106,
     "metadata": {},
     "output_type": "execute_result"
    }
   ],
   "source": [
    "class MyNumber:\n",
    "    def __init__(self, value):\n",
    "        self.value = value\n",
    "\n",
    "    def __radd__(self, other):\n",
    "        # Return the sum of the other object and the value of the MyNumber object\n",
    "        return other + self.value\n",
    "\n",
    "# Create an object of the MyNumber class\n",
    "my_number = MyNumber(10)\n",
    "\n",
    "# this works\n",
    "5 + my_number\n",
    "\n",
    "# this would need __add__: my_number + 5\n"
   ]
  },
  {
   "cell_type": "code",
   "execution_count": 3,
   "id": "4dbcdf7f",
   "metadata": {},
   "outputs": [
    {
     "data": {
      "text/plain": [
       "<coroutine object main at 0x7fe2800215c0>"
      ]
     },
     "execution_count": 3,
     "metadata": {},
     "output_type": "execute_result"
    }
   ],
   "source": [
    "# an async contextlib\n",
    "import contextlib\n",
    "import asyncio\n",
    "import requests\n",
    "@contextlib.asynccontextmanager\n",
    "async def get_google():\n",
    "    # Connect to the database\n",
    "    vals = requests.get('http://www.google.com')\n",
    "    try:\n",
    "        # Yield the connection\n",
    "        yield vals\n",
    "    finally:\n",
    "        # Close the connection\n",
    "        print('closed')\n",
    "async def main():\n",
    "    # Use the context manager to get a database connection\n",
    "    async with get_google() as google_txt:\n",
    "        print(google_txt.text)   \n",
    "# run one of the below 2 lines: need to start a new event loop if you've run loop.close()\n",
    "loop = asyncio.get_event_loop()\n",
    "loop = asyncio.new_event_loop()\n",
    "loop.run_until_complete(main())\n",
    "loop.close()"
   ]
  },
  {
   "cell_type": "code",
   "execution_count": 8,
   "id": "a656d5ae",
   "metadata": {},
   "outputs": [
    {
     "ename": "MyException",
     "evalue": "{'message': 'My hovercraft is full of animals', 'animal': 'eels'}",
     "output_type": "error",
     "traceback": [
      "\u001b[0;31m---------------------------------------------------------------------------\u001b[0m",
      "\u001b[0;31mMyException\u001b[0m                               Traceback (most recent call last)",
      "\u001b[0;32m/var/folders/x2/bt81rqpj7pl_j7fczgml3pd80000gn/T/ipykernel_11440/157969130.py\u001b[0m in \u001b[0;36m<module>\u001b[0;34m\u001b[0m\n\u001b[1;32m      3\u001b[0m     \u001b[0;34m\"\"\"Docstring for what the exception means\"\"\"\u001b[0m\u001b[0;34m\u001b[0m\u001b[0;34m\u001b[0m\u001b[0m\n\u001b[1;32m      4\u001b[0m \u001b[0;34m\u001b[0m\u001b[0m\n\u001b[0;32m----> 5\u001b[0;31m \u001b[0;32mraise\u001b[0m \u001b[0mMyException\u001b[0m\u001b[0;34m(\u001b[0m\u001b[0;34m{\u001b[0m\u001b[0;34m\"message\"\u001b[0m\u001b[0;34m:\u001b[0m\u001b[0;34m\"My hovercraft is full of animals\"\u001b[0m\u001b[0;34m,\u001b[0m \u001b[0;34m\"animal\"\u001b[0m\u001b[0;34m:\u001b[0m\u001b[0;34m\"eels\"\u001b[0m\u001b[0;34m}\u001b[0m\u001b[0;34m)\u001b[0m\u001b[0;34m\u001b[0m\u001b[0;34m\u001b[0m\u001b[0m\n\u001b[0m",
      "\u001b[0;31mMyException\u001b[0m: {'message': 'My hovercraft is full of animals', 'animal': 'eels'}"
     ]
    }
   ],
   "source": [
    "# this is a perfectly fine way to make a custom exception\n",
    "class MyException(Exception):\n",
    "    \"\"\"Docstring for what the exception means\"\"\"\n",
    "\n",
    "raise MyException({\"message\":\"My hovercraft is full of animals\", \"animal\":\"eels\"})\n"
   ]
  },
  {
   "cell_type": "code",
   "execution_count": 3,
   "id": "24dbbedb",
   "metadata": {},
   "outputs": [
    {
     "name": "stdout",
     "output_type": "stream",
     "text": [
      "eels\n"
     ]
    }
   ],
   "source": [
    "# more complicated way https://stackoverflow.com/questions/1319615/proper-way-to-declare-custom-exceptions-in-modern-python\n",
    "try:\n",
    "    raise MyException({\"message\":\"My hovercraft is full of animals\", \"animal\":\"eels\"})\n",
    "except MyException as e:\n",
    "    details = e.args[0]\n",
    "    print(details[\"animal\"])\n"
   ]
  },
  {
   "cell_type": "code",
   "execution_count": 17,
   "id": "2077b562",
   "metadata": {},
   "outputs": [
    {
     "ename": "MyAppValueError",
     "evalue": "('msg for user', 'something else', 'wasteman')",
     "output_type": "error",
     "traceback": [
      "\u001b[0;31m---------------------------------------------------------------------------\u001b[0m",
      "\u001b[0;31mMyAppValueError\u001b[0m                           Traceback (most recent call last)",
      "\u001b[0;32m/var/folders/x2/bt81rqpj7pl_j7fczgml3pd80000gn/T/ipykernel_11440/1765581778.py\u001b[0m in \u001b[0;36m<module>\u001b[0;34m\u001b[0m\n\u001b[1;32m     12\u001b[0m         \u001b[0msuper\u001b[0m\u001b[0;34m(\u001b[0m\u001b[0mMyAppValueError\u001b[0m\u001b[0;34m,\u001b[0m \u001b[0mself\u001b[0m\u001b[0;34m)\u001b[0m\u001b[0;34m.\u001b[0m\u001b[0m__init__\u001b[0m\u001b[0;34m(\u001b[0m\u001b[0mmessage\u001b[0m\u001b[0;34m,\u001b[0m \u001b[0mfoo\u001b[0m\u001b[0;34m,\u001b[0m \u001b[0;34m*\u001b[0m\u001b[0margs\u001b[0m\u001b[0;34m)\u001b[0m\u001b[0;34m\u001b[0m\u001b[0;34m\u001b[0m\u001b[0m\n\u001b[1;32m     13\u001b[0m \u001b[0;34m\u001b[0m\u001b[0m\n\u001b[0;32m---> 14\u001b[0;31m \u001b[0;32mraise\u001b[0m \u001b[0mMyAppValueError\u001b[0m\u001b[0;34m(\u001b[0m\u001b[0;34m'msg for user'\u001b[0m\u001b[0;34m,\u001b[0m \u001b[0;34m'something else'\u001b[0m\u001b[0;34m,\u001b[0m \u001b[0;34m'wasteman'\u001b[0m\u001b[0;34m)\u001b[0m\u001b[0;34m\u001b[0m\u001b[0;34m\u001b[0m\u001b[0m\n\u001b[0m",
      "\u001b[0;31mMyAppValueError\u001b[0m: ('msg for user', 'something else', 'wasteman')"
     ]
    }
   ],
   "source": [
    "### Q: why make custom exception class? \n",
    "### A: more descriptive and meaningful error message; make the error specific to your library\n",
    "\n",
    "# how to make a custom exception class?\n",
    "class MyAppValueError(ValueError):\n",
    "    '''Raise when a specific subset of values in context of app is wrong'''\n",
    "    def __init__(self, message, foo, *args):\n",
    "        self.message = message # without this you may get DeprecationWarning\n",
    "        # Special attribute you desire with your Error, \n",
    "        # perhaps the value that caused the error?:\n",
    "        self.foo = foo         \n",
    "        # allow users initialize misc. arguments as any other builtin Error\n",
    "        super(MyAppValueError, self).__init__(message, foo, *args) \n",
    "\n",
    "raise MyAppValueError('msg for user', 'something else', 'wasteman')\n"
   ]
  },
  {
   "cell_type": "code",
   "execution_count": 24,
   "id": "c2a85ca0",
   "metadata": {},
   "outputs": [
    {
     "ename": "NetworkError",
     "evalue": "A network error occurred",
     "output_type": "error",
     "traceback": [
      "\u001b[0;31m---------------------------------------------------------------------------\u001b[0m",
      "\u001b[0;31mNetworkError\u001b[0m                              Traceback (most recent call last)",
      "\u001b[0;32m/var/folders/x2/bt81rqpj7pl_j7fczgml3pd80000gn/T/ipykernel_11440/3813351106.py\u001b[0m in \u001b[0;36m<module>\u001b[0;34m\u001b[0m\n\u001b[1;32m      3\u001b[0m         \u001b[0msuper\u001b[0m\u001b[0;34m(\u001b[0m\u001b[0;34m)\u001b[0m\u001b[0;34m.\u001b[0m\u001b[0m__init__\u001b[0m\u001b[0;34m(\u001b[0m\u001b[0mmessage\u001b[0m\u001b[0;34m)\u001b[0m\u001b[0;34m\u001b[0m\u001b[0;34m\u001b[0m\u001b[0m\n\u001b[1;32m      4\u001b[0m         \u001b[0mself\u001b[0m\u001b[0;34m.\u001b[0m\u001b[0merrors\u001b[0m \u001b[0;34m=\u001b[0m \u001b[0merrors\u001b[0m\u001b[0;34m\u001b[0m\u001b[0;34m\u001b[0m\u001b[0m\n\u001b[0;32m----> 5\u001b[0;31m \u001b[0;32mraise\u001b[0m \u001b[0mNetworkError\u001b[0m\u001b[0;34m(\u001b[0m\u001b[0;34m'A network error occurred'\u001b[0m\u001b[0;34m,\u001b[0m \u001b[0;34m[\u001b[0m\u001b[0;34m'Error 1'\u001b[0m\u001b[0;34m,\u001b[0m \u001b[0;34m'Error 2'\u001b[0m\u001b[0;34m]\u001b[0m\u001b[0;34m)\u001b[0m\u001b[0;34m\u001b[0m\u001b[0;34m\u001b[0m\u001b[0m\n\u001b[0m",
      "\u001b[0;31mNetworkError\u001b[0m: A network error occurred"
     ]
    }
   ],
   "source": [
    "class NetworkError(Exception):\n",
    "    def __init__(self, message, errors):\n",
    "        super().__init__(message)\n",
    "        self.errors = errors\n",
    "raise NetworkError('A network error occurred', ['Error 1', 'Error 2'])"
   ]
  },
  {
   "cell_type": "code",
   "execution_count": 38,
   "id": "ac2135b7",
   "metadata": {},
   "outputs": [
    {
     "name": "stdout",
     "output_type": "stream",
     "text": [
      "<class 'ValueError'>\n",
      "(\"invalid literal for int() with base 10: 'asfgaa3f2w4g'\",)\n",
      "value was asfg\n",
      "invalid literal for int() with base 10: 'asfgaa3f2w4g'\n"
     ]
    }
   ],
   "source": [
    "# can catch multiple types of error and get info on the error\n",
    "try:\n",
    "    int('asfg'+'aa'+'3f2w4g')\n",
    "except (RuntimeError, TypeError, NameError, ValueError) as e:\n",
    "    print(type(e))\n",
    "    print(e.args)\n",
    "    print('value was asfg')\n",
    "    print(e) "
   ]
  },
  {
   "cell_type": "code",
   "execution_count": 39,
   "id": "3a99ffa9",
   "metadata": {},
   "outputs": [
    {
     "name": "stdout",
     "output_type": "stream",
     "text": [
      "Handling run-time error: division by zero\n"
     ]
    }
   ],
   "source": [
    "# try/except can catch errors which propagate from called functions\n",
    "def this_fails():\n",
    "    x = 1/0\n",
    "try:\n",
    "    this_fails()\n",
    "except ZeroDivisionError as err:\n",
    "    print('Handling run-time error:', err)"
   ]
  },
  {
   "cell_type": "markdown",
   "id": "770b9306",
   "metadata": {},
   "source": [
    "finally is executed regardless of whether the statements in the try block fail or succeed. else is executed only if the statements in the try block don't raise an exception.\n",
    "\n",
    "https://stackoverflow.com/questions/6051934/purpose-of-else-and-finally-in-exception-handling"
   ]
  },
  {
   "cell_type": "code",
   "execution_count": 84,
   "id": "f6019b00",
   "metadata": {},
   "outputs": [
    {
     "name": "stdout",
     "output_type": "stream",
     "text": [
      "cannot open -f\n",
      "ho\n",
      "a\n",
      "hahaha\n",
      "/Users/adambricknell/Library/Jupyter/runtime/kernel-baf82497-861a-4941-8c79-854ddfa5ff82.json has 12 lines\n",
      "ho\n"
     ]
    }
   ],
   "source": [
    "# if open() in try fails, then exception is run, then runtime returns to rest of try statement: this is \n",
    "# true for OSError but not KeyError, which if called *does* skip the else section\n",
    "for arg in sys.argv[1:]:\n",
    "    f = None\n",
    "    d = {4:3}\n",
    "    try:\n",
    "        f = open(arg, 'r')\n",
    "        print('still running after OSError is raised!' + d[3])\n",
    "        print('a')\n",
    "    except OSError:\n",
    "        print('cannot open', arg)\n",
    "    except KeyError as e:\n",
    "        print(e)\n",
    "    else:\n",
    "        print('hahaha')   \n",
    "        print(arg, 'has', len(f.readlines()), 'lines')\n",
    "    finally:\n",
    "        #print(arg, 'has', len(f.readlines()), 'lines')\n",
    "        print('ho')\n",
    "        if f:\n",
    "            f.close()\n"
   ]
  },
  {
   "cell_type": "code",
   "execution_count": 103,
   "id": "0f015b2b",
   "metadata": {},
   "outputs": [
    {
     "ename": "Exception",
     "evalue": "{'error_type': 'KeyError', 'error_message': '3', 'error_traceback': 'Traceback (most recent call last):\\n  File \"/var/folders/x2/bt81rqpj7pl_j7fczgml3pd80000gn/T/ipykernel_11440/871524406.py\", line 5, in <module>\\n    d[3]\\nKeyError: 3\\n', 'error_keys': ['__cause__', '__class__', '__context__', '__delattr__', '__dict__', '__dir__', '__doc__', '__eq__', '__format__', '__ge__', '__getattribute__', '__gt__', '__hash__', '__init__', '__init_subclass__', '__le__', '__lt__', '__ne__', '__new__', '__reduce__', '__reduce_ex__', '__repr__', '__setattr__', '__setstate__', '__sizeof__', '__str__', '__subclasshook__', '__suppress_context__', '__traceback__', 'args', 'with_traceback'], 'args': (3,)}",
     "output_type": "error",
     "traceback": [
      "\u001b[0;31m---------------------------------------------------------------------------\u001b[0m",
      "\u001b[0;31mKeyError\u001b[0m                                  Traceback (most recent call last)",
      "\u001b[0;32m/var/folders/x2/bt81rqpj7pl_j7fczgml3pd80000gn/T/ipykernel_11440/871524406.py\u001b[0m in \u001b[0;36m<module>\u001b[0;34m\u001b[0m\n\u001b[1;32m      4\u001b[0m \u001b[0;32mtry\u001b[0m\u001b[0;34m:\u001b[0m\u001b[0;34m\u001b[0m\u001b[0;34m\u001b[0m\u001b[0m\n\u001b[0;32m----> 5\u001b[0;31m     \u001b[0md\u001b[0m\u001b[0;34m[\u001b[0m\u001b[0;36m3\u001b[0m\u001b[0;34m]\u001b[0m\u001b[0;34m\u001b[0m\u001b[0;34m\u001b[0m\u001b[0m\n\u001b[0m\u001b[1;32m      6\u001b[0m \u001b[0;32mexcept\u001b[0m \u001b[0mException\u001b[0m \u001b[0;32mas\u001b[0m \u001b[0me\u001b[0m\u001b[0;34m:\u001b[0m\u001b[0;34m\u001b[0m\u001b[0;34m\u001b[0m\u001b[0m\n",
      "\u001b[0;31mKeyError\u001b[0m: 3",
      "\nDuring handling of the above exception, another exception occurred:\n",
      "\u001b[0;31mException\u001b[0m                                 Traceback (most recent call last)",
      "\u001b[0;32m/var/folders/x2/bt81rqpj7pl_j7fczgml3pd80000gn/T/ipykernel_11440/871524406.py\u001b[0m in \u001b[0;36m<module>\u001b[0;34m\u001b[0m\n\u001b[1;32m     12\u001b[0m         \u001b[0;34m'args'\u001b[0m\u001b[0;34m:\u001b[0m\u001b[0me\u001b[0m\u001b[0;34m.\u001b[0m\u001b[0margs\u001b[0m\u001b[0;34m\u001b[0m\u001b[0;34m\u001b[0m\u001b[0m\n\u001b[1;32m     13\u001b[0m     }\n\u001b[0;32m---> 14\u001b[0;31m     \u001b[0;32mraise\u001b[0m \u001b[0mException\u001b[0m\u001b[0;34m(\u001b[0m\u001b[0mcontext\u001b[0m\u001b[0;34m)\u001b[0m\u001b[0;34m\u001b[0m\u001b[0;34m\u001b[0m\u001b[0m\n\u001b[0m",
      "\u001b[0;31mException\u001b[0m: {'error_type': 'KeyError', 'error_message': '3', 'error_traceback': 'Traceback (most recent call last):\\n  File \"/var/folders/x2/bt81rqpj7pl_j7fczgml3pd80000gn/T/ipykernel_11440/871524406.py\", line 5, in <module>\\n    d[3]\\nKeyError: 3\\n', 'error_keys': ['__cause__', '__class__', '__context__', '__delattr__', '__dict__', '__dir__', '__doc__', '__eq__', '__format__', '__ge__', '__getattribute__', '__gt__', '__hash__', '__init__', '__init_subclass__', '__le__', '__lt__', '__ne__', '__new__', '__reduce__', '__reduce_ex__', '__repr__', '__setattr__', '__setstate__', '__sizeof__', '__str__', '__subclasshook__', '__suppress_context__', '__traceback__', 'args', 'with_traceback'], 'args': (3,)}"
     ]
    }
   ],
   "source": [
    "# getting info on specific error raised. Also can store 'context' for later\n",
    "import traceback\n",
    "d={4:3}\n",
    "try:\n",
    "    d[3]\n",
    "except Exception as e:\n",
    "    context = {\n",
    "        'error_type': e.__class__.__name__,\n",
    "        'error_message': str(e),\n",
    "        'error_traceback': traceback.format_exc(),\n",
    "        'error_keys':dir(e),\n",
    "        'args':e.args\n",
    "    }\n",
    "    raise Exception(context)\n"
   ]
  },
  {
   "cell_type": "code",
   "execution_count": 118,
   "id": "017c839d",
   "metadata": {},
   "outputs": [
    {
     "name": "stderr",
     "output_type": "stream",
     "text": [
      "Traceback (most recent call last):\n",
      "  File \"/var/folders/x2/bt81rqpj7pl_j7fczgml3pd80000gn/T/ipykernel_11440/582922386.py\", line 6, in <module>\n",
      "    d[3]\n",
      "KeyError: 3\n",
      "\n",
      "During handling of the above exception, another exception occurred:\n",
      "\n",
      "Traceback (most recent call last):\n",
      "  File \"/Users/adambricknell/opt/anaconda3/lib/python3.9/site-packages/IPython/core/interactiveshell.py\", line 3444, in run_code\n",
      "    exec(code_obj, self.user_global_ns, self.user_ns)\n",
      "  File \"/var/folders/x2/bt81rqpj7pl_j7fczgml3pd80000gn/T/ipykernel_11440/582922386.py\", line 12, in <module>\n",
      "    'exception':traceback.format_exception_only(e),\n",
      "TypeError: format_exception_only() missing 1 required positional argument: 'value'\n"
     ]
    },
    {
     "ename": "Exception",
     "evalue": "{'error_type': 'KeyError', 'error_message': '3', 'error_traceback': 'Traceback (most recent call last):\\n  File \"/var/folders/x2/bt81rqpj7pl_j7fczgml3pd80000gn/T/ipykernel_11440/866511178.py\", line 6, in <module>\\n    d[3]\\nKeyError: 3\\n', 'exception': None, 'error_traceback_stack': [<FrameSummary file /Users/adambricknell/opt/anaconda3/lib/python3.9/runpy.py, line 197 in _run_module_as_main>, <FrameSummary file /Users/adambricknell/opt/anaconda3/lib/python3.9/runpy.py, line 87 in _run_code>, <FrameSummary file /Users/adambricknell/opt/anaconda3/lib/python3.9/site-packages/ipykernel_launcher.py, line 16 in <module>>, <FrameSummary file /Users/adambricknell/opt/anaconda3/lib/python3.9/site-packages/traitlets/config/application.py, line 846 in launch_instance>, <FrameSummary file /Users/adambricknell/opt/anaconda3/lib/python3.9/site-packages/ipykernel/kernelapp.py, line 677 in start>, <FrameSummary file /Users/adambricknell/opt/anaconda3/lib/python3.9/site-packages/tornado/platform/asyncio.py, line 199 in start>, <FrameSummary file /Users/adambricknell/opt/anaconda3/lib/python3.9/asyncio/base_events.py, line 596 in run_forever>, <FrameSummary file /Users/adambricknell/opt/anaconda3/lib/python3.9/asyncio/base_events.py, line 1890 in _run_once>, <FrameSummary file /Users/adambricknell/opt/anaconda3/lib/python3.9/asyncio/events.py, line 80 in _run>, <FrameSummary file /Users/adambricknell/opt/anaconda3/lib/python3.9/site-packages/ipykernel/kernelbase.py, line 457 in dispatch_queue>, <FrameSummary file /Users/adambricknell/opt/anaconda3/lib/python3.9/site-packages/ipykernel/kernelbase.py, line 446 in process_one>, <FrameSummary file /Users/adambricknell/opt/anaconda3/lib/python3.9/site-packages/ipykernel/kernelbase.py, line 353 in dispatch_shell>, <FrameSummary file /Users/adambricknell/opt/anaconda3/lib/python3.9/site-packages/ipykernel/kernelbase.py, line 648 in execute_request>, <FrameSummary file /Users/adambricknell/opt/anaconda3/lib/python3.9/site-packages/ipykernel/ipkernel.py, line 353 in do_execute>, <FrameSummary file /Users/adambricknell/opt/anaconda3/lib/python3.9/site-packages/ipykernel/zmqshell.py, line 533 in run_cell>, <FrameSummary file /Users/adambricknell/opt/anaconda3/lib/python3.9/site-packages/IPython/core/interactiveshell.py, line 2901 in run_cell>, <FrameSummary file /Users/adambricknell/opt/anaconda3/lib/python3.9/site-packages/IPython/core/interactiveshell.py, line 2947 in _run_cell>, <FrameSummary file /Users/adambricknell/opt/anaconda3/lib/python3.9/site-packages/IPython/core/async_helpers.py, line 68 in _pseudo_sync_runner>, <FrameSummary file /Users/adambricknell/opt/anaconda3/lib/python3.9/site-packages/IPython/core/interactiveshell.py, line 3172 in run_cell_async>, <FrameSummary file /Users/adambricknell/opt/anaconda3/lib/python3.9/site-packages/IPython/core/interactiveshell.py, line 3364 in run_ast_nodes>, <FrameSummary file /Users/adambricknell/opt/anaconda3/lib/python3.9/site-packages/IPython/core/interactiveshell.py, line 3444 in run_code>, <FrameSummary file /var/folders/x2/bt81rqpj7pl_j7fczgml3pd80000gn/T/ipykernel_11440/866511178.py, line 13 in <module>>], 'error_keys': ['__cause__', '__class__', '__context__', '__delattr__', '__dict__', '__dir__', '__doc__', '__eq__', '__format__', '__ge__', '__getattribute__', '__gt__', '__hash__', '__init__', '__init_subclass__', '__le__', '__lt__', '__ne__', '__new__', '__reduce__', '__reduce_ex__', '__repr__', '__setattr__', '__setstate__', '__sizeof__', '__str__', '__subclasshook__', '__suppress_context__', '__traceback__', 'args', 'with_traceback'], 'args': (3,)}",
     "output_type": "error",
     "traceback": [
      "\u001b[0;31m---------------------------------------------------------------------------\u001b[0m",
      "\u001b[0;31mKeyError\u001b[0m                                  Traceback (most recent call last)",
      "\u001b[0;32m/var/folders/x2/bt81rqpj7pl_j7fczgml3pd80000gn/T/ipykernel_11440/866511178.py\u001b[0m in \u001b[0;36m<module>\u001b[0;34m\u001b[0m\n\u001b[1;32m      5\u001b[0m \u001b[0;32mtry\u001b[0m\u001b[0;34m:\u001b[0m\u001b[0;34m\u001b[0m\u001b[0;34m\u001b[0m\u001b[0m\n\u001b[0;32m----> 6\u001b[0;31m     \u001b[0md\u001b[0m\u001b[0;34m[\u001b[0m\u001b[0;36m3\u001b[0m\u001b[0;34m]\u001b[0m\u001b[0;34m\u001b[0m\u001b[0;34m\u001b[0m\u001b[0m\n\u001b[0m\u001b[1;32m      7\u001b[0m \u001b[0;32mexcept\u001b[0m \u001b[0mException\u001b[0m \u001b[0;32mas\u001b[0m \u001b[0me\u001b[0m\u001b[0;34m:\u001b[0m\u001b[0;34m\u001b[0m\u001b[0;34m\u001b[0m\u001b[0m\n",
      "\u001b[0;31mKeyError\u001b[0m: 3",
      "\nDuring handling of the above exception, another exception occurred:\n",
      "\u001b[0;31mException\u001b[0m                                 Traceback (most recent call last)",
      "\u001b[0;32m/var/folders/x2/bt81rqpj7pl_j7fczgml3pd80000gn/T/ipykernel_11440/866511178.py\u001b[0m in \u001b[0;36m<module>\u001b[0;34m\u001b[0m\n\u001b[1;32m     17\u001b[0m         \u001b[0;34m'args'\u001b[0m\u001b[0;34m:\u001b[0m\u001b[0me\u001b[0m\u001b[0;34m.\u001b[0m\u001b[0margs\u001b[0m\u001b[0;34m\u001b[0m\u001b[0;34m\u001b[0m\u001b[0m\n\u001b[1;32m     18\u001b[0m     }\n\u001b[0;32m---> 19\u001b[0;31m     \u001b[0;32mraise\u001b[0m \u001b[0mException\u001b[0m\u001b[0;34m(\u001b[0m\u001b[0mcontext\u001b[0m\u001b[0;34m)\u001b[0m\u001b[0;34m\u001b[0m\u001b[0;34m\u001b[0m\u001b[0m\n\u001b[0m",
      "\u001b[0;31mException\u001b[0m: {'error_type': 'KeyError', 'error_message': '3', 'error_traceback': 'Traceback (most recent call last):\\n  File \"/var/folders/x2/bt81rqpj7pl_j7fczgml3pd80000gn/T/ipykernel_11440/866511178.py\", line 6, in <module>\\n    d[3]\\nKeyError: 3\\n', 'exception': None, 'error_traceback_stack': [<FrameSummary file /Users/adambricknell/opt/anaconda3/lib/python3.9/runpy.py, line 197 in _run_module_as_main>, <FrameSummary file /Users/adambricknell/opt/anaconda3/lib/python3.9/runpy.py, line 87 in _run_code>, <FrameSummary file /Users/adambricknell/opt/anaconda3/lib/python3.9/site-packages/ipykernel_launcher.py, line 16 in <module>>, <FrameSummary file /Users/adambricknell/opt/anaconda3/lib/python3.9/site-packages/traitlets/config/application.py, line 846 in launch_instance>, <FrameSummary file /Users/adambricknell/opt/anaconda3/lib/python3.9/site-packages/ipykernel/kernelapp.py, line 677 in start>, <FrameSummary file /Users/adambricknell/opt/anaconda3/lib/python3.9/site-packages/tornado/platform/asyncio.py, line 199 in start>, <FrameSummary file /Users/adambricknell/opt/anaconda3/lib/python3.9/asyncio/base_events.py, line 596 in run_forever>, <FrameSummary file /Users/adambricknell/opt/anaconda3/lib/python3.9/asyncio/base_events.py, line 1890 in _run_once>, <FrameSummary file /Users/adambricknell/opt/anaconda3/lib/python3.9/asyncio/events.py, line 80 in _run>, <FrameSummary file /Users/adambricknell/opt/anaconda3/lib/python3.9/site-packages/ipykernel/kernelbase.py, line 457 in dispatch_queue>, <FrameSummary file /Users/adambricknell/opt/anaconda3/lib/python3.9/site-packages/ipykernel/kernelbase.py, line 446 in process_one>, <FrameSummary file /Users/adambricknell/opt/anaconda3/lib/python3.9/site-packages/ipykernel/kernelbase.py, line 353 in dispatch_shell>, <FrameSummary file /Users/adambricknell/opt/anaconda3/lib/python3.9/site-packages/ipykernel/kernelbase.py, line 648 in execute_request>, <FrameSummary file /Users/adambricknell/opt/anaconda3/lib/python3.9/site-packages/ipykernel/ipkernel.py, line 353 in do_execute>, <FrameSummary file /Users/adambricknell/opt/anaconda3/lib/python3.9/site-packages/ipykernel/zmqshell.py, line 533 in run_cell>, <FrameSummary file /Users/adambricknell/opt/anaconda3/lib/python3.9/site-packages/IPython/core/interactiveshell.py, line 2901 in run_cell>, <FrameSummary file /Users/adambricknell/opt/anaconda3/lib/python3.9/site-packages/IPython/core/interactiveshell.py, line 2947 in _run_cell>, <FrameSummary file /Users/adambricknell/opt/anaconda3/lib/python3.9/site-packages/IPython/core/async_helpers.py, line 68 in _pseudo_sync_runner>, <FrameSummary file /Users/adambricknell/opt/anaconda3/lib/python3.9/site-packages/IPython/core/interactiveshell.py, line 3172 in run_cell_async>, <FrameSummary file /Users/adambricknell/opt/anaconda3/lib/python3.9/site-packages/IPython/core/interactiveshell.py, line 3364 in run_ast_nodes>, <FrameSummary file /Users/adambricknell/opt/anaconda3/lib/python3.9/site-packages/IPython/core/interactiveshell.py, line 3444 in run_code>, <FrameSummary file /var/folders/x2/bt81rqpj7pl_j7fczgml3pd80000gn/T/ipykernel_11440/866511178.py, line 13 in <module>>], 'error_keys': ['__cause__', '__class__', '__context__', '__delattr__', '__dict__', '__dir__', '__doc__', '__eq__', '__format__', '__ge__', '__getattribute__', '__gt__', '__hash__', '__init__', '__init_subclass__', '__le__', '__lt__', '__ne__', '__new__', '__reduce__', '__reduce_ex__', '__repr__', '__setattr__', '__setstate__', '__sizeof__', '__str__', '__subclasshook__', '__suppress_context__', '__traceback__', 'args', 'with_traceback'], 'args': (3,)}"
     ]
    }
   ],
   "source": [
    "# raise exception with tracebacks\n",
    "# More tracebacks here: https://docs.python.org/3/library/traceback.html\n",
    "import traceback\n",
    "d={4:3}\n",
    "try:\n",
    "    d[3]\n",
    "except Exception as e:\n",
    "    context = {\n",
    "        'error_type': e.__class__.__name__,\n",
    "        'error_message': str(e),\n",
    "        'error_traceback': traceback.format_exc(),\n",
    "        'exception':traceback.print_last(),\n",
    "        'error_traceback_stack': traceback.extract_stack(),\n",
    "        #'error_traceback': traceback.format_list(),\n",
    "        #'error_traceback': traceback.walk_stack(),\n",
    "        'error_keys':dir(e),\n",
    "        'args':e.args\n",
    "    }\n",
    "    \n",
    "    # could store traceback here\n",
    "    \n",
    "    raise Exception(context)\n"
   ]
  },
  {
   "cell_type": "code",
   "execution_count": 119,
   "id": "367cddbf",
   "metadata": {},
   "outputs": [],
   "source": [
    "context['exception']"
   ]
  },
  {
   "cell_type": "code",
   "execution_count": 115,
   "id": "a0bb4e2a",
   "metadata": {},
   "outputs": [
    {
     "data": {
      "text/plain": [
       "[<FrameSummary file /Users/adambricknell/opt/anaconda3/lib/python3.9/runpy.py, line 197 in _run_module_as_main>,\n",
       " <FrameSummary file /Users/adambricknell/opt/anaconda3/lib/python3.9/runpy.py, line 87 in _run_code>,\n",
       " <FrameSummary file /Users/adambricknell/opt/anaconda3/lib/python3.9/site-packages/ipykernel_launcher.py, line 16 in <module>>,\n",
       " <FrameSummary file /Users/adambricknell/opt/anaconda3/lib/python3.9/site-packages/traitlets/config/application.py, line 846 in launch_instance>,\n",
       " <FrameSummary file /Users/adambricknell/opt/anaconda3/lib/python3.9/site-packages/ipykernel/kernelapp.py, line 677 in start>,\n",
       " <FrameSummary file /Users/adambricknell/opt/anaconda3/lib/python3.9/site-packages/tornado/platform/asyncio.py, line 199 in start>,\n",
       " <FrameSummary file /Users/adambricknell/opt/anaconda3/lib/python3.9/asyncio/base_events.py, line 596 in run_forever>,\n",
       " <FrameSummary file /Users/adambricknell/opt/anaconda3/lib/python3.9/asyncio/base_events.py, line 1890 in _run_once>,\n",
       " <FrameSummary file /Users/adambricknell/opt/anaconda3/lib/python3.9/asyncio/events.py, line 80 in _run>,\n",
       " <FrameSummary file /Users/adambricknell/opt/anaconda3/lib/python3.9/site-packages/ipykernel/kernelbase.py, line 457 in dispatch_queue>,\n",
       " <FrameSummary file /Users/adambricknell/opt/anaconda3/lib/python3.9/site-packages/ipykernel/kernelbase.py, line 446 in process_one>,\n",
       " <FrameSummary file /Users/adambricknell/opt/anaconda3/lib/python3.9/site-packages/ipykernel/kernelbase.py, line 353 in dispatch_shell>,\n",
       " <FrameSummary file /Users/adambricknell/opt/anaconda3/lib/python3.9/site-packages/ipykernel/kernelbase.py, line 648 in execute_request>,\n",
       " <FrameSummary file /Users/adambricknell/opt/anaconda3/lib/python3.9/site-packages/ipykernel/ipkernel.py, line 353 in do_execute>,\n",
       " <FrameSummary file /Users/adambricknell/opt/anaconda3/lib/python3.9/site-packages/ipykernel/zmqshell.py, line 533 in run_cell>,\n",
       " <FrameSummary file /Users/adambricknell/opt/anaconda3/lib/python3.9/site-packages/IPython/core/interactiveshell.py, line 2901 in run_cell>,\n",
       " <FrameSummary file /Users/adambricknell/opt/anaconda3/lib/python3.9/site-packages/IPython/core/interactiveshell.py, line 2947 in _run_cell>,\n",
       " <FrameSummary file /Users/adambricknell/opt/anaconda3/lib/python3.9/site-packages/IPython/core/async_helpers.py, line 68 in _pseudo_sync_runner>,\n",
       " <FrameSummary file /Users/adambricknell/opt/anaconda3/lib/python3.9/site-packages/IPython/core/interactiveshell.py, line 3172 in run_cell_async>,\n",
       " <FrameSummary file /Users/adambricknell/opt/anaconda3/lib/python3.9/site-packages/IPython/core/interactiveshell.py, line 3364 in run_ast_nodes>,\n",
       " <FrameSummary file /Users/adambricknell/opt/anaconda3/lib/python3.9/site-packages/IPython/core/interactiveshell.py, line 3444 in run_code>,\n",
       " <FrameSummary file /var/folders/x2/bt81rqpj7pl_j7fczgml3pd80000gn/T/ipykernel_11440/633832102.py, line 12 in <module>>]"
      ]
     },
     "execution_count": 115,
     "metadata": {},
     "output_type": "execute_result"
    }
   ],
   "source": [
    "context['error_traceback_stack']"
   ]
  },
  {
   "cell_type": "code",
   "execution_count": 135,
   "id": "49ec05e4",
   "metadata": {},
   "outputs": [
    {
     "name": "stdout",
     "output_type": "stream",
     "text": [
      "[('table_name',)]\n"
     ]
    }
   ],
   "source": [
    "## write to sqlite db\n",
    "import sqlite3\n",
    "\n",
    "# Connect to the database\n",
    "conn = sqlite3.connect('mydatabase.db')\n",
    "\n",
    "# Create a cursor object\n",
    "cursor = conn.cursor()\n",
    "\n",
    "value1='a'\n",
    "value2='b'\n",
    "table_name='haha'\n",
    "\n",
    "# Execute a CREATE TABLE statement: do this if table doesn't exist yet\n",
    "#cursor.execute(\"CREATE TABLE table_name (column1 datatype, column2 datatype)\")\n",
    "\n",
    "# Execute an INSERT statement\n",
    "cursor.execute(\"INSERT INTO table_name (column1, column2) VALUES (?, ?)\", (value1, value2))\n",
    "\n",
    "# Commit the changes to the database\n",
    "conn.commit()\n",
    "\n",
    "# view all tables\n",
    "cursor.execute(\"SELECT name FROM sqlite_master WHERE type='table'\")\n",
    "print(cursor.fetchall())\n",
    "\n",
    "# Close the connection\n",
    "conn.close()\n",
    "\n"
   ]
  },
  {
   "cell_type": "code",
   "execution_count": 137,
   "id": "498af688",
   "metadata": {},
   "outputs": [
    {
     "name": "stderr",
     "output_type": "stream",
     "text": [
      "/var/folders/x2/bt81rqpj7pl_j7fczgml3pd80000gn/T/ipykernel_11440/3763678046.py:5: UserWarning: This is a warning message.\n",
      "  warnings.warn(\"This is a warning message.\")\n",
      "/var/folders/x2/bt81rqpj7pl_j7fczgml3pd80000gn/T/ipykernel_11440/3763678046.py:10: UserWarning: This is a warning message.\n",
      "  warnings.warn(\"This is a warning message.\", category=UserWarning)\n"
     ]
    }
   ],
   "source": [
    "# warnings: can raise generic warning or a category of warning\n",
    "import warnings\n",
    "\n",
    "def function_with_warning():\n",
    "    warnings.warn(\"This is a warning message.\")\n",
    "function_with_warning()\n",
    "\n",
    "def function_with_warning():\n",
    "    warnings.warn(\"This is a warning message.\", category=UserWarning)\n",
    "function_with_warning()\n"
   ]
  },
  {
   "cell_type": "code",
   "execution_count": 141,
   "id": "6bda416d",
   "metadata": {},
   "outputs": [
    {
     "name": "stdout",
     "output_type": "stream",
     "text": [
      "this warning is all kinds of bad\n"
     ]
    },
    {
     "name": "stderr",
     "output_type": "stream",
     "text": [
      "/var/folders/x2/bt81rqpj7pl_j7fczgml3pd80000gn/T/ipykernel_11440/2117664306.py:8: CustomWarning: This is a custom warning message.\n",
      "  warnings.warn(\"This is a custom warning message.\", category=CustomWarning)\n"
     ]
    }
   ],
   "source": [
    "# can make a custom class of warning\n",
    "import warnings\n",
    "\n",
    "class CustomWarning(Warning):\n",
    "    print('this warning is all kinds of bad')\n",
    "\n",
    "def function_with_warning():\n",
    "    warnings.warn(\"This is a custom warning message.\", category=CustomWarning)\n",
    "\n",
    "function_with_warning()\n"
   ]
  },
  {
   "cell_type": "code",
   "execution_count": 142,
   "id": "3963791a",
   "metadata": {},
   "outputs": [
    {
     "name": "stdout",
     "output_type": "stream",
     "text": [
      "This is a custom exception message.\n"
     ]
    }
   ],
   "source": [
    "# raising custom exception message\n",
    "class CustomException(Exception):\n",
    "    def __init__(self, message):\n",
    "        super().__init__(message)\n",
    "        self.message = message\n",
    "\n",
    "def function_that_raises_exception():\n",
    "    raise CustomException(\"This is a custom exception message.\")\n",
    "\n",
    "try:\n",
    "    function_that_raises_exception()\n",
    "except CustomException as e:\n",
    "    print(e)\n"
   ]
  },
  {
   "cell_type": "code",
   "execution_count": 144,
   "id": "c5b52a2a",
   "metadata": {},
   "outputs": [
    {
     "ename": "NameError",
     "evalue": "name 'ExceptionGroup' is not defined",
     "output_type": "error",
     "traceback": [
      "\u001b[0;31m---------------------------------------------------------------------------\u001b[0m",
      "\u001b[0;31mNameError\u001b[0m                                 Traceback (most recent call last)",
      "\u001b[0;32m/var/folders/x2/bt81rqpj7pl_j7fczgml3pd80000gn/T/ipykernel_11440/1349459076.py\u001b[0m in \u001b[0;36m<module>\u001b[0;34m\u001b[0m\n\u001b[1;32m      2\u001b[0m     \u001b[0mexcs\u001b[0m \u001b[0;34m=\u001b[0m \u001b[0;34m[\u001b[0m\u001b[0mOSError\u001b[0m\u001b[0;34m(\u001b[0m\u001b[0;34m'error 1'\u001b[0m\u001b[0;34m)\u001b[0m\u001b[0;34m,\u001b[0m \u001b[0mSystemError\u001b[0m\u001b[0;34m(\u001b[0m\u001b[0;34m'error 2'\u001b[0m\u001b[0;34m)\u001b[0m\u001b[0;34m]\u001b[0m\u001b[0;34m\u001b[0m\u001b[0;34m\u001b[0m\u001b[0m\n\u001b[1;32m      3\u001b[0m     \u001b[0;32mraise\u001b[0m \u001b[0mExceptionGroup\u001b[0m\u001b[0;34m(\u001b[0m\u001b[0;34m'there were problems'\u001b[0m\u001b[0;34m,\u001b[0m \u001b[0mexcs\u001b[0m\u001b[0;34m)\u001b[0m\u001b[0;34m\u001b[0m\u001b[0;34m\u001b[0m\u001b[0m\n\u001b[0;32m----> 4\u001b[0;31m \u001b[0mf\u001b[0m\u001b[0;34m(\u001b[0m\u001b[0;34m)\u001b[0m\u001b[0;34m\u001b[0m\u001b[0;34m\u001b[0m\u001b[0m\n\u001b[0m",
      "\u001b[0;32m/var/folders/x2/bt81rqpj7pl_j7fczgml3pd80000gn/T/ipykernel_11440/1349459076.py\u001b[0m in \u001b[0;36mf\u001b[0;34m()\u001b[0m\n\u001b[1;32m      1\u001b[0m \u001b[0;32mdef\u001b[0m \u001b[0mf\u001b[0m\u001b[0;34m(\u001b[0m\u001b[0;34m)\u001b[0m\u001b[0;34m:\u001b[0m\u001b[0;34m\u001b[0m\u001b[0;34m\u001b[0m\u001b[0m\n\u001b[1;32m      2\u001b[0m     \u001b[0mexcs\u001b[0m \u001b[0;34m=\u001b[0m \u001b[0;34m[\u001b[0m\u001b[0mOSError\u001b[0m\u001b[0;34m(\u001b[0m\u001b[0;34m'error 1'\u001b[0m\u001b[0;34m)\u001b[0m\u001b[0;34m,\u001b[0m \u001b[0mSystemError\u001b[0m\u001b[0;34m(\u001b[0m\u001b[0;34m'error 2'\u001b[0m\u001b[0;34m)\u001b[0m\u001b[0;34m]\u001b[0m\u001b[0;34m\u001b[0m\u001b[0;34m\u001b[0m\u001b[0m\n\u001b[0;32m----> 3\u001b[0;31m     \u001b[0;32mraise\u001b[0m \u001b[0mExceptionGroup\u001b[0m\u001b[0;34m(\u001b[0m\u001b[0;34m'there were problems'\u001b[0m\u001b[0;34m,\u001b[0m \u001b[0mexcs\u001b[0m\u001b[0;34m)\u001b[0m\u001b[0;34m\u001b[0m\u001b[0;34m\u001b[0m\u001b[0m\n\u001b[0m\u001b[1;32m      4\u001b[0m \u001b[0mf\u001b[0m\u001b[0;34m(\u001b[0m\u001b[0;34m)\u001b[0m\u001b[0;34m\u001b[0m\u001b[0;34m\u001b[0m\u001b[0m\n",
      "\u001b[0;31mNameError\u001b[0m: name 'ExceptionGroup' is not defined"
     ]
    }
   ],
   "source": [
    "def f():\n",
    "    excs = [OSError('error 1'), SystemError('error 2')]\n",
    "    raise ExceptionGroup('there were problems', excs)\n",
    "f()"
   ]
  },
  {
   "cell_type": "code",
   "execution_count": 148,
   "id": "bf037ffe",
   "metadata": {},
   "outputs": [
    {
     "name": "stdout",
     "output_type": "stream",
     "text": [
      "First String: Welcome to Javatpoint\n",
      "Second String: Welcome to Python tutorial\n",
      "Sequence Matched: 0.5106382978723404\n"
     ]
    }
   ],
   "source": [
    "# SequenceMatcher class shows how similar two strings are;\n",
    "# Differ class shows how much they differ\n",
    "\n",
    "import difflib  \n",
    "from difflib import SequenceMatcher  \n",
    "# defining the strings  \n",
    "str_1 = \"Welcome to Javatpoint\"  \n",
    "str_2 = \"Welcome to Python tutorial\"  \n",
    "  \n",
    "# using the SequenceMatcher() function  \n",
    "my_seq = SequenceMatcher(a = str_1, b = str_2)  \n",
    "  \n",
    "# printing the result  \n",
    "print(\"First String:\", str_1)  \n",
    "print(\"Second String:\", str_2)  \n",
    "print(\"Sequence Matched:\", my_seq.ratio())    # the ratio of identical characters in the two strings,"
   ]
  },
  {
   "cell_type": "code",
   "execution_count": 154,
   "id": "2b5829c6",
   "metadata": {},
   "outputs": [
    {
     "name": "stdout",
     "output_type": "stream",
     "text": [
      "First String: They would like to order a soft drink\n",
      "Second String: They would like to order a corn pizza\n",
      "Difference between the Strings\n",
      "- They would like to order a soft drink\n",
      "?                            ^ ^^ ^^ ^^\n",
      "\n",
      "+ They would like to order a corn pizza\n",
      "?                            ^ ^^ ^ ^^^\n",
      "\n"
     ]
    }
   ],
   "source": [
    "\n",
    "import difflib  \n",
    "from difflib import Differ  \n",
    "  \n",
    "# defining the strings  \n",
    "str_1 = \"They would like to order a soft drink\"  \n",
    "str_2 = \"They would like to order a corn pizza\"  \n",
    "  \n",
    "# using the splitlines() function  \n",
    "lines_str1 = str_1.splitlines()  \n",
    "lines_str2 = str_2.splitlines()  \n",
    "  \n",
    "# using the Differ() and compare() function  \n",
    "dif = difflib.Differ()  \n",
    "my_diff = dif.compare(lines_str1, lines_str2)  \n",
    "  \n",
    "# printing the results  \n",
    "print(\"First String:\", str_1)  \n",
    "print(\"Second String:\", str_2)  \n",
    "print(\"Difference between the Strings:\")  \n",
    "print('\\n'.join(my_diff)) "
   ]
  },
  {
   "cell_type": "code",
   "execution_count": 157,
   "id": "040181e1",
   "metadata": {},
   "outputs": [
    {
     "data": {
      "text/plain": [
       "'- They would like to order a soft drink\\n?                            ^ ^^ ^^ ^^\\n\\n+ They would like to order a corn pizza\\n?                            ^ ^^ ^ ^^^\\n'"
      ]
     },
     "execution_count": 157,
     "metadata": {},
     "output_type": "execute_result"
    }
   ],
   "source": [
    "'\\n'.join(dif.compare(lines_str1, lines_str2))"
   ]
  },
  {
   "cell_type": "code",
   "execution_count": 163,
   "id": "9fc0cc80",
   "metadata": {},
   "outputs": [
    {
     "name": "stdout",
     "output_type": "stream",
     "text": [
      "Matching words: ['mass', 'mask', 'master']\n"
     ]
    }
   ],
   "source": [
    "# get words which are similar to given string\n",
    "# uses a cutoff of % of letters which are in both strings\n",
    "\n",
    "import difflib  \n",
    "from difflib import get_close_matches  \n",
    "  \n",
    "# using the get_close_matches method  \n",
    "my_list = get_close_matches('mas', ['master', 'mask', 'duck', 'cow', 'mass', 'massive', 'python', 'butter'])  \n",
    "  \n",
    "# printing the list  \n",
    "print(\"Matching words:\", my_list)  "
   ]
  },
  {
   "cell_type": "code",
   "execution_count": 164,
   "id": "d92a3749",
   "metadata": {},
   "outputs": [
    {
     "name": "stdout",
     "output_type": "stream",
     "text": [
      "--- \n",
      "+++ \n",
      "@@ -1,6 +1,6 @@\n",
      "-Mark\n",
      "-Henry\n",
      "-Richard\n",
      "-Stella\n",
      "-Robin\n",
      "+Arthur\n",
      "+Joseph\n",
      "+Stacey\n",
      "+Harry\n",
      "+Emma\n",
      " Employees\n"
     ]
    }
   ],
   "source": [
    "# unified_diff to see what would have to be dropped and added to go from first string to second\n",
    "import sys  \n",
    "import difflib  \n",
    "from difflib import unified_diff  \n",
    "  \n",
    "# defining the string variables  \n",
    "str_1 = ['Mark\\n', 'Henry\\n', 'Richard\\n', 'Stella\\n', 'Robin\\n', 'Employees\\n']  \n",
    "str_2 = ['Arthur\\n', 'Joseph\\n', 'Stacey\\n', 'Harry\\n', 'Emma\\n', 'Employees\\n']  \n",
    "  \n",
    "# using the unified_diff() function  \n",
    "sys.stdout.writelines(unified_diff(str_1, str_2))  "
   ]
  },
  {
   "cell_type": "code",
   "execution_count": 165,
   "id": "90beb735",
   "metadata": {},
   "outputs": [
    {
     "name": "stdout",
     "output_type": "stream",
     "text": [
      "*** \n",
      "--- \n",
      "***************\n",
      "*** 1,6 ****\n",
      "! Mark\n",
      "! Henry\n",
      "! Richard\n",
      "! Stella\n",
      "! Robin\n",
      "  Employees\n",
      "--- 1,6 ----\n",
      "! Arthur\n",
      "! Joseph\n",
      "! Stacey\n",
      "! Harry\n",
      "! Emma\n",
      "  Employees\n"
     ]
    }
   ],
   "source": [
    "import sys  \n",
    "import difflib  \n",
    "from difflib import context_diff  \n",
    "  \n",
    "# defining the string variables  \n",
    "str_1 = ['Mark\\n', 'Henry\\n', 'Richard\\n', 'Stella\\n', 'Robin\\n', 'Employees\\n']  \n",
    "str_2 = ['Arthur\\n', 'Joseph\\n', 'Stacey\\n', 'Harry\\n', 'Emma\\n', 'Employees\\n']  \n",
    "  \n",
    "# using the context_diff() function  \n",
    "sys.stdout.writelines(context_diff(str_1, str_2))  "
   ]
  },
  {
   "cell_type": "code",
   "execution_count": 181,
   "id": "0182d352",
   "metadata": {},
   "outputs": [
    {
     "name": "stdout",
     "output_type": "stream",
     "text": [
      "a\n",
      "\n",
      "b\n",
      "\n"
     ]
    }
   ],
   "source": [
    "# use file.readline to read one line at a time, file.readlines() to read all\n",
    "# file.write() to append one line at a time\n",
    "import readline\n",
    "\n",
    "for char in 'abcdef':\n",
    "    with open(\"filename.txt\", \"a\") as file:\n",
    "        file.write(f'{char}\\n')\n",
    "    \n",
    "# Open the file in read-only mode\n",
    "with open(\"filename.txt\", \"r\") as file:\n",
    "    # Read a single line of text from the file\n",
    "    line = file.readline()\n",
    "    print(line)\n",
    "    line = file.readline()\n",
    "    print(line)"
   ]
  },
  {
   "cell_type": "code",
   "execution_count": 192,
   "id": "40323858",
   "metadata": {},
   "outputs": [
    {
     "data": {
      "text/plain": [
       "'LEFT CURLY BRACKET'"
      ]
     },
     "execution_count": 192,
     "metadata": {},
     "output_type": "execute_result"
    }
   ],
   "source": [
    "import unicodedata\n",
    "unicodedata.name('B')\n",
    "unicodedata.name('{')\n"
   ]
  },
  {
   "cell_type": "code",
   "execution_count": 195,
   "id": "9a8b91be",
   "metadata": {},
   "outputs": [
    {
     "data": {
      "text/plain": [
       "'Hello...'"
      ]
     },
     "execution_count": 195,
     "metadata": {},
     "output_type": "execute_result"
    }
   ],
   "source": [
    "import textwrap\n",
    "textwrap.shorten(\"Hello world\", width=10, placeholder=\"...\")"
   ]
  },
  {
   "cell_type": "code",
   "execution_count": 204,
   "id": "5fdf4ace",
   "metadata": {},
   "outputs": [
    {
     "name": "stdout",
     "output_type": "stream",
     "text": [
      "hello\n",
      "  world\n",
      "\n"
     ]
    }
   ],
   "source": [
    "s = '''\\\n",
    "    hello\n",
    "      world\n",
    "    '''\n",
    "print(textwrap.dedent(s))"
   ]
  },
  {
   "cell_type": "code",
   "execution_count": 215,
   "id": "d1fa55ed",
   "metadata": {},
   "outputs": [
    {
     "data": {
      "text/plain": [
       "'*hah    hello       world'"
      ]
     },
     "execution_count": 215,
     "metadata": {},
     "output_type": "execute_result"
    }
   ],
   "source": [
    "## giving rules to a TextWrapper class then applying it\n",
    "wrapper = textwrap.TextWrapper()\n",
    "wrapper.initial_indent = \"*hah\"\n",
    "wrapper.fill(s)"
   ]
  },
  {
   "cell_type": "code",
   "execution_count": 217,
   "id": "08d38238",
   "metadata": {},
   "outputs": [
    {
     "name": "stdout",
     "output_type": "stream",
     "text": [
      "2020-10-31 12:00:00-07:00\n"
     ]
    },
    {
     "data": {
      "text/plain": [
       "'PDT'"
      ]
     },
     "execution_count": 217,
     "metadata": {},
     "output_type": "execute_result"
    }
   ],
   "source": [
    "from zoneinfo import ZoneInfo\n",
    "from datetime import datetime, timedelta\n",
    "\n",
    "dt = datetime(2020, 10, 31, 12, tzinfo=ZoneInfo(\"America/Los_Angeles\"))\n",
    "print(dt)\n",
    "\n",
    "dt.tzname()\n"
   ]
  },
  {
   "cell_type": "code",
   "execution_count": 220,
   "id": "80d0fa5d",
   "metadata": {},
   "outputs": [
    {
     "data": {
      "text/plain": [
       "596"
      ]
     },
     "execution_count": 220,
     "metadata": {},
     "output_type": "execute_result"
    }
   ],
   "source": [
    "import zoneinfo \n",
    "len(zoneinfo.available_timezones())"
   ]
  },
  {
   "cell_type": "code",
   "execution_count": 221,
   "id": "2fc469f4",
   "metadata": {},
   "outputs": [
    {
     "data": {
      "text/plain": [
       "('/Users/adambricknell/opt/anaconda3/share/zoneinfo',\n",
       " '/Users/adambricknell/opt/anaconda3/share/tzinfo')"
      ]
     },
     "execution_count": 221,
     "metadata": {},
     "output_type": "execute_result"
    }
   ],
   "source": [
    "zoneinfo.TZPATH"
   ]
  },
  {
   "cell_type": "code",
   "execution_count": 278,
   "id": "5498eb0d",
   "metadata": {},
   "outputs": [
    {
     "name": "stdout",
     "output_type": "stream",
     "text": [
      "10\n",
      "None\n",
      "20\n"
     ]
    }
   ],
   "source": [
    "import weakref\n",
    "\n",
    "class MyClass:\n",
    "    def __init__(self, value):\n",
    "        self.value = value\n",
    "        self.current_btcs = 0\n",
    "    \n",
    "    def multi(self):\n",
    "        self.value = self.value * 2\n",
    "        \n",
    "    def minus(self):\n",
    "        self.value -= 5\n",
    "    \n",
    "    def buy_btc(self, amount, price):\n",
    "        self.current_btcs += amount\n",
    "        self.value -= amount * price\n",
    "        \n",
    "\n",
    "obj = MyClass(10)\n",
    "weak_ref = weakref.ref(obj)\n",
    "\n",
    "obj = weak_ref()\n",
    "print(obj.value)  # prints 10\n",
    "print(obj.multi())  # prints 10\n",
    "print(obj.value)  # prints 10\n"
   ]
  },
  {
   "cell_type": "code",
   "execution_count": 257,
   "id": "30c06c12",
   "metadata": {},
   "outputs": [],
   "source": [
    "aaa = 10"
   ]
  },
  {
   "cell_type": "code",
   "execution_count": 279,
   "id": "de0bf75a",
   "metadata": {},
   "outputs": [],
   "source": [
    "thing = MyClass(10)\n",
    "thing.buy_btc(2, 3)"
   ]
  },
  {
   "cell_type": "code",
   "execution_count": 281,
   "id": "ad15fe71",
   "metadata": {},
   "outputs": [
    {
     "name": "stdout",
     "output_type": "stream",
     "text": [
      "4\n",
      "2\n"
     ]
    }
   ],
   "source": [
    "print(thing.value)\n",
    "print(thing.current_btcs)"
   ]
  },
  {
   "cell_type": "code",
   "execution_count": 293,
   "id": "815fbe0a",
   "metadata": {},
   "outputs": [
    {
     "name": "stdout",
     "output_type": "stream",
     "text": [
      "RED\n",
      "1\n",
      "GREEN\n",
      "2\n",
      "BLUE\n",
      "3\n"
     ]
    },
    {
     "data": {
      "text/plain": [
       "[<Color.RED: 1>, <Color.GREEN: 2>, <Color.BLUE: 3>]"
      ]
     },
     "execution_count": 293,
     "metadata": {},
     "output_type": "execute_result"
    }
   ],
   "source": [
    "from enum import Enum\n",
    "Color = Enum('Color', ['RED', 'GREEN', 'BLUE'])\n",
    "for c in Color:\n",
    "    print(c.name)\n",
    "    print(c.value)\n",
    "list(Color)"
   ]
  },
  {
   "cell_type": "code",
   "execution_count": 298,
   "id": "6e88569e",
   "metadata": {},
   "outputs": [
    {
     "name": "stdout",
     "output_type": "stream",
     "text": [
      "delta\n",
      "red\n",
      "alpha\n",
      "blue\n"
     ]
    }
   ],
   "source": [
    "keywords = Enum('Keys', {'delta':'red', 'alpha':'blue'})\n",
    "for c in keywords:\n",
    "    print(c.name)\n",
    "    print(c.value)\n"
   ]
  },
  {
   "cell_type": "code",
   "execution_count": 301,
   "id": "ac3659f7",
   "metadata": {},
   "outputs": [
    {
     "data": {
      "text/plain": [
       "('A', 'C', 'B', 'D')"
      ]
     },
     "execution_count": 301,
     "metadata": {},
     "output_type": "execute_result"
    }
   ],
   "source": [
    "# topological sort only works if it's a directed acyclic grap\n",
    "from graphlib import TopologicalSorter\n",
    "graph = {\"D\": {\"B\", \"C\"}, \"C\": {\"A\"}, \"B\": {\"A\"}}\n",
    "ts = TopologicalSorter(graph)\n",
    "tuple(ts.static_order())\n"
   ]
  },
  {
   "cell_type": "code",
   "execution_count": 303,
   "id": "c2a2d0f5",
   "metadata": {},
   "outputs": [
    {
     "name": "stdout",
     "output_type": "stream",
     "text": [
      "Hello, my name is Alice\n"
     ]
    }
   ],
   "source": [
    "### Can assign a function to a new types class as a method\n",
    "import types\n",
    "\n",
    "# Define a new type called 'MyType'\n",
    "MyType = types.new_class('MyType')\n",
    "\n",
    "# Define a method for the type\n",
    "def greet(self):\n",
    "    print(f'Hello, my name is {self.name}')\n",
    "\n",
    "# Set the method as an attribute of the type\n",
    "MyType.greet = greet\n",
    "\n",
    "# Create an instance of the type\n",
    "obj = MyType()\n",
    "obj.name = 'Alice'\n",
    "\n",
    "# Call the method on the instance\n",
    "obj.greet()  # prints \"Hello, my name is Alice\"\n"
   ]
  },
  {
   "cell_type": "code",
   "execution_count": 305,
   "id": "109b9f2a",
   "metadata": {},
   "outputs": [
    {
     "data": {
      "text/plain": [
       "True"
      ]
     },
     "execution_count": 305,
     "metadata": {},
     "output_type": "execute_result"
    }
   ],
   "source": [
    "from types import GenericAlias\n",
    "\n",
    "list[int] == GenericAlias(list, (int,))\n",
    "\n",
    "dict[str, int] == GenericAlias(dict, (str, int))"
   ]
  },
  {
   "cell_type": "code",
   "execution_count": 341,
   "id": "3f4f7775",
   "metadata": {},
   "outputs": [
    {
     "data": {
      "text/plain": [
       "[2, 3, 4]"
      ]
     },
     "execution_count": 341,
     "metadata": {},
     "output_type": "execute_result"
    }
   ],
   "source": [
    "import types\n",
    "IntList = types.GenericAlias('IntList', list[int])\n",
    "\n",
    "def test_function(x: IntList):\n",
    "    \"\"\"Add 1 to all values in list of ints\"\"\"\n",
    "    if not isinstance(x[0], int):\n",
    "        raise TypeError('Input must be an integer')\n",
    "    return [c+1 for c in x]\n",
    "\n",
    "test_function([1,2,3])\n"
   ]
  },
  {
   "cell_type": "code",
   "execution_count": 345,
   "id": "4941f735",
   "metadata": {},
   "outputs": [
    {
     "data": {
      "text/plain": [
       "collections.abc.Sequence"
      ]
     },
     "execution_count": 345,
     "metadata": {},
     "output_type": "execute_result"
    }
   ],
   "source": [
    "from collections.abc import Sequence\n",
    "Sequence"
   ]
  },
  {
   "cell_type": "code",
   "execution_count": null,
   "id": "18df3b42",
   "metadata": {},
   "outputs": [],
   "source": []
  },
  {
   "cell_type": "code",
   "execution_count": null,
   "id": "96f50881",
   "metadata": {},
   "outputs": [],
   "source": []
  },
  {
   "cell_type": "code",
   "execution_count": null,
   "id": "c23d83de",
   "metadata": {},
   "outputs": [],
   "source": []
  },
  {
   "cell_type": "code",
   "execution_count": null,
   "id": "f6b1bb23",
   "metadata": {},
   "outputs": [],
   "source": []
  },
  {
   "cell_type": "code",
   "execution_count": null,
   "id": "9c684e13",
   "metadata": {},
   "outputs": [],
   "source": []
  },
  {
   "cell_type": "code",
   "execution_count": null,
   "id": "35815df0",
   "metadata": {},
   "outputs": [],
   "source": []
  },
  {
   "cell_type": "code",
   "execution_count": null,
   "id": "2f2bfd6c",
   "metadata": {},
   "outputs": [],
   "source": []
  },
  {
   "cell_type": "code",
   "execution_count": null,
   "id": "afb07b2d",
   "metadata": {},
   "outputs": [],
   "source": []
  }
 ],
 "metadata": {
  "kernelspec": {
   "display_name": "Python 3 (ipykernel)",
   "language": "python",
   "name": "python3"
  },
  "language_info": {
   "codemirror_mode": {
    "name": "ipython",
    "version": 3
   },
   "file_extension": ".py",
   "mimetype": "text/x-python",
   "name": "python",
   "nbconvert_exporter": "python",
   "pygments_lexer": "ipython3",
   "version": "3.9.7"
  }
 },
 "nbformat": 4,
 "nbformat_minor": 5
}
