{
 "cells": [
  {
   "cell_type": "code",
   "execution_count": null,
   "id": "0311119f",
   "metadata": {},
   "outputs": [],
   "source": [
    "## iterators\n",
    "mytuple = (\"apple\", \"banana\", \"cherry\")\n",
    "myit = iter(mytuple)\n",
    "next(myit)\n",
    "\n",
    "\n",
    "# __iter__ method works like __init__, but the variable is iterable\n",
    "class MyNumbers:\n",
    "  def __iter__(self):\n",
    "    self.a = 1\n",
    "    return self\n",
    "\n",
    "  def __next__(self):\n",
    "    x = self.a\n",
    "    self.a += 1\n",
    "    return x\n",
    "\n",
    "myclass = MyNumbers()\n",
    "myiter = iter(myclass)\n",
    "\n",
    "print(next(myiter))\n",
    "print(next(myiter))\n",
    "print(next(myiter))\n",
    "print(next(myiter))\n",
    "print(next(myiter))\n",
    "\n",
    "\n",
    "## raise StopIteration to make it loop up to a point with 'for'\n",
    "class MyNumbers:\n",
    "  def __iter__(self):\n",
    "    self.a = 1\n",
    "    return self\n",
    "\n",
    "  def __next__(self):\n",
    "    if self.a <= 20:\n",
    "      x = self.a\n",
    "      self.a += 1\n",
    "      return x\n",
    "    else:\n",
    "      raise StopIteration\n",
    "\n",
    "myclass = MyNumbers()\n",
    "myiter = iter(myclass)\n",
    "\n",
    "for x in myiter:\n",
    "  print(x)"
   ]
  },
  {
   "cell_type": "code",
   "execution_count": null,
   "id": "0147a58c",
   "metadata": {},
   "outputs": [],
   "source": [
    "# creating a generator by using 'yield' as part of __iter__\n",
    "class MyIterable:\n",
    "    def __init__(self, data):\n",
    "        self.data = data\n",
    "\n",
    "    def __iter__(self):\n",
    "        for x in self.data:\n",
    "            yield x\n",
    "            \n",
    "\n",
    "my_iterable = MyIterable([1, 2, 3])\n",
    "for x in my_iterable:\n",
    "    print(x)"
   ]
  },
  {
   "cell_type": "code",
   "execution_count": null,
   "id": "c9f7c045",
   "metadata": {},
   "outputs": [],
   "source": [
    "'aioho422'.zfill(100)"
   ]
  },
  {
   "cell_type": "code",
   "execution_count": null,
   "id": "04cfd439",
   "metadata": {},
   "outputs": [],
   "source": [
    "v = memoryview(b'abcefg')\n",
    "for l in v:\n",
    "    print(l)"
   ]
  },
  {
   "cell_type": "code",
   "execution_count": null,
   "id": "60da4858",
   "metadata": {},
   "outputs": [],
   "source": [
    "## memoryview\n",
    "import array\n",
    "a = array.array('l', [-11111111, 22222222, -33333333, 44444444])\n",
    "m = memoryview(a)\n",
    "m[1]\n",
    "\n"
   ]
  },
  {
   "cell_type": "code",
   "execution_count": null,
   "id": "b0ae3f98",
   "metadata": {},
   "outputs": [],
   "source": [
    "# memoryview object can be hashed\n",
    "v = memoryview(b'abcefg')\n",
    "hash(v) == hash(b'abcefg')"
   ]
  },
  {
   "cell_type": "code",
   "execution_count": null,
   "id": "773b31ab",
   "metadata": {},
   "outputs": [],
   "source": [
    "b\"abc\".hex()"
   ]
  },
  {
   "cell_type": "code",
   "execution_count": null,
   "id": "bf0397cc",
   "metadata": {},
   "outputs": [],
   "source": [
    "my_bytearray = bytearray(b'Hello, world!')\n",
    "mv = memoryview(my_bytearray)\n",
    "\n",
    "# Do something with the memoryview\n",
    "mv[0]=101\n",
    "\n",
    "# Release the memory associated with the memoryview\n",
    "mv.release()\n",
    "\n",
    "# view change\n",
    "my_bytearray"
   ]
  },
  {
   "cell_type": "code",
   "execution_count": null,
   "id": "575d8241",
   "metadata": {},
   "outputs": [],
   "source": [
    "hash(frozenset([1,2,3]))"
   ]
  },
  {
   "cell_type": "code",
   "execution_count": null,
   "id": "1cb92b72",
   "metadata": {},
   "outputs": [],
   "source": [
    "d = {\"one\": 1, \"two\": 2, \"three\": 3, \"four\": 4}\n",
    "for i in reversed(d.items()):\n",
    "    print(i)\n",
    "    d[i[0]] = 3\n",
    "d"
   ]
  },
  {
   "cell_type": "code",
   "execution_count": null,
   "id": "b3520f17",
   "metadata": {},
   "outputs": [],
   "source": [
    "for k,v in d.items():\n",
    "    d[k] = 2\n",
    "d"
   ]
  },
  {
   "cell_type": "code",
   "execution_count": null,
   "id": "9589c4b0",
   "metadata": {},
   "outputs": [],
   "source": [
    "type(d.keys())"
   ]
  },
  {
   "cell_type": "code",
   "execution_count": null,
   "id": "4ec3a8bb",
   "metadata": {},
   "outputs": [],
   "source": [
    "# confirm d (a dict) is a mapping object\n",
    "import collections.abc\n",
    "isinstance(d, collections.abc.Mapping)"
   ]
  },
  {
   "cell_type": "code",
   "execution_count": null,
   "id": "60828e11",
   "metadata": {},
   "outputs": [],
   "source": [
    "# Create a custom mapping object: ie a dictionary with extra methods\n",
    "class MyMapping(collections.abc.Mapping):\n",
    "    def __init__(self, data):\n",
    "        self._data = data\n",
    "\n",
    "    def __getitem__(self, key):\n",
    "        return self._data[key]\n",
    "    \n",
    "    def __setitem__(self, key, newdata):\n",
    "        self._data[key] = newdata\n",
    "    \n",
    "    def __iter__(self):\n",
    "        for x in self._data:\n",
    "            yield x\n",
    "            \n",
    "    def __len__(self):\n",
    "        l = 0\n",
    "        for i in self:\n",
    "            l += 1\n",
    "        return l\n",
    "    \n",
    "k = MyMapping({1:2, 3:4})\n",
    "print(len(k))\n",
    "print(k[3])\n",
    "for v in k.items():\n",
    "    print(v)\n",
    "k[2] = 5\n",
    "print(k[2])"
   ]
  },
  {
   "cell_type": "code",
   "execution_count": null,
   "id": "660848a5",
   "metadata": {},
   "outputs": [],
   "source": [
    "type(Ellipsis)()"
   ]
  },
  {
   "cell_type": "code",
   "execution_count": null,
   "id": "22dea67f",
   "metadata": {},
   "outputs": [],
   "source": [
    "Ellipsis"
   ]
  },
  {
   "cell_type": "code",
   "execution_count": null,
   "id": "1d61e8c7",
   "metadata": {},
   "outputs": [],
   "source": [
    "### Can use Ellipsis in slicing and indexing: doesn't seem useful\n",
    "my_list = [1, 2, 3, 4, 5, 6]\n",
    "\n",
    "# Use Ellipsis to include all elements up to the fourth element\n",
    "print(my_list[:Ellipsis, 4])  # [1, 2, 3, 4]\n",
    "\n",
    "# Use Ellipsis to include all elements after the second element\n",
    "print(my_list[2, Ellipsis])  # [3, 4, 5, 6]\n",
    "\n",
    "# Use Ellipsis to include all elements\n",
    "print(my_list[Ellipsis])  # [1, 2, 3, 4, 5, 6]\n"
   ]
  },
  {
   "cell_type": "code",
   "execution_count": null,
   "id": "69bdeddc",
   "metadata": {},
   "outputs": [],
   "source": [
    "## NotImplemented shows user that method isn't made: inheriting class might want to create it\n",
    "\n",
    "class MyNumber:\n",
    "    def __add__(self, other):\n",
    "        # Implement __add__\n",
    "        pass\n",
    "\n",
    "    def __radd__(self, other):\n",
    "        # Return NotImplemented to delegate __radd__ to another object\n",
    "        return NotImplemented\n",
    "\n",
    "# Define a class that implements __radd__\n",
    "class MyOtherNumber:\n",
    "    def __radd__(self, other):\n",
    "        # Implement __radd__\n",
    "        pass\n",
    "\n",
    "MyNumber() + 2"
   ]
  },
  {
   "cell_type": "code",
   "execution_count": null,
   "id": "fa09bcee",
   "metadata": {},
   "outputs": [],
   "source": [
    "class MyNumber:\n",
    "    def __init__(self, value):\n",
    "        self.value = value\n",
    "\n",
    "    def __radd__(self, other):\n",
    "        # Return the sum of the other object and the value of the MyNumber object\n",
    "        return other + self.value\n",
    "\n",
    "# Create an object of the MyNumber class\n",
    "my_number = MyNumber(10)\n",
    "\n",
    "# this works\n",
    "5 + my_number\n",
    "\n",
    "# this would need __add__: my_number + 5\n"
   ]
  },
  {
   "cell_type": "code",
   "execution_count": null,
   "id": "e1a73046",
   "metadata": {},
   "outputs": [],
   "source": [
    "# an async contextlib\n",
    "import contextlib\n",
    "import asyncio\n",
    "import requests\n",
    "@contextlib.asynccontextmanager\n",
    "async def get_google():\n",
    "    # Connect to the database\n",
    "    vals = requests.get('http://www.google.com')\n",
    "    try:\n",
    "        # Yield the connection\n",
    "        yield vals\n",
    "    finally:\n",
    "        # Close the connection\n",
    "        print('closed')\n",
    "async def main():\n",
    "    # Use the context manager to get a database connection\n",
    "    async with get_google() as google_txt:\n",
    "        print(google_txt.text)   \n",
    "# run one of the below 2 lines: need to start a new event loop if you've run loop.close()\n",
    "loop = asyncio.get_event_loop()\n",
    "loop = asyncio.new_event_loop()\n",
    "loop.run_until_complete(main())\n",
    "loop.close()"
   ]
  },
  {
   "cell_type": "code",
   "execution_count": null,
   "id": "5c1e70eb",
   "metadata": {},
   "outputs": [],
   "source": [
    "# this is a perfectly fine way to make a custom exception\n",
    "class MyException(Exception):\n",
    "    \"\"\"Docstring for what the exception means\"\"\"\n",
    "\n",
    "raise MyException({\"message\":\"My hovercraft is full of animals\", \"animal\":\"eels\"})\n"
   ]
  },
  {
   "cell_type": "code",
   "execution_count": null,
   "id": "f5a8d760",
   "metadata": {},
   "outputs": [],
   "source": [
    "# more complicated way https://stackoverflow.com/questions/1319615/proper-way-to-declare-custom-exceptions-in-modern-python\n",
    "try:\n",
    "    raise MyException({\"message\":\"My hovercraft is full of animals\", \"animal\":\"eels\"})\n",
    "except MyException as e:\n",
    "    details = e.args[0]\n",
    "    print(details[\"animal\"])\n"
   ]
  },
  {
   "cell_type": "code",
   "execution_count": null,
   "id": "f674a76a",
   "metadata": {},
   "outputs": [],
   "source": [
    "### Q: why make custom exception class? \n",
    "### A: more descriptive and meaningful error message; make the error specific to your library\n",
    "\n",
    "# how to make a custom exception class?\n",
    "class MyAppValueError(ValueError):\n",
    "    '''Raise when a specific subset of values in context of app is wrong'''\n",
    "    def __init__(self, message, foo, *args):\n",
    "        self.message = message # without this you may get DeprecationWarning\n",
    "        # Special attribute you desire with your Error, \n",
    "        # perhaps the value that caused the error?:\n",
    "        self.foo = foo         \n",
    "        # allow users initialize misc. arguments as any other builtin Error\n",
    "        super(MyAppValueError, self).__init__(message, foo, *args) \n",
    "\n",
    "raise MyAppValueError('msg for user', 'something else', 'wasteman')\n"
   ]
  },
  {
   "cell_type": "code",
   "execution_count": null,
   "id": "5f95867c",
   "metadata": {},
   "outputs": [],
   "source": [
    "class NetworkError(Exception):\n",
    "    def __init__(self, message, errors):\n",
    "        super().__init__(message)\n",
    "        self.errors = errors\n",
    "raise NetworkError('A network error occurred', ['Error 1', 'Error 2'])"
   ]
  },
  {
   "cell_type": "code",
   "execution_count": null,
   "id": "11e7da48",
   "metadata": {},
   "outputs": [],
   "source": [
    "# can catch multiple types of error and get info on the error\n",
    "try:\n",
    "    int('asfg'+'aa'+'3f2w4g')\n",
    "except (RuntimeError, TypeError, NameError, ValueError) as e:\n",
    "    print(type(e))\n",
    "    print(e.args)\n",
    "    print('value was asfg')\n",
    "    print(e) "
   ]
  },
  {
   "cell_type": "code",
   "execution_count": null,
   "id": "e2891434",
   "metadata": {},
   "outputs": [],
   "source": [
    "# try/except can catch errors which propagate from called functions\n",
    "def this_fails():\n",
    "    x = 1/0\n",
    "try:\n",
    "    this_fails()\n",
    "except ZeroDivisionError as err:\n",
    "    print('Handling run-time error:', err)"
   ]
  },
  {
   "cell_type": "markdown",
   "id": "3fc5d355",
   "metadata": {},
   "source": [
    "finally is executed regardless of whether the statements in the try block fail or succeed. else is executed only if the statements in the try block don't raise an exception.\n",
    "\n",
    "https://stackoverflow.com/questions/6051934/purpose-of-else-and-finally-in-exception-handling"
   ]
  },
  {
   "cell_type": "code",
   "execution_count": null,
   "id": "b9f7dda9",
   "metadata": {},
   "outputs": [],
   "source": [
    "# if open() in try fails, then exception is run, then runtime returns to rest of try statement: this is \n",
    "# true for OSError but not KeyError, which if called *does* skip the else section\n",
    "for arg in sys.argv[1:]:\n",
    "    f = None\n",
    "    d = {4:3}\n",
    "    try:\n",
    "        f = open(arg, 'r')\n",
    "        print('still running after OSError is raised!' + d[3])\n",
    "        print('a')\n",
    "    except OSError:\n",
    "        print('cannot open', arg)\n",
    "    except KeyError as e:\n",
    "        print(e)\n",
    "    else:\n",
    "        print('hahaha')   \n",
    "        print(arg, 'has', len(f.readlines()), 'lines')\n",
    "    finally:\n",
    "        #print(arg, 'has', len(f.readlines()), 'lines')\n",
    "        print('ho')\n",
    "        if f:\n",
    "            f.close()\n"
   ]
  },
  {
   "cell_type": "code",
   "execution_count": null,
   "id": "5e171d8c",
   "metadata": {},
   "outputs": [],
   "source": [
    "# getting info on specific error raised. Also can store 'context' for later\n",
    "import traceback\n",
    "d={4:3}\n",
    "try:\n",
    "    d[3]\n",
    "except Exception as e:\n",
    "    context = {\n",
    "        'error_type': e.__class__.__name__,\n",
    "        'error_message': str(e),\n",
    "        'error_traceback': traceback.format_exc(),\n",
    "        'error_keys':dir(e),\n",
    "        'args':e.args\n",
    "    }\n",
    "    raise Exception(context)\n"
   ]
  },
  {
   "cell_type": "code",
   "execution_count": null,
   "id": "3b7359d6",
   "metadata": {},
   "outputs": [],
   "source": [
    "# raise exception with tracebacks\n",
    "# More tracebacks here: https://docs.python.org/3/library/traceback.html\n",
    "import traceback\n",
    "d={4:3}\n",
    "try:\n",
    "    d[3]\n",
    "except Exception as e:\n",
    "    context = {\n",
    "        'error_type': e.__class__.__name__,\n",
    "        'error_message': str(e),\n",
    "        'error_traceback': traceback.format_exc(),\n",
    "        'exception':traceback.print_last(),\n",
    "        'error_traceback_stack': traceback.extract_stack(),\n",
    "        #'error_traceback': traceback.format_list(),\n",
    "        #'error_traceback': traceback.walk_stack(),\n",
    "        'error_keys':dir(e),\n",
    "        'args':e.args\n",
    "    }\n",
    "    \n",
    "    # could store traceback here\n",
    "    \n",
    "    raise Exception(context)\n"
   ]
  },
  {
   "cell_type": "code",
   "execution_count": null,
   "id": "a45c1b7d",
   "metadata": {},
   "outputs": [],
   "source": [
    "context['exception']"
   ]
  },
  {
   "cell_type": "code",
   "execution_count": null,
   "id": "5db52fee",
   "metadata": {},
   "outputs": [],
   "source": [
    "context['error_traceback_stack']"
   ]
  },
  {
   "cell_type": "code",
   "execution_count": null,
   "id": "7506f760",
   "metadata": {},
   "outputs": [],
   "source": [
    "## write to sqlite db\n",
    "import sqlite3\n",
    "\n",
    "# Connect to the database\n",
    "conn = sqlite3.connect('mydatabase.db')\n",
    "\n",
    "# Create a cursor object\n",
    "cursor = conn.cursor()\n",
    "\n",
    "value1='a'\n",
    "value2='b'\n",
    "table_name='haha'\n",
    "\n",
    "# Execute a CREATE TABLE statement: do this if table doesn't exist yet\n",
    "#cursor.execute(\"CREATE TABLE table_name (column1 datatype, column2 datatype)\")\n",
    "\n",
    "# Execute an INSERT statement\n",
    "cursor.execute(\"INSERT INTO table_name (column1, column2) VALUES (?, ?)\", (value1, value2))\n",
    "\n",
    "# Commit the changes to the database\n",
    "conn.commit()\n",
    "\n",
    "# view all tables\n",
    "cursor.execute(\"SELECT name FROM sqlite_master WHERE type='table'\")\n",
    "print(cursor.fetchall())\n",
    "\n",
    "# Close the connection\n",
    "conn.close()\n",
    "\n"
   ]
  },
  {
   "cell_type": "code",
   "execution_count": null,
   "id": "c2105504",
   "metadata": {},
   "outputs": [],
   "source": [
    "# warnings: can raise generic warning or a category of warning\n",
    "import warnings\n",
    "\n",
    "def function_with_warning():\n",
    "    warnings.warn(\"This is a warning message.\")\n",
    "function_with_warning()\n",
    "\n",
    "def function_with_warning():\n",
    "    warnings.warn(\"This is a warning message.\", category=UserWarning)\n",
    "function_with_warning()\n"
   ]
  },
  {
   "cell_type": "code",
   "execution_count": null,
   "id": "561d74de",
   "metadata": {},
   "outputs": [],
   "source": [
    "# can make a custom class of warning\n",
    "import warnings\n",
    "\n",
    "class CustomWarning(Warning):\n",
    "    print('this warning is all kinds of bad')\n",
    "\n",
    "def function_with_warning():\n",
    "    warnings.warn(\"This is a custom warning message.\", category=CustomWarning)\n",
    "\n",
    "function_with_warning()\n"
   ]
  },
  {
   "cell_type": "code",
   "execution_count": null,
   "id": "930d26dd",
   "metadata": {},
   "outputs": [],
   "source": [
    "# raising custom exception message\n",
    "class CustomException(Exception):\n",
    "    def __init__(self, message):\n",
    "        super().__init__(message)\n",
    "        self.message = message\n",
    "\n",
    "def function_that_raises_exception():\n",
    "    raise CustomException(\"This is a custom exception message.\")\n",
    "\n",
    "try:\n",
    "    function_that_raises_exception()\n",
    "except CustomException as e:\n",
    "    print(e)\n"
   ]
  },
  {
   "cell_type": "code",
   "execution_count": null,
   "id": "b10952f9",
   "metadata": {},
   "outputs": [],
   "source": [
    "def f():\n",
    "    excs = [OSError('error 1'), SystemError('error 2')]\n",
    "    raise ExceptionGroup('there were problems', excs)\n",
    "f()"
   ]
  },
  {
   "cell_type": "code",
   "execution_count": null,
   "id": "8dc19186",
   "metadata": {},
   "outputs": [],
   "source": [
    "# SequenceMatcher class shows how similar two strings are;\n",
    "# Differ class shows how much they differ\n",
    "\n",
    "import difflib  \n",
    "from difflib import SequenceMatcher  \n",
    "# defining the strings  \n",
    "str_1 = \"Welcome to Javatpoint\"  \n",
    "str_2 = \"Welcome to Python tutorial\"  \n",
    "  \n",
    "# using the SequenceMatcher() function  \n",
    "my_seq = SequenceMatcher(a = str_1, b = str_2)  \n",
    "  \n",
    "# printing the result  \n",
    "print(\"First String:\", str_1)  \n",
    "print(\"Second String:\", str_2)  \n",
    "print(\"Sequence Matched:\", my_seq.ratio())    # the ratio of identical characters in the two strings,"
   ]
  },
  {
   "cell_type": "code",
   "execution_count": null,
   "id": "f95ac6b5",
   "metadata": {},
   "outputs": [],
   "source": [
    "\n",
    "import difflib  \n",
    "from difflib import Differ  \n",
    "  \n",
    "# defining the strings  \n",
    "str_1 = \"They would like to order a soft drink\"  \n",
    "str_2 = \"They would like to order a corn pizza\"  \n",
    "  \n",
    "# using the splitlines() function  \n",
    "lines_str1 = str_1.splitlines()  \n",
    "lines_str2 = str_2.splitlines()  \n",
    "  \n",
    "# using the Differ() and compare() function  \n",
    "dif = difflib.Differ()  \n",
    "my_diff = dif.compare(lines_str1, lines_str2)  \n",
    "  \n",
    "# printing the results  \n",
    "print(\"First String:\", str_1)  \n",
    "print(\"Second String:\", str_2)  \n",
    "print(\"Difference between the Strings:\")  \n",
    "print('\\n'.join(my_diff)) "
   ]
  },
  {
   "cell_type": "code",
   "execution_count": null,
   "id": "f7427612",
   "metadata": {},
   "outputs": [],
   "source": [
    "'\\n'.join(dif.compare(lines_str1, lines_str2))"
   ]
  },
  {
   "cell_type": "code",
   "execution_count": null,
   "id": "18212552",
   "metadata": {},
   "outputs": [],
   "source": [
    "# get words which are similar to given string\n",
    "# uses a cutoff of % of letters which are in both strings\n",
    "\n",
    "import difflib  \n",
    "from difflib import get_close_matches  \n",
    "  \n",
    "# using the get_close_matches method  \n",
    "my_list = get_close_matches('mas', ['master', 'mask', 'duck', 'cow', 'mass', 'massive', 'python', 'butter'])  \n",
    "  \n",
    "# printing the list  \n",
    "print(\"Matching words:\", my_list)  "
   ]
  },
  {
   "cell_type": "code",
   "execution_count": null,
   "id": "476813c9",
   "metadata": {},
   "outputs": [],
   "source": [
    "# unified_diff to see what would have to be dropped and added to go from first string to second\n",
    "import sys  \n",
    "import difflib  \n",
    "from difflib import unified_diff  \n",
    "  \n",
    "# defining the string variables  \n",
    "str_1 = ['Mark\\n', 'Henry\\n', 'Richard\\n', 'Stella\\n', 'Robin\\n', 'Employees\\n']  \n",
    "str_2 = ['Arthur\\n', 'Joseph\\n', 'Stacey\\n', 'Harry\\n', 'Emma\\n', 'Employees\\n']  \n",
    "  \n",
    "# using the unified_diff() function  \n",
    "sys.stdout.writelines(unified_diff(str_1, str_2))  "
   ]
  },
  {
   "cell_type": "code",
   "execution_count": null,
   "id": "7b656925",
   "metadata": {},
   "outputs": [],
   "source": [
    "import sys  \n",
    "import difflib  \n",
    "from difflib import context_diff  \n",
    "  \n",
    "# defining the string variables  \n",
    "str_1 = ['Mark\\n', 'Henry\\n', 'Richard\\n', 'Stella\\n', 'Robin\\n', 'Employees\\n']  \n",
    "str_2 = ['Arthur\\n', 'Joseph\\n', 'Stacey\\n', 'Harry\\n', 'Emma\\n', 'Employees\\n']  \n",
    "  \n",
    "# using the context_diff() function  \n",
    "sys.stdout.writelines(context_diff(str_1, str_2))  "
   ]
  },
  {
   "cell_type": "code",
   "execution_count": null,
   "id": "c91fa877",
   "metadata": {},
   "outputs": [],
   "source": [
    "# use file.readline to read one line at a time, file.readlines() to read all\n",
    "# file.write() to append one line at a time\n",
    "import readline\n",
    "\n",
    "for char in 'abcdef':\n",
    "    with open(\"filename.txt\", \"a\") as file:\n",
    "        file.write(f'{char}\\n')\n",
    "    \n",
    "# Open the file in read-only mode\n",
    "with open(\"filename.txt\", \"r\") as file:\n",
    "    # Read a single line of text from the file\n",
    "    line = file.readline()\n",
    "    print(line)\n",
    "    line = file.readline()\n",
    "    print(line)"
   ]
  },
  {
   "cell_type": "code",
   "execution_count": null,
   "id": "7f717b01",
   "metadata": {},
   "outputs": [],
   "source": [
    "import unicodedata\n",
    "unicodedata.name('B')\n",
    "unicodedata.name('{')\n"
   ]
  },
  {
   "cell_type": "code",
   "execution_count": null,
   "id": "d9f86125",
   "metadata": {},
   "outputs": [],
   "source": [
    "import textwrap\n",
    "textwrap.shorten(\"Hello world\", width=10, placeholder=\"...\")"
   ]
  },
  {
   "cell_type": "code",
   "execution_count": null,
   "id": "17972933",
   "metadata": {},
   "outputs": [],
   "source": [
    "s = '''\\\n",
    "    hello\n",
    "      world\n",
    "    '''\n",
    "print(textwrap.dedent(s))"
   ]
  },
  {
   "cell_type": "code",
   "execution_count": null,
   "id": "188bb07b",
   "metadata": {},
   "outputs": [],
   "source": [
    "## giving rules to a TextWrapper class then applying it\n",
    "wrapper = textwrap.TextWrapper()\n",
    "wrapper.initial_indent = \"*hah\"\n",
    "wrapper.fill(s)"
   ]
  },
  {
   "cell_type": "code",
   "execution_count": null,
   "id": "1c0c0ae5",
   "metadata": {},
   "outputs": [],
   "source": [
    "from zoneinfo import ZoneInfo\n",
    "from datetime import datetime, timedelta\n",
    "\n",
    "dt = datetime(2020, 10, 31, 12, tzinfo=ZoneInfo(\"America/Los_Angeles\"))\n",
    "print(dt)\n",
    "\n",
    "dt.tzname()\n"
   ]
  },
  {
   "cell_type": "code",
   "execution_count": null,
   "id": "43689ff1",
   "metadata": {},
   "outputs": [],
   "source": [
    "import zoneinfo \n",
    "len(zoneinfo.available_timezones())"
   ]
  },
  {
   "cell_type": "code",
   "execution_count": null,
   "id": "48b59d28",
   "metadata": {},
   "outputs": [],
   "source": [
    "zoneinfo.TZPATH"
   ]
  },
  {
   "cell_type": "code",
   "execution_count": null,
   "id": "2460c3c2",
   "metadata": {},
   "outputs": [],
   "source": [
    "import weakref\n",
    "\n",
    "class MyClass:\n",
    "    def __init__(self, value):\n",
    "        self.value = value\n",
    "        self.current_btcs = 0\n",
    "    \n",
    "    def multi(self):\n",
    "        self.value = self.value * 2\n",
    "        \n",
    "    def minus(self):\n",
    "        self.value -= 5\n",
    "    \n",
    "    def buy_btc(self, amount, price):\n",
    "        self.current_btcs += amount\n",
    "        self.value -= amount * price\n",
    "        \n",
    "\n",
    "obj = MyClass(10)\n",
    "weak_ref = weakref.ref(obj)\n",
    "\n",
    "obj = weak_ref()\n",
    "print(obj.value)  # prints 10\n",
    "print(obj.multi())  # prints 10\n",
    "print(obj.value)  # prints 10\n"
   ]
  },
  {
   "cell_type": "code",
   "execution_count": null,
   "id": "970e37ca",
   "metadata": {},
   "outputs": [],
   "source": [
    "aaa = 10"
   ]
  },
  {
   "cell_type": "code",
   "execution_count": null,
   "id": "f3d0740b",
   "metadata": {},
   "outputs": [],
   "source": [
    "thing = MyClass(10)\n",
    "thing.buy_btc(2, 3)"
   ]
  },
  {
   "cell_type": "code",
   "execution_count": null,
   "id": "e33db425",
   "metadata": {},
   "outputs": [],
   "source": [
    "print(thing.value)\n",
    "print(thing.current_btcs)"
   ]
  },
  {
   "cell_type": "code",
   "execution_count": null,
   "id": "0014e4e2",
   "metadata": {},
   "outputs": [],
   "source": [
    "from enum import Enum\n",
    "Color = Enum('Color', ['RED', 'GREEN', 'BLUE'])\n",
    "for c in Color:\n",
    "    print(c.name)\n",
    "    print(c.value)\n",
    "list(Color)"
   ]
  },
  {
   "cell_type": "code",
   "execution_count": null,
   "id": "34de8318",
   "metadata": {},
   "outputs": [],
   "source": [
    "keywords = Enum('Keys', {'delta':'red', 'alpha':'blue'})\n",
    "for c in keywords:\n",
    "    print(c.name)\n",
    "    print(c.value)\n"
   ]
  },
  {
   "cell_type": "code",
   "execution_count": null,
   "id": "f0550f52",
   "metadata": {},
   "outputs": [],
   "source": [
    "# topological sort only works if it's a directed acyclic grap\n",
    "from graphlib import TopologicalSorter\n",
    "graph = {\"D\": {\"B\", \"C\"}, \"C\": {\"A\"}, \"B\": {\"A\"}}\n",
    "ts = TopologicalSorter(graph)\n",
    "tuple(ts.static_order())\n"
   ]
  },
  {
   "cell_type": "code",
   "execution_count": null,
   "id": "0544dd2c",
   "metadata": {},
   "outputs": [],
   "source": [
    "### Can assign a function to a new types class as a method\n",
    "import types\n",
    "\n",
    "# Define a new type called 'MyType'\n",
    "MyType = types.new_class('MyType')\n",
    "\n",
    "# Define a method for the type\n",
    "def greet(self):\n",
    "    print(f'Hello, my name is {self.name}')\n",
    "\n",
    "# Set the method as an attribute of the type\n",
    "MyType.greet = greet\n",
    "\n",
    "# Create an instance of the type\n",
    "obj = MyType()\n",
    "obj.name = 'Alice'\n",
    "\n",
    "# Call the method on the instance\n",
    "obj.greet()  # prints \"Hello, my name is Alice\"\n"
   ]
  },
  {
   "cell_type": "code",
   "execution_count": null,
   "id": "6931eea6",
   "metadata": {},
   "outputs": [],
   "source": [
    "from types import GenericAlias\n",
    "\n",
    "list[int] == GenericAlias(list, (int,))\n",
    "\n",
    "dict[str, int] == GenericAlias(dict, (str, int))"
   ]
  },
  {
   "cell_type": "code",
   "execution_count": null,
   "id": "4b689319",
   "metadata": {},
   "outputs": [],
   "source": [
    "import types\n",
    "IntList = types.GenericAlias('IntList', list[int])\n",
    "\n",
    "def test_function(x: IntList):\n",
    "    \"\"\"Add 1 to all values in list of ints\"\"\"\n",
    "    if not isinstance(x[0], int):\n",
    "        raise TypeError('Input must be an integer')\n",
    "    return [c+1 for c in x]\n",
    "\n",
    "test_function([1,2,3])\n"
   ]
  },
  {
   "cell_type": "code",
   "execution_count": null,
   "id": "86fb03ea",
   "metadata": {},
   "outputs": [],
   "source": [
    "from collections.abc import Sequence\n",
    "Sequence"
   ]
  },
  {
   "cell_type": "code",
   "execution_count": null,
   "id": "223e661c",
   "metadata": {},
   "outputs": [],
   "source": [
    "from dataclasses import dataclass\n",
    "\n",
    "@dataclass\n",
    "class InventoryItem:\n",
    "    \"\"\"Class for keeping track of an item in inventory.\"\"\"\n",
    "    name: str\n",
    "    unit_price: float\n",
    "    quantity_on_hand: int = 0\n",
    "\n",
    "    def total_cost(self) -> float:\n",
    "        return self.unit_price * self.quantity_on_hand\n",
    "    \n",
    "InventoryItem('adam', 15, 2).total_cost()"
   ]
  },
  {
   "cell_type": "code",
   "execution_count": null,
   "id": "4c695b2c",
   "metadata": {},
   "outputs": [],
   "source": [
    "import itertools\n",
    "for i in itertools.repeat(10, 3):\n",
    "    print(i)"
   ]
  },
  {
   "cell_type": "code",
   "execution_count": null,
   "id": "06535089",
   "metadata": {},
   "outputs": [],
   "source": [
    "for i in itertools.accumulate([1,2,3,4,5]):\n",
    "    print(i)"
   ]
  },
  {
   "cell_type": "code",
   "execution_count": null,
   "id": "66b6c727",
   "metadata": {},
   "outputs": [],
   "source": [
    "for i in itertools.chain('ABC', 'DEF','aaa'):\n",
    "    print(i)"
   ]
  },
  {
   "cell_type": "code",
   "execution_count": null,
   "id": "b03b1e9d",
   "metadata": {},
   "outputs": [],
   "source": [
    "# filter where is a 1 not 0 in corresponding list\n",
    "for i in itertools.compress('ABCDEF', [1,0,1,0,1,1]):\n",
    "    print(i)\n"
   ]
  },
  {
   "cell_type": "code",
   "execution_count": null,
   "id": "38b27ad9",
   "metadata": {},
   "outputs": [],
   "source": [
    "for p in itertools.permutations('ABCD', 2):\n",
    "    print(p)"
   ]
  },
  {
   "cell_type": "code",
   "execution_count": null,
   "id": "d36397c7",
   "metadata": {
    "scrolled": true
   },
   "outputs": [],
   "source": [
    "# all combinations in one order\n",
    "for p in itertools.combinations('ABCD', 2):\n",
    "    print(p)"
   ]
  },
  {
   "cell_type": "code",
   "execution_count": null,
   "id": "385ed1e2",
   "metadata": {},
   "outputs": [],
   "source": [
    "# same as memoise\n",
    "from functools import cache\n",
    "@cache\n",
    "def factorial(n):\n",
    "    return n * factorial(n-1) if n else 1\n",
    "print(factorial(2))\n",
    "print(factorial.cache_info())\n",
    "print(factorial.cache_parameters())\n",
    "print(factorial.cache_clear())\n",
    "print(factorial.cache_info())\n"
   ]
  },
  {
   "cell_type": "code",
   "execution_count": null,
   "id": "24b0d74f",
   "metadata": {},
   "outputs": [],
   "source": [
    "# the @property decorator turns the voltage() method into a “getter” for a read-only attribute with the same name, \n",
    "class Parrot:\n",
    "    def __init__(self):\n",
    "        self._voltage = 100000\n",
    "\n",
    "    @property\n",
    "    def voltage(self):\n",
    "        \"\"\"Get the current voltage.\"\"\"\n",
    "        return self._voltage * 2\n",
    "    \n",
    "p = Parrot()\n",
    "p.voltage"
   ]
  },
  {
   "cell_type": "code",
   "execution_count": null,
   "id": "407848bd",
   "metadata": {},
   "outputs": [],
   "source": [
    "class C:\n",
    "    def __init__(self):\n",
    "        self._x = 'ha'\n",
    "\n",
    "    @property\n",
    "    def x(self):\n",
    "        \"\"\"I'm the 'x' property.\"\"\"\n",
    "        return self._x\n",
    "\n",
    "    # allows setting value of Cinstance.x\n",
    "    @x.setter\n",
    "    def x(self, value):\n",
    "        self._x = value\n",
    "   \n",
    "    # allows deleting value of Cinstance.x\n",
    "    @x.deleter\n",
    "    def x(self):\n",
    "        del self._x\n",
    "    \n",
    "c = C()\n",
    "del c.x\n",
    "c.x = 4\n",
    "c.x\n"
   ]
  },
  {
   "cell_type": "code",
   "execution_count": null,
   "id": "8f1d70dc",
   "metadata": {},
   "outputs": [],
   "source": [
    "# lru_cache = memoizing callable that saves up to the maxsize most recent calls\n",
    "from functools import lru_cache \n",
    "@lru_cache\n",
    "def count_vowels(sentence):\n",
    "    return sum(sentence.count(vowel) for vowel in 'AEIOUaeiou')\n",
    "count_vowels('hahahan os')"
   ]
  },
  {
   "cell_type": "code",
   "execution_count": null,
   "id": "00e3932c",
   "metadata": {},
   "outputs": [],
   "source": [
    "import functools\n",
    "@functools.total_ordering\n",
    "class Student:\n",
    "    def _is_valid_operand(self, other):\n",
    "        return (hasattr(other, \"lastname\") and\n",
    "                hasattr(other, \"firstname\"))\n",
    "    def __eq__(self, other):\n",
    "        if not self._is_valid_operand(other):\n",
    "            return NotImplemented\n",
    "        return ((self.lastname.lower(), self.firstname.lower()) ==\n",
    "                (other.lastname.lower(), other.firstname.lower()))\n",
    "    def __lt__(self, other):\n",
    "        if not self._is_valid_operand(other):\n",
    "            return NotImplemented\n",
    "        return ((self.lastname.lower(), self.firstname.lower()) <\n",
    "                (other.lastname.lower(), other.firstname.lower()))\n",
    "s = Student()\n",
    "s.lastname = 'aa'\n",
    "s.firstname = 'bb'\n",
    "print(s < s)\n",
    "print(s >= s)"
   ]
  },
  {
   "cell_type": "code",
   "execution_count": null,
   "id": "e8a51626",
   "metadata": {},
   "outputs": [],
   "source": [
    "# reduce() takes a start value x (0 in this case) does something with each y value, accumulating \n",
    "from functools import reduce\n",
    "reduce(lambda x, y: x+y, [1, 2, 3, 4, 5], 0)"
   ]
  },
  {
   "cell_type": "code",
   "execution_count": null,
   "id": "37dc11dd",
   "metadata": {},
   "outputs": [],
   "source": [
    "## @singledispatch makes one fun(), and depending on the input type a different version of the below will be \n",
    "## called. Basically: overloading the function\n",
    "from functools import singledispatch\n",
    "@singledispatch\n",
    "def fun(arg, verbose=False):\n",
    "    if verbose:\n",
    "        print(\"Let me just say,\", end=\" \")\n",
    "    print(arg)\n",
    "    \n",
    "@fun.register\n",
    "def _(arg: int | float, verbose=False):\n",
    "    if verbose:\n",
    "        print(\"Strength in numbers, eh?\", end=\" \")\n",
    "    print(arg)\n",
    "\n",
    "from typing import Union\n",
    "@fun.register\n",
    "def _(arg: Union[list, set], verbose=False):\n",
    "    if verbose:\n",
    "        print(\"Enumerate this:\")\n",
    "    for i, elem in enumerate(arg):\n",
    "        print(i, elem)"
   ]
  },
  {
   "cell_type": "code",
   "execution_count": null,
   "id": "c00cbdc1",
   "metadata": {},
   "outputs": [],
   "source": [
    "import functools\n",
    "\n",
    "def log_function(func):\n",
    "    @functools.wraps(func)\n",
    "    def wrapper(*args, **kwargs):\n",
    "        result = func(*args, **kwargs)\n",
    "        print(f\"Called {func.__name__} with arguments {args} and keyword arguments {kwargs}\")\n",
    "        print(f\"{func.__name__} returned {result}\")\n",
    "        return result\n",
    "    return wrapper\n",
    "\n",
    "@log_function\n",
    "def add(x, y):\n",
    "    return x + y\n",
    "\n",
    "print(add(1, 2))\n",
    "# Output:\n",
    "# Called add with arguments (1, 2) and keyword arguments {}\n",
    "# add returned 3\n"
   ]
  },
  {
   "cell_type": "code",
   "execution_count": null,
   "id": "22e5763b",
   "metadata": {},
   "outputs": [],
   "source": [
    "from pathlib import Path\n",
    "p = Path('.')\n",
    "print([x for x in p.iterdir() if x.is_dir()])\n",
    "print([x for x in p.iterdir()])\n",
    "\n",
    "# get .md files in this directory tree\n",
    "list(p.glob('**/*.md'))\n",
    "\n",
    "path = Path('/tmp')\n",
    "for item in path.iterdir():\n",
    "    print(item)\n",
    "\n",
    "path = Path('/tmp/example.txt')\n",
    "path.write_text('Hello, world!\\nhaha')\n",
    "    \n",
    "path = Path('/tmp/example.txt')\n",
    "with path.open() as f:\n",
    "    print(f.readline())\n",
    "    print(f.readline())\n",
    "    \n",
    "path = Path('/tmp/example.txt')\n",
    "if path.exists():\n",
    "    print('The file exists')\n",
    "else:\n",
    "    print('The file does not exist')\n",
    "\n",
    "contents = path.read_text()\n",
    "print(f'contents: {contents}')\n"
   ]
  },
  {
   "cell_type": "code",
   "execution_count": null,
   "id": "d6600705",
   "metadata": {},
   "outputs": [],
   "source": [
    "import fileinput\n",
    "with fileinput.input(files=['filename.txt', 'filename.txt']) as f:\n",
    "    for line in f:\n",
    "        print(line)"
   ]
  },
  {
   "cell_type": "code",
   "execution_count": null,
   "id": "245aeae1",
   "metadata": {},
   "outputs": [],
   "source": [
    "path = Path()\n",
    "for item in path.iterdir():\n",
    "    print(item)"
   ]
  },
  {
   "cell_type": "code",
   "execution_count": null,
   "id": "8dd760da",
   "metadata": {},
   "outputs": [],
   "source": [
    "import filecmp\n",
    "# returns match, mismatch, errors for specified files (3rd param) between 2 directories (params 1 and 2)\n",
    "filecmp.cmpfiles('', '', ['filename.txt'])"
   ]
  },
  {
   "cell_type": "code",
   "execution_count": null,
   "id": "cf2765d5",
   "metadata": {},
   "outputs": [],
   "source": [
    "filecmp.cmp('filename.txt', 'filename.txt')"
   ]
  },
  {
   "cell_type": "code",
   "execution_count": null,
   "id": "b246c993",
   "metadata": {},
   "outputs": [],
   "source": [
    "import tempfile\n",
    "\n",
    "with tempfile.TemporaryFile() as fp:\n",
    "    fp.write(b'Hello world!')\n",
    "    fp.seek(0)\n",
    "    fp.read()\n",
    "\n",
    "with tempfile.TemporaryDirectory() as tmpdirname:\n",
    "    print('created temporary directory', tmpdirname)\n"
   ]
  },
  {
   "cell_type": "code",
   "execution_count": null,
   "id": "b27a5f91",
   "metadata": {},
   "outputs": [],
   "source": [
    "import linecache\n",
    "linecache.getline(next(p.glob('**/*.md')).name, 4)"
   ]
  },
  {
   "cell_type": "code",
   "execution_count": null,
   "id": "4c7a6176",
   "metadata": {},
   "outputs": [],
   "source": [
    "dir(next(p.glob('**/*.md')))"
   ]
  },
  {
   "cell_type": "code",
   "execution_count": null,
   "id": "1d38dd02",
   "metadata": {},
   "outputs": [],
   "source": [
    "next(p.glob('**/*.md')).name"
   ]
  },
  {
   "cell_type": "code",
   "execution_count": null,
   "id": "f32e51fc",
   "metadata": {},
   "outputs": [],
   "source": [
    "import pickle\n",
    "pickle.dumps('sometext', protocol=pickle.HIGHEST_PROTOCOL)\n"
   ]
  },
  {
   "cell_type": "code",
   "execution_count": null,
   "id": "1c250080",
   "metadata": {},
   "outputs": [],
   "source": [
    "# use pickletools.optimize. Is:\n",
    "# shorter, takes less transmission time, requires less storage space, and unpickles more efficiently.\n",
    "import pickletools\n",
    "more_efficient_pickle_bytestring = pickletools.optimize(pickle.dumps('sometext', protocol=pickle.HIGHEST_PROTOCOL))\n",
    "pickle.loads(more_efficient_pickle_bytestring)"
   ]
  },
  {
   "cell_type": "code",
   "execution_count": null,
   "id": "6184dedc",
   "metadata": {},
   "outputs": [],
   "source": [
    "import shelve\n",
    "with shelve.open('spam') as db:\n",
    "    print(db.get('eggs'))\n",
    "    db['eggs2'] = 'eggs_and_bacon'\n",
    "    print(db.get('eggs2'))"
   ]
  },
  {
   "cell_type": "code",
   "execution_count": null,
   "id": "6538f7e7",
   "metadata": {},
   "outputs": [],
   "source": [
    "import shelve\n",
    "with shelve.open('spam', writeback=True) as db:\n",
    "    print(db.get('eggs'))\n",
    "    db.sync()        \t\t\t\t\t ### adding this line to manually sync db\n",
    "    db['eggs2'] = 'eggs_and_bacon'\n",
    "    print(db.get('eggs2'))"
   ]
  },
  {
   "cell_type": "code",
   "execution_count": null,
   "id": "d4295cf2",
   "metadata": {},
   "outputs": [],
   "source": [
    "import dbm\n",
    "\n",
    "# Open database, creating it if necessary.\n",
    "with dbm.open('cache', 'c') as db:\n",
    "\n",
    "    # Record some values\n",
    "    db[b'hello'] = b'there'\n",
    "    db['www.python.org'] = 'Python Website'\n",
    "    db['www.cnn.com'] = 'Cable News Network'\n",
    "\n",
    "    # Note that the keys are considered bytes now.\n",
    "    assert db[b'www.python.org'] == b'Python Website'\n",
    "    # Notice how the value is now in bytes.\n",
    "    assert db['www.cnn.com'] == b'Cable News Network'\n",
    "\n",
    "    # Often-used methods of the dict interface work too.\n",
    "    print(db.get('python.org', b'not present'))\n",
    "    \n",
    "    # Storing a non-string key or value will raise an exception (most\n",
    "    # likely a TypeError).\n",
    "    db['www.yahoo.com'] = 'a'"
   ]
  },
  {
   "cell_type": "code",
   "execution_count": null,
   "id": "75dc0842",
   "metadata": {},
   "outputs": [],
   "source": [
    "os.listdir()"
   ]
  },
  {
   "cell_type": "code",
   "execution_count": null,
   "id": "03efbc87",
   "metadata": {},
   "outputs": [],
   "source": [
    "## sqlite\n",
    "import sqlite3\n",
    "con = sqlite3.connect(\"tutorial.db\")\n",
    "cur = con.cursor()\n",
    "cur.execute(\"CREATE TABLE movie(title, year, score)\")\n",
    "res = cur.execute(\"SELECT name FROM sqlite_master\")\n",
    "print(res.fetchone())\n",
    "res = cur.execute(\"SELECT name FROM sqlite_master WHERE name='spam'\")\n",
    "print(res.fetchone() is None)\n",
    "cur.execute(\"\"\"\n",
    "    INSERT INTO movie VALUES\n",
    "        ('Monty Python and the Holy Grail', 1975, 8.2),\n",
    "        ('And Now for Something Completely Different', 1971, 7.5)\n",
    "\"\"\")\n",
    "con.commit()\n",
    "data = [\n",
    "    (\"Monty Python Live at the Hollywood Bowl\", 1982, 7.9),\n",
    "    (\"Monty Python's The Meaning of Life\", 1983, 7.5),\n",
    "    (\"Monty Python's Life of Brian\", 1979, 8.0),\n",
    "]\n",
    "cur.executemany(\"INSERT INTO movie VALUES(?, ?, ?)\", data)\n",
    "con.commit() \n",
    "for row in cur.execute(\"SELECT year, title FROM movie ORDER BY year\"):\n",
    "    print(row)"
   ]
  },
  {
   "cell_type": "code",
   "execution_count": null,
   "id": "8a799bbe",
   "metadata": {},
   "outputs": [],
   "source": [
    "# making a python function and calling it in sqlite with con.create_functionw\n",
    "import hashlib\n",
    "def md5sum(t):\n",
    "    return hashlib.md5(t).hexdigest()\n",
    "con = sqlite3.connect(\":memory:\")\n",
    "con.create_function(\"md5\", 1, md5sum)\n",
    "for row in con.execute(\"SELECT md5(?)\", (b\"foo\",)):\n",
    "    print(row)"
   ]
  },
  {
   "cell_type": "code",
   "execution_count": null,
   "id": "17f267e3",
   "metadata": {},
   "outputs": [],
   "source": [
    "# using context manager\n",
    "with sqlite3.connect(\"tutorial.db\") as con:\n",
    "    print(con.execute(\"select * from movie\").fetchall())"
   ]
  },
  {
   "cell_type": "code",
   "execution_count": null,
   "id": "e9772b87",
   "metadata": {},
   "outputs": [],
   "source": [
    "import zlib, gzip, lzma, bz2\n",
    "print(zlib.compress(b'aa'))\n",
    "print(gzip.compress(b'aa'))\n",
    "print(lzma.compress(b'aa'))\n",
    "print(bz2.compress(b'aa'))\n",
    "\n",
    "\n",
    "print(zlib.decompress(zlib.compress(b'aa')))\n",
    "print(bz2.decompress(bz2.compress(b'aa')))"
   ]
  },
  {
   "cell_type": "code",
   "execution_count": null,
   "id": "93f20cb0",
   "metadata": {},
   "outputs": [],
   "source": [
    "import configparser\n",
    "config = configparser.ConfigParser()\n",
    "config['one.thing'] = {'ServerAliveInterval': '45',\n",
    "                     'Compression': 'yes',\n",
    "                     'CompressionLevel': '9'}\n",
    "config['bitbucket.org'] = {}\n",
    "config['bitbucket.org']['User'] = 'hg'\n",
    "config['topsecret.server.com'] = {}\n",
    "topsecret = config['topsecret.server.com']\n",
    "topsecret['Port'] = '50022'     # mutates the parser\n",
    "topsecret['ForwardX11'] = 'no'  # same here\n",
    "config['DEFAULT']['ForwardX11'] = 'yes'\n",
    "with open('example.ini', 'w') as configfile:\n",
    "  config.write(configfile)"
   ]
  },
  {
   "cell_type": "code",
   "execution_count": null,
   "id": "ffa84ff0",
   "metadata": {},
   "outputs": [],
   "source": [
    "# read in ini file and convert to dict\n",
    "config = configparser.ConfigParser()\n",
    "config.read('example.ini')\n",
    "config_dict = {s:dict(config.items(s)) for s in config.sections()}\n",
    "config_dict"
   ]
  },
  {
   "cell_type": "code",
   "execution_count": null,
   "id": "59a9e278",
   "metadata": {},
   "outputs": [],
   "source": [
    "config_dict['one.thing']"
   ]
  },
  {
   "cell_type": "code",
   "execution_count": null,
   "id": "069e37d2",
   "metadata": {},
   "outputs": [],
   "source": [
    "# hashlib\n",
    "from hashlib import sha256, blake2b, md5\n",
    "s = sha256()\n",
    "s.update(b\"Nobody inspects\")\n",
    "print(s.digest())\n",
    "\n",
    "\n",
    "# or the same\n",
    "print(sha256(b\"Nobody inspects\").digest())\n",
    "print(sha256(b\"Nobody inspects\").hexdigest())\n",
    "print(blake2b(b\"Nobody inspects\").hexdigest())\n",
    "print(md5(b\"Nobody inspects\").hexdigest())\n",
    "\n",
    "print(hashlib.algorithms_available)"
   ]
  },
  {
   "cell_type": "code",
   "execution_count": null,
   "id": "da13512a",
   "metadata": {},
   "outputs": [],
   "source": [
    "import hmac\n",
    "hmac.digest(b'key1',msg=b'haha',digest='md5')\n"
   ]
  },
  {
   "cell_type": "code",
   "execution_count": null,
   "id": "f08d4f3f",
   "metadata": {},
   "outputs": [],
   "source": [
    "import secrets\n",
    "# make random bytestring of length 16\n",
    "secrets.token_bytes(16) \n",
    "secrets.token_hex(16)\n",
    "\n",
    "\n",
    "# generate 8 letter alphanumeric password\n",
    "import string\n",
    "import secrets\n",
    "alphabet = string.ascii_letters + string.digits\n",
    "password = ''.join(secrets.choice(alphabet) for i in range(8))\n",
    "print(password)\n",
    "\n",
    "# Generate a hard-to-guess temporary URL containing a security token suitable for password recovery applications:\n",
    "import secrets\n",
    "url = 'https://example.com/reset=' + secrets.token_urlsafe()\n",
    "url\n",
    "\n",
    "\n",
    "# create random set of words\n",
    "import secrets\n",
    "# On standard Linux systems, use a convenient dictionary file.\n",
    "# Other platforms may need to provide their own word-list.\n",
    "with open('/usr/share/dict/words') as f:\n",
    "    words = [word.strip() for word in f]\n",
    "    password = ' '.join(secrets.choice(words) for i in range(4))"
   ]
  },
  {
   "cell_type": "code",
   "execution_count": null,
   "id": "5aeb8620",
   "metadata": {},
   "outputs": [],
   "source": [
    "import os\n",
    "os.stat(path)\n",
    "os.name\n",
    "os.fsencode('haha')\n",
    "\n",
    "# get env variables\n",
    "os.environ           \n",
    "\n",
    "# get name of user\n",
    "os.getlogin()\n",
    "\n",
    "# get pid of this process\n",
    "os.getpgrp()\n",
    "\n",
    "# create new empty file\n",
    "open('newfile.txt', 'w')\n",
    "\n"
   ]
  },
  {
   "cell_type": "code",
   "execution_count": null,
   "id": "e2a87151",
   "metadata": {},
   "outputs": [],
   "source": [
    "os.path.expanduser('~/Desktop/pythonlearning2023')"
   ]
  },
  {
   "cell_type": "code",
   "execution_count": null,
   "id": "f1ab0692",
   "metadata": {},
   "outputs": [],
   "source": [
    "import io\n",
    "f = io.StringIO(\"some initial text data\")\n",
    "for i in f:\n",
    "    print(i)\n",
    "    \n",
    "f = io.BytesIO(b\"some initial binary data: \\x00\\x01\")\n",
    "for i in f:\n",
    "    print(i)"
   ]
  },
  {
   "cell_type": "code",
   "execution_count": null,
   "id": "6294d2c1",
   "metadata": {},
   "outputs": [],
   "source": [
    "# reads in raw file: docs say its rare you'll do this\n",
    "f = open(\"myfile.jpg\", \"rb\", buffering=0)"
   ]
  },
  {
   "cell_type": "code",
   "execution_count": null,
   "id": "c37dfc0e",
   "metadata": {},
   "outputs": [],
   "source": [
    "from _io import (DEFAULT_BUFFER_SIZE, BlockingIOError, UnsupportedOperation,\n",
    "                 open, open_code, FileIO, BytesIO, StringIO, BufferedReader,\n",
    "                 BufferedWriter, BufferedRWPair, BufferedRandom,\n",
    "                 IncrementalNewlineDecoder, text_encoding, TextIOWrapper)\n"
   ]
  },
  {
   "cell_type": "code",
   "execution_count": null,
   "id": "f9fe1e4c",
   "metadata": {},
   "outputs": [],
   "source": [
    "import logging\n",
    "logging.warning('Watch out!')"
   ]
  },
  {
   "cell_type": "code",
   "execution_count": null,
   "id": "1c1c22c6",
   "metadata": {},
   "outputs": [],
   "source": [
    "# this needs to run in python terminal: won't work in jupyter\n",
    "import logging\n",
    "import os\n",
    "logfilepath=filename=os.getcwd()+'/example.log'\n",
    "logging.basicConfig(filename=logfilepath, encoding='utf-8', level=logging.DEBUG)\n",
    "logging.debug('This message should go to the log file')\n",
    "logging.info('So should this')\n",
    "haha = 3\n",
    "logging.warning(f'And this, too {haha}')\n",
    "logging.error('And non-ASCII stuff, too, like Øresund and Malmö')\n",
    "print(logfilepath)"
   ]
  },
  {
   "cell_type": "code",
   "execution_count": null,
   "id": "9a7fec67",
   "metadata": {},
   "outputs": [],
   "source": [
    "logging.getLogger(__name__)"
   ]
  },
  {
   "cell_type": "code",
   "execution_count": null,
   "id": "c920099d",
   "metadata": {},
   "outputs": [],
   "source": [
    "import getpass\n",
    "a = getpass.getpass()\n",
    "print(a)"
   ]
  },
  {
   "cell_type": "code",
   "execution_count": null,
   "id": "a807c9a4",
   "metadata": {},
   "outputs": [],
   "source": [
    "import curses\n",
    "screen = curses.initscr()\n",
    "# Update the buffer, adding text at different locations\n",
    "screen.addstr(0, 0, \"This string gets printed at position (0, 0)\")\n",
    "screen.addstr(3, 1, \"Try Russian text: Привет\")  # Python 3 required for unicode\n",
    "screen.addstr(4, 4, \"X\")\n",
    "screen.addch(5, 5, \"Y\")\n",
    "# Changes go in to the screen buffer and only get\n",
    "# displayed after calling `refresh()` to update\n",
    "screen.refresh()\n",
    "curses.napms(3000)\n",
    "curses.endwin()"
   ]
  },
  {
   "cell_type": "code",
   "execution_count": null,
   "id": "f1ac28bc",
   "metadata": {},
   "outputs": [],
   "source": [
    "import platform\n",
    "platform.architecture()\n",
    "platform.machine()\n",
    "platform.node()\n",
    "platform.platform()\n",
    "platform.processor()\n",
    "platform.python_build()\n",
    "platform.python_compiler()\n",
    "platform.python_version()\n",
    "platform.system()\n",
    "platform.uname()"
   ]
  },
  {
   "cell_type": "code",
   "execution_count": null,
   "id": "cb8a7646",
   "metadata": {},
   "outputs": [],
   "source": [
    "import threading\n",
    "\n",
    "# count active threads\n",
    "threading.active_count()"
   ]
  },
  {
   "cell_type": "code",
   "execution_count": null,
   "id": "aebcf2cc",
   "metadata": {},
   "outputs": [],
   "source": [
    "# list active threads\n",
    "for i in threading.enumerate():\n",
    "    print(i)"
   ]
  },
  {
   "cell_type": "code",
   "execution_count": null,
   "id": "57ba0205",
   "metadata": {},
   "outputs": [],
   "source": [
    "threading.main_thread()"
   ]
  },
  {
   "cell_type": "code",
   "execution_count": null,
   "id": "0c102ddd",
   "metadata": {},
   "outputs": [],
   "source": [
    "import threading\n",
    "from numba.typed import Dict\n",
    "import numpy as np\n",
    "\n",
    "# Create a global list\n",
    "my_list = [1, 2, 3, 4, 5]\n",
    "\n",
    "# Define a function that will be run by the thread\n",
    "def update_list(n):\n",
    "    global my_list\n",
    "    my_list = [i*n for i in my_list]\n",
    "\n",
    "# Create a thread for each operation\n",
    "threads = []\n",
    "for i in range(5):\n",
    "    t = threading.Thread(target=update_list, args=(i+1,))\n",
    "    threads.append(t)\n",
    "\n",
    "print(threads)\n",
    "\n",
    "# Start the threads\n",
    "for t in threads:\n",
    "    t.start()\n",
    "\n",
    "# Wait for the threads to finish\n",
    "for t in threads:\n",
    "    t.join()\n",
    "\n",
    "# Print the final state of the list\n",
    "print(my_list)"
   ]
  },
  {
   "cell_type": "code",
   "execution_count": null,
   "id": "19fb3c24",
   "metadata": {},
   "outputs": [],
   "source": [
    "## writing to typed dict in parallel. \n",
    "# Could read distributed GCS files to append as memory is shared\n",
    "import numba\n",
    "value_float = numba.float64\n",
    "\n",
    "typed_dict = Dict.empty(\n",
    "    key_type=value_float,\n",
    "    value_type=value_float\n",
    "    )\n",
    "\n",
    "def update_dict(n):\n",
    "    global typed_dict\n",
    "    typed_dict[n] = n + 1\n",
    "\n",
    "# Create a thread for each operation\n",
    "threads = []\n",
    "for i in range(8):\n",
    "    t = threading.Thread(target=update_dict, args=(i+1,))\n",
    "    threads.append(t)\n",
    "\n",
    "# Start the threads\n",
    "for t in threads:\n",
    "    t.start()\n",
    "\n",
    "# Wait for the threads to finish\n",
    "for t in threads:\n",
    "    t.join()\n",
    "\n",
    "print(typed_dict)\n"
   ]
  },
  {
   "cell_type": "code",
   "execution_count": null,
   "id": "98611ea6",
   "metadata": {},
   "outputs": [],
   "source": [
    "from multiprocessing import Process\n",
    "def print_func(continent='Asia'):\n",
    "    print('The name of continent is : ', continent)\n",
    "if __name__ == \"__main__\":  # confirms that the code is under main function\n",
    "    names = ['America', 'Europe', 'Africa']\n",
    "    procs = []\n",
    "    proc = Process(target=print_func)  # instantiating without any argument\n",
    "    procs.append(proc)\n",
    "    proc.start()\n",
    "    # instantiating process with arguments\n",
    "    for name in names:\n",
    "        # print(name)\n",
    "        proc = Process(target=print_func, args=(name,))\n",
    "        procs.append(proc)\n",
    "        proc.start()\n",
    "    print(proc)\n",
    "    # complete the processes\n",
    "    for proc in procs:\n",
    "        proc.join()"
   ]
  },
  {
   "cell_type": "code",
   "execution_count": null,
   "id": "19095a73",
   "metadata": {},
   "outputs": [],
   "source": [
    "# target function\n",
    "from multiprocessing import Semaphore, Process\n",
    "def task(semaphore, number):\n",
    "    # attempt to acquire the semaphore\n",
    "    with semaphore:\n",
    "        # simulate computational effort\n",
    "        value = random()\n",
    "        sleep(value)\n",
    "        # report result\n",
    "        print(f'Process {number} got {value}')\n",
    "semaphore = Semaphore(2)\n",
    "processes = [Process(target=task, args=(semaphore, i)) for i in range(10)]\n",
    "# start child processes\n",
    "for process in processes:\n",
    "    process.start()\n",
    "# wait for child processes to finish\n",
    "for process in processes:\n",
    "    process.join()\n"
   ]
  },
  {
   "cell_type": "code",
   "execution_count": null,
   "id": "b835d369",
   "metadata": {},
   "outputs": [],
   "source": [
    "import ctypes\n",
    "rows = 3\n",
    "cols = 4\n",
    "arr = [[0] * cols for _ in range(rows)]\n",
    "\n",
    "# Create a pointer type for the elements of the array\n",
    "IntArrayType = ctypes.c_int * cols\n",
    "\n",
    "# Create an array of pointers to the elements of the array\n",
    "pointers = (IntArrayType * rows)()\n",
    "\n",
    "# Initialize the pointers and the elements of the array\n",
    "for i in range(rows):\n",
    "    pointers[i] = IntArrayType(*arr[i])\n",
    "\n",
    "print(pointers[1][2])\n"
   ]
  },
  {
   "cell_type": "code",
   "execution_count": null,
   "id": "3abb075a",
   "metadata": {},
   "outputs": [],
   "source": [
    "current_thread = threading.current_thread()\n",
    "#thread_id = current_thread.ident"
   ]
  },
  {
   "cell_type": "code",
   "execution_count": null,
   "id": "fdd83e3f",
   "metadata": {},
   "outputs": [],
   "source": [
    "from multiprocessing.shared_memory import ShareableList\n",
    "a = ShareableList(['howdy', b'HoWdY', -273.154, 100, None, True, 42])\n",
    "a[2] = -78.5\n",
    "len(a)\n",
    "a.shm\n"
   ]
  },
  {
   "cell_type": "code",
   "execution_count": null,
   "id": "c8c836f0",
   "metadata": {},
   "outputs": [],
   "source": [
    "import asyncio\n",
    "import requests\n",
    "async def do_thing(i):\n",
    "    print('hi')\n",
    "    res = requests.get('https://www.google.com').text\n",
    "    return i\n",
    "\n",
    "tasks = []\n",
    "for i in range(100):  \n",
    "    task = asyncio.create_task(do_thing(i))\n",
    "    tasks.append(task)\n",
    "\n",
    "for coro in asyncio.as_completed(tasks):\n",
    "    earliest_result = await coro \n",
    "    print(earliest_result)   # this only prints when above line is done for all 100. \n",
    "                            # earliest_result is an int, but all 100 vals are printed (it may be different for each \n",
    "                            # coroutine)"
   ]
  },
  {
   "cell_type": "code",
   "execution_count": null,
   "id": "6eb6b1aa",
   "metadata": {},
   "outputs": [],
   "source": [
    "asyncio.get_running_loop()"
   ]
  },
  {
   "cell_type": "code",
   "execution_count": null,
   "id": "367e167a",
   "metadata": {},
   "outputs": [],
   "source": [
    "##### Searching big logs. \n",
    "\n",
    "# on recommmendation is grep and awk, as they are v fast. Or mmap as below\n",
    "# https://stackoverflow.com/questions/66071560/searching-through-a-large-text-or-log-file-10gb\n",
    "import logging\n",
    "import os\n",
    "import mmap\n",
    "import re\n",
    "logfilepath=filename=os.getcwd()+'/example.log'\n",
    "logging.basicConfig(filename=logfilepath, encoding='utf-8', level=logging.DEBUG)\n",
    "logging.debug('This message should go to the log file')\n",
    "logging.info('So should this')\n",
    "haha = 3\n",
    "logging.warning(f'And this, too {haha}')\n",
    "logging.error('And non-ASCII stuff, too, like Øresund and Malmö')\n",
    "print(f'written to {logfilepath}')\n",
    "\n",
    "f = open(logfilepath, \"r\")\n",
    "mm = mmap.mmap(f.fileno(), 0, prot=mmap.PROT_READ)\n",
    "search_res = re.search(b\"message\", mm)\n",
    "print([search_res.start(), search_res.end()])\n",
    "\n",
    "# findall returns list of matched patterns by default\n",
    "findall_res = re.findall(b\"message\", mm)\n",
    "findall_res\n"
   ]
  },
  {
   "cell_type": "code",
   "execution_count": null,
   "id": "c0bdc8c4",
   "metadata": {},
   "outputs": [],
   "source": [
    "with open(logfilepath, \"r\") as f:\n",
    "    mm = mmap.mmap(f.fileno(), 0, access=mmap.ACCESS_READ)\n",
    "    print(mm.rfind(b'ERR'))"
   ]
  },
  {
   "cell_type": "code",
   "execution_count": null,
   "id": "6996505b",
   "metadata": {},
   "outputs": [],
   "source": [
    "# Get whole line of log featuring 'ASCII'\n",
    "import re\n",
    "import mmap\n",
    "import os\n",
    "logfilepath=filename=os.getcwd()+'/example.log'\n",
    "\n",
    "with open(logfilepath, \"r\") as f:\n",
    "    mm = mmap.mmap(f.fileno(), 0, access=mmap.ACCESS_READ)\n",
    "    # Search for the pattern \"error\" in the file\n",
    "    start = mm.find(b\"ASCII\")\n",
    "    end = mm.find(b\"\\n\", start)\n",
    "    \n",
    "    # find first '\\n' prior to 'start'\n",
    "    line_start = mm.rfind(b'\\n', 0, start)\n",
    "    \n",
    "    error_lines = []\n",
    "    \n",
    "    while start != -1 and end != -1:\n",
    "        \n",
    "        # Extract the line containing the pattern and decode it\n",
    "        line = mm[line_start:end].decode()\n",
    "        \n",
    "        # Append the line to the list of error lines\n",
    "        error_lines.append(line)\n",
    "        \n",
    "        # Search for the next occurrence of the pattern\n",
    "        start = mm.find(b\"ASCII\", end)\n",
    "        previous_instance_end = end\n",
    "        end = mm.find(b\"\\n\", start)\n",
    "        line_start = mm.rfind(b'\\n', previous_instance_end, start)\n",
    "        \n",
    "    # Close the memory-mapped file\n",
    "    mm.close()\n",
    "\n",
    "# Print the list of error lines\n",
    "print(error_lines)"
   ]
  },
  {
   "cell_type": "code",
   "execution_count": null,
   "id": "577ddfa7",
   "metadata": {},
   "outputs": [],
   "source": [
    "with open(logfilepath, \"r+b\") as f:\n",
    "    with mmap.mmap(f.fileno(), 0) as mm:\n",
    "        myline = mm.readline()\n",
    "        while myline:\n",
    "            print(myline)\n",
    "            myline = mm.readline()\n",
    "        mm.close()   \n"
   ]
  },
  {
   "cell_type": "code",
   "execution_count": null,
   "id": "0f52559a",
   "metadata": {},
   "outputs": [],
   "source": [
    "myline = myfile.readline()\n",
    "while myline:\n",
    "    print(myline)\n",
    "    myline = myfile.readline()\n",
    "myfile.close()   "
   ]
  },
  {
   "cell_type": "code",
   "execution_count": null,
   "id": "5e2ae620",
   "metadata": {},
   "outputs": [],
   "source": [
    "import unittest\n",
    "\n",
    "class DefaultWidgetSizeTestCase(unittest.TestCase):\n",
    "    def test_default_widget_size(self):\n",
    "        widget = Widget('The widget')\n",
    "        self.assertEqual(widget.size(), (50, 50))"
   ]
  },
  {
   "cell_type": "code",
   "execution_count": null,
   "id": "92c2cadf",
   "metadata": {},
   "outputs": [],
   "source": [
    "import unittest\n",
    "import numpy as np\n",
    "\n",
    "def Widget():\n",
    "    ar = np.random.rand(50,50)\n",
    "    print(ar.shape)\n",
    "    return ar\n",
    "\n",
    "Widget()"
   ]
  },
  {
   "cell_type": "code",
   "execution_count": null,
   "id": "c9a6eaa4",
   "metadata": {},
   "outputs": [],
   "source": [
    "class NumbersTest(unittest.TestCase):\n",
    "    def test_even(self):\n",
    "        \"\"\"\n",
    "        Test that numbers between 0 and 5 are all even.\n",
    "        \"\"\"\n",
    "        for i in range(0, 6):\n",
    "            with self.subTest(i=i):\n",
    "                self.assertEqual(i % 2, 0)\n",
    "NumbersTest().test_even()"
   ]
  },
  {
   "cell_type": "code",
   "execution_count": null,
   "id": "ea0fc626",
   "metadata": {},
   "outputs": [],
   "source": [
    "def greeting(name: str) -> str:\n",
    "    return 'Hello ' + name\n",
    "greeting('adam')"
   ]
  },
  {
   "cell_type": "code",
   "execution_count": null,
   "id": "c4cbe39c",
   "metadata": {},
   "outputs": [],
   "source": [
    "Vector = list[float]\n",
    "\n",
    "def scale(scalar: float, vector: Vector) -> Vector:\n",
    "    \"\"\"\n",
    "    scale = input float value\n",
    "    vector = the thing we multiply by\n",
    "    \"\"\"\n",
    "    return [scalar * num for num in vector]\n",
    "\n",
    "# passes type checking; a list of floats qualifies as a Vector.\n",
    "new_vector = scale(2.0, [1.0, -4.2, 5.4])\n",
    "new_vector"
   ]
  },
  {
   "cell_type": "code",
   "execution_count": null,
   "id": "463290d2",
   "metadata": {},
   "outputs": [],
   "source": [
    "from typing import NewType\n",
    "\n",
    "# Create a new type called \"UserId\"\n",
    "UserId = NewType('UserId', int)\n",
    "\n",
    "# Define a function that takes a UserId as an argument\n",
    "def get_user_name(user_id: UserId) -> str:\n",
    "    # Implementation goes here\n",
    "    pass\n",
    "\n",
    "# Create a value of type UserId\n",
    "user_id = UserId(123)\n",
    "\n",
    "# Call the function with the UserId value\n",
    "user_name = get_user_name(user_id)\n"
   ]
  },
  {
   "cell_type": "code",
   "execution_count": null,
   "id": "53ced6d8",
   "metadata": {},
   "outputs": [],
   "source": [
    "import collections\n",
    "\n",
    "# Create a vocabulary by mapping words to indices\n",
    "vocab = {}\n",
    "vocab.update({word: index for index, word in enumerate(sorted(set([word for sentence in text for word in sentence.split()])))})\n",
    "\n",
    "\n"
   ]
  },
  {
   "cell_type": "code",
   "execution_count": null,
   "id": "4d55863c",
   "metadata": {},
   "outputs": [],
   "source": [
    "vocab"
   ]
  },
  {
   "cell_type": "code",
   "execution_count": null,
   "id": "242bee0f",
   "metadata": {},
   "outputs": [],
   "source": [
    "import torch\n",
    "import torch.nn as nn\n",
    "\n",
    "# Define the embedding layer\n",
    "embedding_layer = nn.Embedding(num_embeddings=1000, embedding_dim=128)\n",
    "\n",
    "# Define some input text\n",
    "text = [\"This is some text <END>\", \"Here is another sentence boom!\"]\n",
    "\n",
    "# Create a vocabulary by mapping words to indices\n",
    "vocab = {}\n",
    "vocab.update({word: index for index, word in enumerate(sorted(set([word for sentence in text for word in sentence.split()])))})\n",
    "\n",
    "# Convert the text to a tensor\n",
    "text_tensor = torch.tensor([[vocab[word] for word in sentence.split()] for sentence in text])\n",
    "\n",
    "# Pass the text tensor through the embedding layer\n",
    "embeddings = embedding_layer(text_tensor)\n",
    "\n",
    "print(f'embeddings shape: {embeddings.shape}')\n",
    "print(f'text_tensor shape: {text_tensor.shape}')\n",
    "print(embeddings)\n"
   ]
  },
  {
   "cell_type": "code",
   "execution_count": null,
   "id": "226da60d",
   "metadata": {},
   "outputs": [],
   "source": [
    "text_tensor"
   ]
  },
  {
   "cell_type": "code",
   "execution_count": null,
   "id": "a9ca30c1",
   "metadata": {},
   "outputs": [],
   "source": [
    "import logging\n",
    "import os\n",
    "import timeit\n",
    "logfilepath=filename=os.getcwd()+'/example.log'\n",
    "logging.basicConfig(filename=logfilepath, encoding='utf-8', level=logging.DEBUG)\n",
    "timed = timeit.repeat(\"8*8\", repeat=2, number=1)   # number = number of times func will be called\n",
    "logging.info(f'So should this time: {timed}')\n"
   ]
  },
  {
   "cell_type": "code",
   "execution_count": null,
   "id": "d604073c",
   "metadata": {},
   "outputs": [],
   "source": [
    "timed"
   ]
  },
  {
   "cell_type": "code",
   "execution_count": null,
   "id": "c8043530",
   "metadata": {},
   "outputs": [],
   "source": [
    "def gen_nums(): \n",
    "    n=0\n",
    "    while n < 4: \n",
    "        yield n\n",
    "        n += 1\n",
    "\n",
    "for i in gen_nums():\n",
    "    print(i)"
   ]
  },
  {
   "cell_type": "code",
   "execution_count": null,
   "id": "f5740dd7",
   "metadata": {},
   "outputs": [],
   "source": [
    "import unittest\n",
    "\n",
    "class Angle():\n",
    "    def __init__(self, angle):\n",
    "        self.degrees = angle\n",
    "        \n",
    "    def __repr__(self):\n",
    "        return str(self.degrees) + ' degrees'\n",
    "\n",
    "Angle(4)"
   ]
  },
  {
   "cell_type": "code",
   "execution_count": null,
   "id": "b23355c5",
   "metadata": {},
   "outputs": [],
   "source": [
    "class Prefixer:\n",
    "    def __init__(self, prefix):\n",
    "        self.prefix = prefix \n",
    "    def __call__(self, message):\n",
    "        return self.prefix + message\n",
    "\n",
    "Prefixer('main')(' message added')"
   ]
  },
  {
   "cell_type": "code",
   "execution_count": null,
   "id": "65621ddb",
   "metadata": {},
   "outputs": [],
   "source": [
    "# making a decorator from a class\n",
    "class PrintLog:\n",
    "    def __init__(self, func):\n",
    "        self.func = func\n",
    "    def __call__(self, *args, **kwargs):\n",
    "        print('CALLING: {}'.format(self.func.__name__)) \n",
    "        return self.func(*args, **kwargs)\n",
    "\n",
    "@PrintLog\n",
    "def nf(strr):\n",
    "    print(strr)\n",
    "nf('hi')"
   ]
  },
  {
   "cell_type": "code",
   "execution_count": null,
   "id": "ee0754f8",
   "metadata": {},
   "outputs": [],
   "source": [
    "## our own decorator classes can inherit from other decorator classes\n",
    "import sys\n",
    "class ResultAnnouncer:\n",
    "    stream = sys.stdout \n",
    "    prefix = \"RESULT\"\n",
    "    def __init__(self, func):\n",
    "        self.func = func\n",
    "    def __call__(self, *args, **kwargs):\n",
    "        value = self.func(*args, **kwargs)\n",
    "        self.stream.write('{}: {}\\n'.format(self.prefix,value))\n",
    "        return value\n",
    "\n",
    "class StdErrResultAnnouncer(ResultAnnouncer): \n",
    "    stream = sys.stderr\n",
    "    prefix = \"ERROR QS\"\n",
    "    \n",
    "@StdErrResultAnnouncer\n",
    "def pt():\n",
    "    print('po')\n",
    "pt()"
   ]
  },
  {
   "cell_type": "code",
   "execution_count": null,
   "id": "6537e410",
   "metadata": {},
   "outputs": [],
   "source": [
    "class CountCalls:\n",
    "    def __init__(self, func):\n",
    "        self.func = func\n",
    "        self.count = 1\n",
    "    def __call__(self, *args, **kwargs):\n",
    "        print('# of calls: {}'.format(self.count)) \n",
    "        self.count += 1\n",
    "        return self.func(*args, **kwargs)\n",
    "\n",
    "caller = CountCalls(print)\n",
    "for i in range(3):\n",
    "    caller('aaa')"
   ]
  },
  {
   "cell_type": "code",
   "execution_count": null,
   "id": "4b3b8a9c",
   "metadata": {},
   "outputs": [],
   "source": [
    "# here 'klass' is the name of the class being decorated\n",
    "def autorepr(klass):\n",
    "    def klass_repr(self):\n",
    "        return '{}, {}'.format(klass.__name__ + ' instance', self.value)\n",
    "    klass.__repr__ = klass_repr\n",
    "    return klass\n",
    "\n",
    "@autorepr\n",
    "class Penny():\n",
    "    def __init__(self, value):\n",
    "        self.value = value\n",
    "\n",
    "print(Penny(3))"
   ]
  },
  {
   "cell_type": "code",
   "execution_count": null,
   "id": "9d4aa22c",
   "metadata": {},
   "outputs": [],
   "source": [
    "class Person:\n",
    "    def __init__(self, firstname, lastname):\n",
    "        self.firstname = firstname\n",
    "        self.lastname = lastname\n",
    "\n",
    "    #@property\n",
    "    def fullname(self):\n",
    "        return self.firstname + \" \" + self.lastname\n",
    "    \n",
    "Person('john', 'smith').fullname()"
   ]
  },
  {
   "cell_type": "code",
   "execution_count": null,
   "id": "571b30bd",
   "metadata": {},
   "outputs": [],
   "source": [
    "class Ticket:\n",
    "    def __init__(self, _price):\n",
    "        self._price = _price\n",
    "        \n",
    "    def __set__(self, price):\n",
    "        self._price = _price\n",
    "    @property\n",
    "    def price(self):\n",
    "        return self._price \n",
    "    @price.setter\n",
    "    def price(self, new_price):\n",
    "    # Only allow positive prices. \n",
    "        print(f'new_price: {new_price}')\n",
    "        if new_price < 0:\n",
    "            raise ValueError(\"Nice try\") \n",
    "        self._price = new_price\n",
    "        \n",
    "t = Ticket(10)\n",
    "t.price(30)"
   ]
  },
  {
   "cell_type": "code",
   "execution_count": null,
   "id": "7f492354",
   "metadata": {},
   "outputs": [],
   "source": [
    "from dataclasses import dataclass\n",
    "@dataclass\n",
    "class NeoXArgsDeepspeedConfig():\n",
    "    deepspeed: bool = True\n",
    "    train_batch_size: int = None\n",
    "        \n",
    "conf = NeoXArgsDeepspeedConfig()\n",
    "conf.deepspeed"
   ]
  },
  {
   "cell_type": "code",
   "execution_count": null,
   "id": "89e3d05a",
   "metadata": {},
   "outputs": [],
   "source": [
    "from typing import List\n",
    "\n",
    "class Solution:\n",
    "    def pivotIndex(self, nums: List[int]) -> int:\n",
    "        \n",
    "        # add these so they can be dropped later\n",
    "        nums.insert(0,0)\n",
    "        nums.append(0)\n",
    "                \n",
    "        left_sum = nums[0]\n",
    "        right_sum = nums[-1]\n",
    "        left_pos = 0\n",
    "        left_numbers_used = 1\n",
    "        right_pos = len(nums) - 1\n",
    "        right_numbers_used = 1\n",
    "\n",
    "        while (left_numbers_used + right_numbers_used) < len(nums) - 1:\n",
    "            if left_sum < right_sum:\n",
    "                left_pos += 1\n",
    "                left_sum += nums[left_pos]\n",
    "                left_numbers_used += 1\n",
    "            if left_sum > right_sum:\n",
    "                right_pos -= 1\n",
    "                right_sum += nums[right_pos]\n",
    "                right_numbers_used += 1\n",
    "                \n",
    "\n",
    "        if left_sum == right_sum:\n",
    "            return left_pos + 1\n",
    "        else:\n",
    "            return -1\n",
    "            \n",
    "Solution().pivotIndex([2,-1,1])"
   ]
  },
  {
   "cell_type": "code",
   "execution_count": null,
   "id": "43cc0b1f",
   "metadata": {},
   "outputs": [],
   "source": [
    "class Solution(object):\n",
    "    def pivotIndex(self, nums):\n",
    "        S = sum(nums)\n",
    "        leftsum = 0\n",
    "        for i, x in enumerate(nums):\n",
    "            if leftsum == (S - leftsum - x):\n",
    "                return i\n",
    "            leftsum += x\n",
    "        return -1\n",
    "    \n",
    "Solution().pivotIndex([2,-1,1])"
   ]
  },
  {
   "cell_type": "code",
   "execution_count": null,
   "id": "206ae4ec",
   "metadata": {},
   "outputs": [],
   "source": [
    "nums = [2,-1,1]\n",
    "for i in enumerate(nums):\n",
    "    print(i)"
   ]
  },
  {
   "cell_type": "code",
   "execution_count": null,
   "id": "d42c5904",
   "metadata": {},
   "outputs": [],
   "source": [
    "class ListNode:\n",
    "    def __init__(self, val=0, next=None):\n",
    "        self.val = val\n",
    "        self.next = next\n",
    "        \n",
    "import math\n",
    "from typing import Optional\n",
    "class Solution:\n",
    "    def splitListToParts(self, head: Optional[ListNode], k: int) -> List[Optional[ListNode]]:\n",
    "        l = [[] for i in range(k)]\n",
    "        for i, x in enumerate(head):\n",
    "            ix = i % k\n",
    "            l[ix].append(x)\n",
    "        return l\n",
    "\n",
    "Solution().splitListToParts([1,5], 3)\n"
   ]
  },
  {
   "cell_type": "code",
   "execution_count": null,
   "id": "3993b6de",
   "metadata": {},
   "outputs": [],
   "source": [
    "def selfDividingNumbers(left: int, right: int) -> List[int]:\n",
    "    def is_self_dividing(value):\n",
    "        sv = str(value)\n",
    "        counter = 0\n",
    "        for letter in sv:\n",
    "            if letter != '0':\n",
    "                counter += int(value % int(letter) != 0)\n",
    "        return counter == 0\n",
    "\n",
    "    return [i for i in range(left, right) if is_self_dividing(i)]\n",
    "\n",
    "selfDividingNumbers(1,22)"
   ]
  },
  {
   "cell_type": "code",
   "execution_count": null,
   "id": "3307f084",
   "metadata": {},
   "outputs": [],
   "source": [
    "def isIsomorphic(s: str, t: str) -> bool:\n",
    "\n",
    "    letter_map = {}\n",
    "    for i in range(len(s)):\n",
    "        if s[i] in letter_map.keys():\n",
    "            print(letter_map[s[i]])\n",
    "            if letter_map[s[i]] != t[i]:\n",
    "                return False\n",
    "            \n",
    "        if t[i] in letter_map.values():\n",
    "            try:\n",
    "                if letter_map[s[i]] != t[i]:\n",
    "                    return False\n",
    "            except KeyError:\n",
    "                return False\n",
    "\n",
    "        letter_map[s[i]] = t[i]\n",
    "\n",
    "    new_word = ''\n",
    "    for letter in s:\n",
    "        new_word += letter_map[letter]\n",
    "\n",
    "    return new_word == t\n",
    "isIsomorphic('badc', 'baeg')"
   ]
  },
  {
   "cell_type": "code",
   "execution_count": null,
   "id": "42a401ce",
   "metadata": {},
   "outputs": [],
   "source": [
    "import importlib\n",
    "fl =importlib.find_loader('numpy')\n",
    "fl.get_data()"
   ]
  },
  {
   "cell_type": "code",
   "execution_count": null,
   "id": "67c75412",
   "metadata": {},
   "outputs": [],
   "source": [
    "importlib.util.MAGIC_NUMBER"
   ]
  },
  {
   "cell_type": "code",
   "execution_count": null,
   "id": "159c28aa",
   "metadata": {},
   "outputs": [],
   "source": [
    "To completely override sys.path create a ._pth file\n",
    "In the ._pth file specify one line for each path to add to sys.path\n",
    "\n",
    "import sys\n",
    "sys.path"
   ]
  },
  {
   "cell_type": "code",
   "execution_count": null,
   "id": "d0d0fbd3",
   "metadata": {},
   "outputs": [],
   "source": [
    "import os\n",
    "os.getenv('PYTHONPATH')"
   ]
  },
  {
   "cell_type": "code",
   "execution_count": null,
   "id": "2613a36d",
   "metadata": {},
   "outputs": [],
   "source": [
    "import ipaddress\n",
    "\n",
    "# returns an ipaddress object\n",
    "addr = ipaddress.ip_address('192.168.0.1')\n",
    "\n",
    "# can also make networks, and explode or compress the IP address"
   ]
  },
  {
   "cell_type": "code",
   "execution_count": null,
   "id": "65ef50a0",
   "metadata": {},
   "outputs": [],
   "source": [
    "list(ipaddress.ip_network('192.0.2.0/29').hosts())  "
   ]
  },
  {
   "cell_type": "code",
   "execution_count": null,
   "id": "31c69534",
   "metadata": {},
   "outputs": [],
   "source": [
    "import faulthandler\n",
    "\n",
    "def crash_function():\n",
    "    x = 1 / 0  # division by zero will cause a ZeroDivisionError\n",
    "\n",
    "faulthandler.enable()  # enable the fault handler\n",
    "\n",
    "crash_function()\n"
   ]
  },
  {
   "cell_type": "code",
   "execution_count": null,
   "id": "2a8ccaab",
   "metadata": {},
   "outputs": [],
   "source": [
    "import tracemalloc\n",
    "\n",
    "tracemalloc.start()\n",
    "\n",
    "# ... run your application ...\n",
    "\n",
    "snapshot = tracemalloc.take_snapshot()\n",
    "top_stats = snapshot.statistics('lineno')\n",
    "\n",
    "print(\"[ Top 10 ]\")\n",
    "for stat in top_stats[:10]:\n",
    "    print(stat)"
   ]
  },
  {
   "cell_type": "code",
   "execution_count": null,
   "id": "fd025323",
   "metadata": {},
   "outputs": [],
   "source": [
    "import cProfile\n",
    "import re\n",
    "cProfile.run('re.compile(\"foo|bar\")')\n"
   ]
  },
  {
   "cell_type": "code",
   "execution_count": null,
   "id": "26e9dd39",
   "metadata": {},
   "outputs": [],
   "source": [
    "import sys\n",
    "\n",
    "def audit_handler(event, args):\n",
    "  print(f'Audit event triggered: {event}')\n",
    "  print(f'Event arguments: {args}')\n",
    "\n",
    "# Set the audit hook function\n",
    "sys.addaudithook(audit_handler)\n",
    "\n",
    "# Trigger an audit event\n",
    "sys.audit('example_event', {'arg1': 'value1', 'arg2': 'value2'})"
   ]
  },
  {
   "cell_type": "code",
   "execution_count": null,
   "id": "ffea784b",
   "metadata": {},
   "outputs": [],
   "source": [
    "import cProfile\n",
    "import pstats\n",
    "\n",
    "def my_function():\n",
    "    1*2\n",
    "    print('hi')\n",
    "\n",
    "# Run the code being profiled using cProfile, storing result in obj 'profiling_results'\n",
    "cProfile.run(\"my_function()\", \"profiling_results\")\n",
    "\n",
    "# Load the profiling results into a pstats.Stats object\n",
    "stats = pstats.Stats(\"profiling_results\")\n",
    "\n",
    "# Use the pstats.Stats object to analyze the profiling results\n",
    "stats.strip_dirs()\n",
    "stats.sort_stats(\"time\")\n",
    "stats.print_stats(20)\n"
   ]
  },
  {
   "cell_type": "code",
   "execution_count": null,
   "id": "21b627e0",
   "metadata": {},
   "outputs": [],
   "source": [
    "import trace\n",
    "\n",
    "def my_function(x, y):\n",
    "    return x + y\n",
    "\n",
    "# Start tracing\n",
    "trace.trace(trace=1, count=1)\n",
    "\n",
    "# Call the function\n",
    "result = my_function(1, 2)\n",
    "\n",
    "# Stop tracing\n",
    "trace.trace(trace=0)\n",
    "\n",
    "# Print the trace output\n",
    "print(trace.results())\n"
   ]
  },
  {
   "cell_type": "code",
   "execution_count": 2,
   "id": "9727df4a",
   "metadata": {},
   "outputs": [
    {
     "data": {
      "text/plain": [
       "['__abstractmethods__',\n",
       " '__class__',\n",
       " '__del__',\n",
       " '__delattr__',\n",
       " '__dict__',\n",
       " '__dir__',\n",
       " '__doc__',\n",
       " '__enter__',\n",
       " '__eq__',\n",
       " '__exit__',\n",
       " '__format__',\n",
       " '__ge__',\n",
       " '__getattribute__',\n",
       " '__gt__',\n",
       " '__hash__',\n",
       " '__init__',\n",
       " '__init_subclass__',\n",
       " '__iter__',\n",
       " '__le__',\n",
       " '__lt__',\n",
       " '__module__',\n",
       " '__ne__',\n",
       " '__new__',\n",
       " '__next__',\n",
       " '__reduce__',\n",
       " '__reduce_ex__',\n",
       " '__repr__',\n",
       " '__setattr__',\n",
       " '__sizeof__',\n",
       " '__str__',\n",
       " '__subclasshook__',\n",
       " '_abc_impl',\n",
       " '_buffer',\n",
       " '_checkClosed',\n",
       " '_checkReadable',\n",
       " '_checkSeekable',\n",
       " '_checkWritable',\n",
       " '_exc',\n",
       " '_fid',\n",
       " '_flush',\n",
       " '_flush_buffer',\n",
       " '_flush_pending',\n",
       " '_io_loop',\n",
       " '_is_master_process',\n",
       " '_isatty',\n",
       " '_master_pid',\n",
       " '_new_buffer',\n",
       " '_original_stdstream_copy',\n",
       " '_schedule_flush',\n",
       " '_setup_stream_redirects',\n",
       " '_should_watch',\n",
       " '_subprocess_flush_pending',\n",
       " '_watch_pipe_fd',\n",
       " 'close',\n",
       " 'closed',\n",
       " 'detach',\n",
       " 'echo',\n",
       " 'encoding',\n",
       " 'errors',\n",
       " 'fileno',\n",
       " 'flush',\n",
       " 'flush_interval',\n",
       " 'flush_timeout',\n",
       " 'isatty',\n",
       " 'name',\n",
       " 'newlines',\n",
       " 'parent_header',\n",
       " 'pub_thread',\n",
       " 'read',\n",
       " 'readable',\n",
       " 'readline',\n",
       " 'readlines',\n",
       " 'seek',\n",
       " 'seekable',\n",
       " 'session',\n",
       " 'set_parent',\n",
       " 'tell',\n",
       " 'topic',\n",
       " 'truncate',\n",
       " 'watch_fd_thread',\n",
       " 'writable',\n",
       " 'write',\n",
       " 'writelines']"
      ]
     },
     "execution_count": 2,
     "metadata": {},
     "output_type": "execute_result"
    }
   ],
   "source": [
    "import sys\n",
    "dir(sys.stdout)"
   ]
  },
  {
   "cell_type": "code",
   "execution_count": 13,
   "id": "51e87edc",
   "metadata": {},
   "outputs": [
    {
     "data": {
      "text/plain": [
       "0"
      ]
     },
     "execution_count": 13,
     "metadata": {},
     "output_type": "execute_result"
    }
   ],
   "source": [
    "sys.get_coroutine_origin_tracking_depth()"
   ]
  },
  {
   "cell_type": "code",
   "execution_count": 14,
   "id": "381ad189",
   "metadata": {},
   "outputs": [
    {
     "data": {
      "text/plain": [
       "1013"
      ]
     },
     "execution_count": 14,
     "metadata": {},
     "output_type": "execute_result"
    }
   ],
   "source": [
    "sys.api_version"
   ]
  },
  {
   "cell_type": "code",
   "execution_count": 19,
   "id": "28f8f377",
   "metadata": {},
   "outputs": [
    {
     "ename": "TypeError",
     "evalue": "object NoneType can't be used in 'await' expression",
     "output_type": "error",
     "traceback": [
      "\u001b[0;31m---------------------------------------------------------------------------\u001b[0m",
      "\u001b[0;31mTypeError\u001b[0m                                 Traceback (most recent call last)",
      "\u001b[0;32m/var/folders/x2/bt81rqpj7pl_j7fczgml3pd80000gn/T/ipykernel_41239/814959978.py\u001b[0m in \u001b[0;36mopen_file\u001b[0;34m(file, mode)\u001b[0m\n\u001b[1;32m     11\u001b[0m     \u001b[0;32mtry\u001b[0m\u001b[0;34m:\u001b[0m\u001b[0;34m\u001b[0m\u001b[0;34m\u001b[0m\u001b[0m\n\u001b[0;32m---> 12\u001b[0;31m         \u001b[0;32myield\u001b[0m \u001b[0mf\u001b[0m\u001b[0;34m\u001b[0m\u001b[0;34m\u001b[0m\u001b[0m\n\u001b[0m\u001b[1;32m     13\u001b[0m     \u001b[0;32mfinally\u001b[0m\u001b[0;34m:\u001b[0m\u001b[0;34m\u001b[0m\u001b[0;34m\u001b[0m\u001b[0m\n",
      "\u001b[0;32m/var/folders/x2/bt81rqpj7pl_j7fczgml3pd80000gn/T/ipykernel_41239/814959978.py\u001b[0m in \u001b[0;36mmain\u001b[0;34m()\u001b[0m\n\u001b[1;32m     17\u001b[0m     \u001b[0;32masync\u001b[0m \u001b[0;32mwith\u001b[0m \u001b[0mopen_file\u001b[0m\u001b[0;34m(\u001b[0m\u001b[0;34m'test.txt'\u001b[0m\u001b[0;34m,\u001b[0m \u001b[0;34m'w'\u001b[0m\u001b[0;34m)\u001b[0m \u001b[0;32mas\u001b[0m \u001b[0mf\u001b[0m\u001b[0;34m:\u001b[0m\u001b[0;34m\u001b[0m\u001b[0;34m\u001b[0m\u001b[0m\n\u001b[0;32m---> 18\u001b[0;31m         \u001b[0;32mawait\u001b[0m \u001b[0mf\u001b[0m\u001b[0;34m.\u001b[0m\u001b[0mwrite\u001b[0m\u001b[0;34m(\u001b[0m\u001b[0;34m'Hello, World!'\u001b[0m\u001b[0;34m)\u001b[0m\u001b[0;34m\u001b[0m\u001b[0;34m\u001b[0m\u001b[0m\n\u001b[0m\u001b[1;32m     19\u001b[0m \u001b[0;34m\u001b[0m\u001b[0m\n",
      "\u001b[0;31mTypeError\u001b[0m: object int can't be used in 'await' expression",
      "\nDuring handling of the above exception, another exception occurred:\n",
      "\u001b[0;31mTypeError\u001b[0m                                 Traceback (most recent call last)",
      "\u001b[0;32m/var/folders/x2/bt81rqpj7pl_j7fczgml3pd80000gn/T/ipykernel_41239/814959978.py\u001b[0m in \u001b[0;36m<module>\u001b[0;34m\u001b[0m\n\u001b[1;32m     18\u001b[0m         \u001b[0;32mawait\u001b[0m \u001b[0mf\u001b[0m\u001b[0;34m.\u001b[0m\u001b[0mwrite\u001b[0m\u001b[0;34m(\u001b[0m\u001b[0;34m'Hello, World!'\u001b[0m\u001b[0;34m)\u001b[0m\u001b[0;34m\u001b[0m\u001b[0;34m\u001b[0m\u001b[0m\n\u001b[1;32m     19\u001b[0m \u001b[0;34m\u001b[0m\u001b[0m\n\u001b[0;32m---> 20\u001b[0;31m \u001b[0;32mawait\u001b[0m \u001b[0mmain\u001b[0m\u001b[0;34m(\u001b[0m\u001b[0;34m)\u001b[0m\u001b[0;34m\u001b[0m\u001b[0;34m\u001b[0m\u001b[0m\n\u001b[0m",
      "\u001b[0;32m/var/folders/x2/bt81rqpj7pl_j7fczgml3pd80000gn/T/ipykernel_41239/814959978.py\u001b[0m in \u001b[0;36mmain\u001b[0;34m()\u001b[0m\n\u001b[1;32m     16\u001b[0m \u001b[0;32masync\u001b[0m \u001b[0;32mdef\u001b[0m \u001b[0mmain\u001b[0m\u001b[0;34m(\u001b[0m\u001b[0;34m)\u001b[0m\u001b[0;34m:\u001b[0m\u001b[0;34m\u001b[0m\u001b[0;34m\u001b[0m\u001b[0m\n\u001b[1;32m     17\u001b[0m     \u001b[0;32masync\u001b[0m \u001b[0;32mwith\u001b[0m \u001b[0mopen_file\u001b[0m\u001b[0;34m(\u001b[0m\u001b[0;34m'test.txt'\u001b[0m\u001b[0;34m,\u001b[0m \u001b[0;34m'w'\u001b[0m\u001b[0;34m)\u001b[0m \u001b[0;32mas\u001b[0m \u001b[0mf\u001b[0m\u001b[0;34m:\u001b[0m\u001b[0;34m\u001b[0m\u001b[0;34m\u001b[0m\u001b[0m\n\u001b[0;32m---> 18\u001b[0;31m         \u001b[0;32mawait\u001b[0m \u001b[0mf\u001b[0m\u001b[0;34m.\u001b[0m\u001b[0mwrite\u001b[0m\u001b[0;34m(\u001b[0m\u001b[0;34m'Hello, World!'\u001b[0m\u001b[0;34m)\u001b[0m\u001b[0;34m\u001b[0m\u001b[0;34m\u001b[0m\u001b[0m\n\u001b[0m\u001b[1;32m     19\u001b[0m \u001b[0;34m\u001b[0m\u001b[0m\n\u001b[1;32m     20\u001b[0m \u001b[0;32mawait\u001b[0m \u001b[0mmain\u001b[0m\u001b[0;34m(\u001b[0m\u001b[0;34m)\u001b[0m\u001b[0;34m\u001b[0m\u001b[0;34m\u001b[0m\u001b[0m\n",
      "\u001b[0;32m~/opt/anaconda3/lib/python3.9/contextlib.py\u001b[0m in \u001b[0;36m__aexit__\u001b[0;34m(self, typ, value, traceback)\u001b[0m\n\u001b[1;32m    197\u001b[0m                 \u001b[0mvalue\u001b[0m \u001b[0;34m=\u001b[0m \u001b[0mtyp\u001b[0m\u001b[0;34m(\u001b[0m\u001b[0;34m)\u001b[0m\u001b[0;34m\u001b[0m\u001b[0;34m\u001b[0m\u001b[0m\n\u001b[1;32m    198\u001b[0m             \u001b[0;32mtry\u001b[0m\u001b[0;34m:\u001b[0m\u001b[0;34m\u001b[0m\u001b[0;34m\u001b[0m\u001b[0m\n\u001b[0;32m--> 199\u001b[0;31m                 \u001b[0;32mawait\u001b[0m \u001b[0mself\u001b[0m\u001b[0;34m.\u001b[0m\u001b[0mgen\u001b[0m\u001b[0;34m.\u001b[0m\u001b[0mathrow\u001b[0m\u001b[0;34m(\u001b[0m\u001b[0mtyp\u001b[0m\u001b[0;34m,\u001b[0m \u001b[0mvalue\u001b[0m\u001b[0;34m,\u001b[0m \u001b[0mtraceback\u001b[0m\u001b[0;34m)\u001b[0m\u001b[0;34m\u001b[0m\u001b[0;34m\u001b[0m\u001b[0m\n\u001b[0m\u001b[1;32m    200\u001b[0m             \u001b[0;32mexcept\u001b[0m \u001b[0mStopAsyncIteration\u001b[0m \u001b[0;32mas\u001b[0m \u001b[0mexc\u001b[0m\u001b[0;34m:\u001b[0m\u001b[0;34m\u001b[0m\u001b[0;34m\u001b[0m\u001b[0m\n\u001b[1;32m    201\u001b[0m                 \u001b[0;31m# Suppress StopIteration *unless* it's the same exception that\u001b[0m\u001b[0;34m\u001b[0m\u001b[0;34m\u001b[0m\u001b[0m\n",
      "\u001b[0;32m/var/folders/x2/bt81rqpj7pl_j7fczgml3pd80000gn/T/ipykernel_41239/814959978.py\u001b[0m in \u001b[0;36mopen_file\u001b[0;34m(file, mode)\u001b[0m\n\u001b[1;32m     12\u001b[0m         \u001b[0;32myield\u001b[0m \u001b[0mf\u001b[0m\u001b[0;34m\u001b[0m\u001b[0;34m\u001b[0m\u001b[0m\n\u001b[1;32m     13\u001b[0m     \u001b[0;32mfinally\u001b[0m\u001b[0;34m:\u001b[0m\u001b[0;34m\u001b[0m\u001b[0;34m\u001b[0m\u001b[0m\n\u001b[0;32m---> 14\u001b[0;31m         \u001b[0;32mawait\u001b[0m \u001b[0mf\u001b[0m\u001b[0;34m.\u001b[0m\u001b[0mclose\u001b[0m\u001b[0;34m(\u001b[0m\u001b[0;34m)\u001b[0m\u001b[0;34m\u001b[0m\u001b[0;34m\u001b[0m\u001b[0m\n\u001b[0m\u001b[1;32m     15\u001b[0m \u001b[0;34m\u001b[0m\u001b[0m\n\u001b[1;32m     16\u001b[0m \u001b[0;32masync\u001b[0m \u001b[0;32mdef\u001b[0m \u001b[0mmain\u001b[0m\u001b[0;34m(\u001b[0m\u001b[0;34m)\u001b[0m\u001b[0;34m:\u001b[0m\u001b[0;34m\u001b[0m\u001b[0;34m\u001b[0m\u001b[0m\n",
      "\u001b[0;31mTypeError\u001b[0m: object NoneType can't be used in 'await' expression"
     ]
    }
   ],
   "source": [
    "import asyncio\n",
    "import contextlib\n",
    "\n",
    "async def openasync(file, mode):\n",
    "    return open(file, mode)\n",
    "\n",
    "\n",
    "@contextlib.asynccontextmanager\n",
    "async def open_file(file, mode):\n",
    "    f = await openasync(file, mode)\n",
    "    try:\n",
    "        yield f\n",
    "    finally:\n",
    "        await f.close()\n",
    "\n",
    "\n",
    "async def main():\n",
    "    async with open_file('test.txt', 'w') as f:\n",
    "        await f.write('Hello, World!')\n",
    "\n",
    "await main()\n"
   ]
  },
  {
   "cell_type": "code",
   "execution_count": 21,
   "id": "06736183",
   "metadata": {},
   "outputs": [
    {
     "data": {
      "text/plain": [
       "<asyncio.unix_events._UnixDefaultEventLoopPolicy at 0x7fda523251c0>"
      ]
     },
     "execution_count": 21,
     "metadata": {},
     "output_type": "execute_result"
    }
   ],
   "source": [
    "asyncio.get_event_loop_policy()"
   ]
  },
  {
   "cell_type": "code",
   "execution_count": 38,
   "id": "4de643fe",
   "metadata": {},
   "outputs": [
    {
     "data": {
      "text/plain": [
       "0.6087310314178467"
      ]
     },
     "execution_count": 38,
     "metadata": {},
     "output_type": "execute_result"
    }
   ],
   "source": [
    "import asyncio\n",
    "import aiohttp\n",
    "from time import time\n",
    "\n",
    "async def fetch(session, url):\n",
    "    async with session.get(url) as response:\n",
    "        return await response.text()\n",
    "\n",
    "async def main():\n",
    "    async with aiohttp.ClientSession() as session:\n",
    "        # Create a list of tasks to run concurrently\n",
    "        tasks = [fetch(session, f'http://google.com') for i in range(100)]\n",
    "        # Use asyncio.gather to run the tasks concurrently\n",
    "        results = await asyncio.gather(*tasks)\n",
    "        return results\n",
    "\n",
    "t1 = time()\n",
    "res = await main()\n",
    "time() - t1"
   ]
  },
  {
   "cell_type": "code",
   "execution_count": 49,
   "id": "226bd197",
   "metadata": {},
   "outputs": [
    {
     "data": {
      "text/plain": [
       "array([[0.60950889, 0.19458971, 0.56310982, 0.67851725, 0.44799328],\n",
       "       [0.74685503, 0.49453248, 0.85610427, 0.98553755, 0.78706662],\n",
       "       [0.82685706, 0.69527014, 0.69865362, 0.73073036, 0.72655735],\n",
       "       [0.00173131, 0.61951283, 0.47658499, 0.52267093, 0.35264791],\n",
       "       [0.98131821, 0.91268901, 0.75464793, 0.29506772, 0.05409064]])"
      ]
     },
     "execution_count": 49,
     "metadata": {},
     "output_type": "execute_result"
    }
   ],
   "source": [
    "import numpy as np\n",
    "p = np.random.rand(5,5)\n",
    "p"
   ]
  },
  {
   "cell_type": "code",
   "execution_count": 58,
   "id": "243ec3ec",
   "metadata": {},
   "outputs": [
    {
     "data": {
      "text/plain": [
       "array([[0.60950889, 0.19458971, 0.56310982],\n",
       "       [0.74685503, 0.49453248, 0.85610427],\n",
       "       [0.82685706, 0.69527014, 0.69865362]])"
      ]
     },
     "execution_count": 58,
     "metadata": {},
     "output_type": "execute_result"
    }
   ],
   "source": [
    "p[0:3,0:3]"
   ]
  },
  {
   "cell_type": "code",
   "execution_count": 84,
   "id": "8d6acb18",
   "metadata": {},
   "outputs": [
    {
     "data": {
      "text/plain": [
       "[[1, 2], [3], [1, 1, 1]]"
      ]
     },
     "execution_count": 84,
     "metadata": {},
     "output_type": "execute_result"
    }
   ],
   "source": [
    "import itertools as it\n",
    "\n",
    "target = 3\n",
    "combos = []\n",
    "candidates = [1,2,3,4]\n",
    "for i in range(1,len(candidates)+1):\n",
    "    for k in it.combinations_with_replacement([1,2,3,4],i):\n",
    "        if sum(k) == target:\n",
    "            combos.append(k)\n",
    "outset = set()\n",
    "for c in combos:\n",
    "    outset.add(c)\n",
    "[list(o) for o in outset]"
   ]
  },
  {
   "cell_type": "code",
   "execution_count": 90,
   "id": "37c1b5a5",
   "metadata": {},
   "outputs": [
    {
     "data": {
      "text/plain": [
       "[1, 3, 24]"
      ]
     },
     "execution_count": 90,
     "metadata": {},
     "output_type": "execute_result"
    }
   ],
   "source": [
    "sorted([1,24,3])"
   ]
  },
  {
   "cell_type": "code",
   "execution_count": 87,
   "id": "db508dab",
   "metadata": {},
   "outputs": [
    {
     "data": {
      "text/plain": [
       "[1,\n",
       " 1,\n",
       " 1,\n",
       " 1,\n",
       " 1,\n",
       " 1,\n",
       " 1,\n",
       " 1,\n",
       " 2,\n",
       " 2,\n",
       " 2,\n",
       " 2,\n",
       " 2,\n",
       " 2,\n",
       " 2,\n",
       " 2,\n",
       " 3,\n",
       " 3,\n",
       " 3,\n",
       " 3,\n",
       " 3,\n",
       " 3,\n",
       " 3,\n",
       " 3,\n",
       " 4,\n",
       " 4,\n",
       " 4,\n",
       " 4,\n",
       " 4,\n",
       " 4,\n",
       " 4,\n",
       " 4]"
      ]
     },
     "execution_count": 87,
     "metadata": {},
     "output_type": "execute_result"
    }
   ],
   "source": [
    "uniq_cands = list(set(candidates))\n",
    "nc = [[c, c, c, c, c, c, c, c] for c in uniq_cands]\n",
    "candidates = []\n",
    "for c in nc:\n",
    "    candidates.extend(c) \n",
    "candidates"
   ]
  },
  {
   "cell_type": "code",
   "execution_count": 99,
   "id": "9befea9b",
   "metadata": {},
   "outputs": [
    {
     "data": {
      "text/plain": [
       "[(1, 1, 2), (1, 2, 1), (2, 1, 1)]"
      ]
     },
     "execution_count": 99,
     "metadata": {},
     "output_type": "execute_result"
    }
   ],
   "source": [
    "ls = []\n",
    "for k in it.permutations([1,1,2]):\n",
    "    if k not in ls:\n",
    "        ls.append(k)\n",
    "ls"
   ]
  },
  {
   "cell_type": "code",
   "execution_count": 96,
   "id": "dbbb3a41",
   "metadata": {},
   "outputs": [
    {
     "ename": "TypeError",
     "evalue": "'itertools.product' object is not callable",
     "output_type": "error",
     "traceback": [
      "\u001b[0;31m---------------------------------------------------------------------------\u001b[0m",
      "\u001b[0;31mTypeError\u001b[0m                                 Traceback (most recent call last)",
      "\u001b[0;32m/var/folders/x2/bt81rqpj7pl_j7fczgml3pd80000gn/T/ipykernel_41239/3397016893.py\u001b[0m in \u001b[0;36m<module>\u001b[0;34m\u001b[0m\n\u001b[0;32m----> 1\u001b[0;31m \u001b[0;32mfor\u001b[0m \u001b[0mk\u001b[0m \u001b[0;32min\u001b[0m \u001b[0mit\u001b[0m\u001b[0;34m.\u001b[0m\u001b[0mproduct\u001b[0m\u001b[0;34m(\u001b[0m\u001b[0;34m)\u001b[0m\u001b[0;34m(\u001b[0m\u001b[0;34m[\u001b[0m\u001b[0;36m1\u001b[0m\u001b[0;34m,\u001b[0m\u001b[0;36m2\u001b[0m\u001b[0;34m,\u001b[0m\u001b[0;36m4\u001b[0m\u001b[0;34m,\u001b[0m\u001b[0;36m5\u001b[0m\u001b[0;34m]\u001b[0m\u001b[0;34m)\u001b[0m\u001b[0;34m:\u001b[0m\u001b[0;34m\u001b[0m\u001b[0;34m\u001b[0m\u001b[0m\n\u001b[0m\u001b[1;32m      2\u001b[0m     \u001b[0mprint\u001b[0m\u001b[0;34m(\u001b[0m\u001b[0mk\u001b[0m\u001b[0;34m)\u001b[0m\u001b[0;34m\u001b[0m\u001b[0;34m\u001b[0m\u001b[0m\n",
      "\u001b[0;31mTypeError\u001b[0m: 'itertools.product' object is not callable"
     ]
    }
   ],
   "source": [
    "for k in it.product()([1,2,4,5]):\n",
    "    print(k)"
   ]
  },
  {
   "cell_type": "code",
   "execution_count": 103,
   "id": "df2596c5",
   "metadata": {},
   "outputs": [
    {
     "data": {
      "text/plain": [
       "[[1],\n",
       " [1, 2],\n",
       " [1, 2, 3],\n",
       " [1, 2, 3, 4],\n",
       " [2],\n",
       " [2, 3],\n",
       " [2, 3, 4],\n",
       " [3],\n",
       " [3, 4],\n",
       " [4]]"
      ]
     },
     "execution_count": 103,
     "metadata": {},
     "output_type": "execute_result"
    }
   ],
   "source": [
    "L=[1,2,3,4]\n",
    "[L[i:i+j] for i in range(0,len(L)) for j in range(1,len(L)-i+1)]"
   ]
  },
  {
   "cell_type": "code",
   "execution_count": 120,
   "id": "1210430a",
   "metadata": {},
   "outputs": [
    {
     "name": "stdout",
     "output_type": "stream",
     "text": [
      "2\n",
      "a\n"
     ]
    },
    {
     "data": {
      "text/plain": [
       "[[1, 6], [8, 10], [15, 18]]"
      ]
     },
     "execution_count": 120,
     "metadata": {},
     "output_type": "execute_result"
    }
   ],
   "source": [
    "intervals = [[1,3],[2,6],[8,10],[15,18]]\n",
    "g1 = intervals[0]\n",
    "cont = False\n",
    "\n",
    "gs = []\n",
    "for i in range(len(intervals) - 1):\n",
    "    if cont:\n",
    "        cont = False\n",
    "        continue\n",
    "    if g1[1] >= intervals[i + 1][0]:\n",
    "        g1 = [g1[0], intervals[i + 1][1]]\n",
    "        cont = True\n",
    "    else:\n",
    "        g1 = intervals[i]\n",
    "        \n",
    "    \n",
    "    gs.append(g1)\n",
    "\n",
    "\n",
    "if i == len(intervals) - 2:\n",
    "    print('a')\n",
    "    if g1[1] < intervals[-1][0]:\n",
    "        gs.append(intervals[-1])\n",
    "\n",
    "gs"
   ]
  },
  {
   "cell_type": "code",
   "execution_count": 122,
   "id": "00b90699",
   "metadata": {},
   "outputs": [
    {
     "ename": "IndexError",
     "evalue": "list index out of range",
     "output_type": "error",
     "traceback": [
      "\u001b[0;31m---------------------------------------------------------------------------\u001b[0m",
      "\u001b[0;31mIndexError\u001b[0m                                Traceback (most recent call last)",
      "\u001b[0;32m/var/folders/x2/bt81rqpj7pl_j7fczgml3pd80000gn/T/ipykernel_41239/2495454849.py\u001b[0m in \u001b[0;36m<module>\u001b[0;34m\u001b[0m\n\u001b[0;32m----> 1\u001b[0;31m \u001b[0msorted\u001b[0m\u001b[0;34m(\u001b[0m\u001b[0;34m[\u001b[0m\u001b[0mk\u001b[0m\u001b[0;34m[\u001b[0m\u001b[0;36m0\u001b[0m\u001b[0;34m]\u001b[0m \u001b[0;32mfor\u001b[0m \u001b[0mk\u001b[0m \u001b[0;32min\u001b[0m \u001b[0mintervals\u001b[0m\u001b[0;34m]\u001b[0m\u001b[0;34m,\u001b[0m \u001b[0mkey\u001b[0m\u001b[0;34m=\u001b[0m\u001b[0;32mlambda\u001b[0m \u001b[0mk\u001b[0m\u001b[0;34m:\u001b[0m \u001b[0mintervals\u001b[0m\u001b[0;34m[\u001b[0m\u001b[0mk\u001b[0m\u001b[0;34m]\u001b[0m\u001b[0;34m)\u001b[0m\u001b[0;34m\u001b[0m\u001b[0;34m\u001b[0m\u001b[0m\n\u001b[0m",
      "\u001b[0;32m/var/folders/x2/bt81rqpj7pl_j7fczgml3pd80000gn/T/ipykernel_41239/2495454849.py\u001b[0m in \u001b[0;36m<lambda>\u001b[0;34m(k)\u001b[0m\n\u001b[0;32m----> 1\u001b[0;31m \u001b[0msorted\u001b[0m\u001b[0;34m(\u001b[0m\u001b[0;34m[\u001b[0m\u001b[0mk\u001b[0m\u001b[0;34m[\u001b[0m\u001b[0;36m0\u001b[0m\u001b[0;34m]\u001b[0m \u001b[0;32mfor\u001b[0m \u001b[0mk\u001b[0m \u001b[0;32min\u001b[0m \u001b[0mintervals\u001b[0m\u001b[0;34m]\u001b[0m\u001b[0;34m,\u001b[0m \u001b[0mkey\u001b[0m\u001b[0;34m=\u001b[0m\u001b[0;32mlambda\u001b[0m \u001b[0mk\u001b[0m\u001b[0;34m:\u001b[0m \u001b[0mintervals\u001b[0m\u001b[0;34m[\u001b[0m\u001b[0mk\u001b[0m\u001b[0;34m]\u001b[0m\u001b[0;34m)\u001b[0m\u001b[0;34m\u001b[0m\u001b[0;34m\u001b[0m\u001b[0m\n\u001b[0m",
      "\u001b[0;31mIndexError\u001b[0m: list index out of range"
     ]
    }
   ],
   "source": [
    "sorted([k[0] for k in intervals], key=lambda k: intervals[k])"
   ]
  },
  {
   "cell_type": "code",
   "execution_count": 123,
   "id": "343723c0",
   "metadata": {},
   "outputs": [
    {
     "data": {
      "text/plain": [
       "[1, 2, 8, 15]"
      ]
     },
     "execution_count": 123,
     "metadata": {},
     "output_type": "execute_result"
    }
   ],
   "source": [
    "[k[0] for k in intervals]"
   ]
  },
  {
   "cell_type": "code",
   "execution_count": 128,
   "id": "a456956a",
   "metadata": {},
   "outputs": [
    {
     "name": "stdout",
     "output_type": "stream",
     "text": [
      "[0 1 2 3]\n"
     ]
    }
   ],
   "source": [
    "\n",
    "import numpy as np\n",
    "s = np.asarray([i[0] for i in intervals])\n",
    "sort_index = np.argsort(s)\n",
    "print(sort_index)"
   ]
  },
  {
   "cell_type": "code",
   "execution_count": 131,
   "id": "0f1e9f6d",
   "metadata": {},
   "outputs": [
    {
     "data": {
      "text/plain": [
       "array([[0., 0., 0.],\n",
       "       [0., 0., 0.],\n",
       "       [0., 0., 0.]])"
      ]
     },
     "execution_count": 131,
     "metadata": {},
     "output_type": "execute_result"
    }
   ],
   "source": [
    "n=3\n",
    "np.zeros((n,n))"
   ]
  },
  {
   "cell_type": "code",
   "execution_count": 133,
   "id": "80dc03a7",
   "metadata": {},
   "outputs": [
    {
     "ename": "TypeError",
     "evalue": "'type' object is not an iterator",
     "output_type": "error",
     "traceback": [
      "\u001b[0;31m---------------------------------------------------------------------------\u001b[0m",
      "\u001b[0;31mTypeError\u001b[0m                                 Traceback (most recent call last)",
      "\u001b[0;32m/var/folders/x2/bt81rqpj7pl_j7fczgml3pd80000gn/T/ipykernel_41239/3738403403.py\u001b[0m in \u001b[0;36m<module>\u001b[0;34m\u001b[0m\n\u001b[0;32m----> 1\u001b[0;31m \u001b[0mnext\u001b[0m\u001b[0;34m(\u001b[0m\u001b[0mtype\u001b[0m\u001b[0;34m(\u001b[0m \u001b[0mrange\u001b[0m\u001b[0;34m(\u001b[0m\u001b[0;36m1\u001b[0m\u001b[0;34m,\u001b[0m \u001b[0mn\u001b[0m\u001b[0;34m*\u001b[0m\u001b[0mn\u001b[0m \u001b[0;34m+\u001b[0m \u001b[0;36m1\u001b[0m\u001b[0;34m)\u001b[0m\u001b[0;34m)\u001b[0m\u001b[0;34m)\u001b[0m\u001b[0;34m\u001b[0m\u001b[0;34m\u001b[0m\u001b[0m\n\u001b[0m",
      "\u001b[0;31mTypeError\u001b[0m: 'type' object is not an iterator"
     ]
    }
   ],
   "source": [
    "next(type( range(1, n*n + 1))"
   ]
  },
  {
   "cell_type": "code",
   "execution_count": 142,
   "id": "943218ac",
   "metadata": {},
   "outputs": [
    {
     "data": {
      "text/plain": [
       "array([0.66792041])"
      ]
     },
     "execution_count": 142,
     "metadata": {},
     "output_type": "execute_result"
    }
   ],
   "source": [
    "np.random.rand(1)"
   ]
  },
  {
   "cell_type": "code",
   "execution_count": 145,
   "id": "4d9da6da",
   "metadata": {},
   "outputs": [
    {
     "name": "stdout",
     "output_type": "stream",
     "text": [
      "a\n"
     ]
    }
   ],
   "source": [
    "try:\n",
    "    1 / 0\n",
    "except ArithmeticError:\n",
    "    print('a')"
   ]
  },
  {
   "cell_type": "code",
   "execution_count": 152,
   "id": "d5a2d969",
   "metadata": {},
   "outputs": [
    {
     "data": {
      "text/plain": [
       "24749.430128667"
      ]
     },
     "execution_count": 152,
     "metadata": {},
     "output_type": "execute_result"
    }
   ],
   "source": [
    "import time\n",
    "time.monotonic()"
   ]
  },
  {
   "cell_type": "code",
   "execution_count": 156,
   "id": "8bd62903",
   "metadata": {},
   "outputs": [],
   "source": [
    "# AssertionError\n"
   ]
  },
  {
   "cell_type": "code",
   "execution_count": 177,
   "id": "34de40c1",
   "metadata": {},
   "outputs": [
    {
     "name": "stdout",
     "output_type": "stream",
     "text": [
      "A Record :  34.218.62.116\n",
      "A Record :  34.218.62.116\n"
     ]
    },
    {
     "name": "stderr",
     "output_type": "stream",
     "text": [
      "/var/folders/x2/bt81rqpj7pl_j7fczgml3pd80000gn/T/ipykernel_41239/2503854474.py:5: DeprecationWarning: please use dns.resolver.resolve() instead\n",
      "  result = [dns.resolver.query('geeksforgeeks.org', 'A'),\n",
      "/var/folders/x2/bt81rqpj7pl_j7fczgml3pd80000gn/T/ipykernel_41239/2503854474.py:6: DeprecationWarning: please use dns.resolver.resolve() instead\n",
      "  dns.resolver.query('geeksforgeeks.org', 'A')]\n"
     ]
    }
   ],
   "source": [
    "# pip3 install dnspython\n",
    "import dns.resolver\n",
    "  \n",
    "# Finding records\n",
    "result = [dns.resolver.query('geeksforgeeks.org', 'A'),\n",
    "          dns.resolver.query('geeksforgeeks.org', 'A')]\n",
    "\n",
    "# Printing record\n",
    "for val in result:\n",
    "    print('A Record : ', val[0].to_text())"
   ]
  },
  {
   "cell_type": "code",
   "execution_count": 176,
   "id": "53d066e9",
   "metadata": {},
   "outputs": [
    {
     "data": {
      "text/plain": [
       "'34.218.62.116'"
      ]
     },
     "execution_count": 176,
     "metadata": {},
     "output_type": "execute_result"
    }
   ],
   "source": [
    "result[0].to_text()"
   ]
  },
  {
   "cell_type": "code",
   "execution_count": 164,
   "id": "f82cc7af",
   "metadata": {},
   "outputs": [
    {
     "name": "stdout",
     "output_type": "stream",
     "text": [
      "context certs: None\n",
      "<ssl.SSLSocket fd=136, family=AddressFamily.AF_INET, type=SocketKind.SOCK_STREAM, proto=0, laddr=('0.0.0.0', 0)>\n",
      "None\n"
     ]
    }
   ],
   "source": [
    "import socket\n",
    "import ssl\n",
    "\n",
    "hostname = 'www.python.org'\n",
    "# PROTOCOL_TLS_CLIENT requires valid cert chain and hostname\n",
    "context = ssl.SSLContext(ssl.PROTOCOL_TLS_CLIENT)\n",
    "print(f'context certs: {context.load_default_certs()}')\n",
    "#context.load_verify_locations('path/to/cabundle.pem')\n",
    "\n",
    "with socket.socket(socket.AF_INET, socket.SOCK_STREAM, 0) as sock:\n",
    "    with context.wrap_socket(sock, server_hostname=hostname) as ssock:\n",
    "        print(ssock)\n",
    "        print(ssock.version())\n"
   ]
  },
  {
   "cell_type": "code",
   "execution_count": 204,
   "id": "86869bc7",
   "metadata": {},
   "outputs": [
    {
     "name": "stdout",
     "output_type": "stream",
     "text": [
      "<Task pending name='Task-5607' coro=<custom_coro() running at /var/folders/x2/bt81rqpj7pl_j7fczgml3pd80000gn/T/ipykernel_41239/2514762197.py:5>>\n",
      "a coro is occuring\n",
      "value: 3\n"
     ]
    }
   ],
   "source": [
    "import asyncio\n",
    "from time import sleep \n",
    "\n",
    "# define a coroutine\n",
    "async def custom_coro():\n",
    "    print('a coro is occuring')\n",
    "    return 3\n",
    "\n",
    "# create a task from said coroutine\n",
    "task = asyncio.create_task(custom_coro())\n",
    "\n",
    "# allow task to run: it will run without this, but not immediately\n",
    "# await task\n",
    "print(task)\n",
    "\n",
    "# check if a task is done\n",
    "if task.done():\n",
    "    print('done')\n",
    "\n",
    "# check if a task was canceled\n",
    "if task.cancelled():\n",
    "    print('cancelled')\n",
    "    \n",
    "if not task.done():\n",
    "    await task\n",
    "res = task.result()\n",
    "\n",
    "try:\n",
    "    # get the return value from the wrapped coroutine\n",
    "    value = task.result()\n",
    "    print(f'value: {value}')\n",
    "except asyncio.CancelledError as e:\n",
    "    print(e)"
   ]
  },
  {
   "cell_type": "code",
   "execution_count": 205,
   "id": "9d2543fc",
   "metadata": {},
   "outputs": [
    {
     "data": {
      "text/plain": [
       "{<Task pending name='Task-2' coro=<Kernel.dispatch_queue() running at /Users/adambricknell/opt/anaconda3/lib/python3.9/site-packages/ipykernel/kernelbase.py:457> cb=[IOLoop.add_future.<locals>.<lambda>() at /Users/adambricknell/opt/anaconda3/lib/python3.9/site-packages/tornado/ioloop.py:688]>}"
      ]
     },
     "execution_count": 205,
     "metadata": {},
     "output_type": "execute_result"
    }
   ],
   "source": [
    "# get all tasks\n",
    "tasks = asyncio.all_tasks()\n",
    "tasks"
   ]
  },
  {
   "cell_type": "code",
   "execution_count": null,
   "id": "4615e83c",
   "metadata": {},
   "outputs": [],
   "source": []
  },
  {
   "cell_type": "code",
   "execution_count": null,
   "id": "17489f0e",
   "metadata": {},
   "outputs": [],
   "source": []
  },
  {
   "cell_type": "code",
   "execution_count": null,
   "id": "ee11dec3",
   "metadata": {},
   "outputs": [],
   "source": []
  },
  {
   "cell_type": "code",
   "execution_count": null,
   "id": "f6c001ad",
   "metadata": {},
   "outputs": [],
   "source": []
  },
  {
   "cell_type": "code",
   "execution_count": null,
   "id": "d45c1113",
   "metadata": {},
   "outputs": [],
   "source": []
  },
  {
   "cell_type": "code",
   "execution_count": null,
   "id": "0d3eadfd",
   "metadata": {},
   "outputs": [],
   "source": []
  },
  {
   "cell_type": "code",
   "execution_count": null,
   "id": "d4a1bb18",
   "metadata": {},
   "outputs": [],
   "source": []
  },
  {
   "cell_type": "code",
   "execution_count": null,
   "id": "8ae1ddef",
   "metadata": {},
   "outputs": [],
   "source": []
  },
  {
   "cell_type": "code",
   "execution_count": null,
   "id": "8ea4fdd6",
   "metadata": {},
   "outputs": [],
   "source": []
  },
  {
   "cell_type": "code",
   "execution_count": null,
   "id": "3d30e5f0",
   "metadata": {},
   "outputs": [],
   "source": []
  },
  {
   "cell_type": "code",
   "execution_count": null,
   "id": "344186e7",
   "metadata": {},
   "outputs": [],
   "source": []
  },
  {
   "cell_type": "code",
   "execution_count": null,
   "id": "4424c21e",
   "metadata": {},
   "outputs": [],
   "source": []
  },
  {
   "cell_type": "code",
   "execution_count": null,
   "id": "0ddca5ce",
   "metadata": {},
   "outputs": [],
   "source": []
  },
  {
   "cell_type": "code",
   "execution_count": null,
   "id": "93fc6d95",
   "metadata": {},
   "outputs": [],
   "source": []
  },
  {
   "cell_type": "code",
   "execution_count": null,
   "id": "09d7b5ce",
   "metadata": {},
   "outputs": [],
   "source": []
  },
  {
   "cell_type": "code",
   "execution_count": null,
   "id": "faeb99f8",
   "metadata": {},
   "outputs": [],
   "source": []
  }
 ],
 "metadata": {
  "kernelspec": {
   "display_name": "Python 3 (ipykernel)",
   "language": "python",
   "name": "python3"
  },
  "language_info": {
   "codemirror_mode": {
    "name": "ipython",
    "version": 3
   },
   "file_extension": ".py",
   "mimetype": "text/x-python",
   "name": "python",
   "nbconvert_exporter": "python",
   "pygments_lexer": "ipython3",
   "version": "3.9.7"
  }
 },
 "nbformat": 4,
 "nbformat_minor": 5
}
