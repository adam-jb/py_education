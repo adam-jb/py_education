{
 "cells": [
  {
   "cell_type": "code",
   "execution_count": 4,
   "id": "dcec52d4",
   "metadata": {},
   "outputs": [
    {
     "name": "stdout",
     "output_type": "stream",
     "text": [
      "1\n",
      "2\n",
      "3\n",
      "4\n",
      "5\n",
      "1\n",
      "2\n",
      "3\n",
      "4\n",
      "5\n",
      "6\n",
      "7\n",
      "8\n",
      "9\n",
      "10\n",
      "11\n",
      "12\n",
      "13\n",
      "14\n",
      "15\n",
      "16\n",
      "17\n",
      "18\n",
      "19\n",
      "20\n"
     ]
    }
   ],
   "source": [
    "## iterators\n",
    "mytuple = (\"apple\", \"banana\", \"cherry\")\n",
    "myit = iter(mytuple)\n",
    "next(myit)\n",
    "\n",
    "\n",
    "# __iter__ method works like __init__, but the variable is iterable\n",
    "class MyNumbers:\n",
    "  def __iter__(self):\n",
    "    self.a = 1\n",
    "    return self\n",
    "\n",
    "  def __next__(self):\n",
    "    x = self.a\n",
    "    self.a += 1\n",
    "    return x\n",
    "\n",
    "myclass = MyNumbers()\n",
    "myiter = iter(myclass)\n",
    "\n",
    "print(next(myiter))\n",
    "print(next(myiter))\n",
    "print(next(myiter))\n",
    "print(next(myiter))\n",
    "print(next(myiter))\n",
    "\n",
    "\n",
    "## raise StopIteration to make it loop up to a point with 'for'\n",
    "class MyNumbers:\n",
    "  def __iter__(self):\n",
    "    self.a = 1\n",
    "    return self\n",
    "\n",
    "  def __next__(self):\n",
    "    if self.a <= 20:\n",
    "      x = self.a\n",
    "      self.a += 1\n",
    "      return x\n",
    "    else:\n",
    "      raise StopIteration\n",
    "\n",
    "myclass = MyNumbers()\n",
    "myiter = iter(myclass)\n",
    "\n",
    "for x in myiter:\n",
    "  print(x)"
   ]
  },
  {
   "cell_type": "code",
   "execution_count": 10,
   "id": "f8988cb9",
   "metadata": {},
   "outputs": [
    {
     "name": "stdout",
     "output_type": "stream",
     "text": [
      "1\n",
      "2\n",
      "3\n"
     ]
    }
   ],
   "source": [
    "# creating a generator by using 'yield' as part of __iter__\n",
    "class MyIterable:\n",
    "    def __init__(self, data):\n",
    "        self.data = data\n",
    "\n",
    "    def __iter__(self):\n",
    "        for x in self.data:\n",
    "            yield x\n",
    "            \n",
    "\n",
    "my_iterable = MyIterable([1, 2, 3])\n",
    "for x in my_iterable:\n",
    "    print(x)"
   ]
  },
  {
   "cell_type": "code",
   "execution_count": 31,
   "id": "e1636d6b",
   "metadata": {},
   "outputs": [
    {
     "data": {
      "text/plain": [
       "'00000000000000000000000000000000000000000000000000000000000000000000000000000000000000000000aioho422'"
      ]
     },
     "execution_count": 31,
     "metadata": {},
     "output_type": "execute_result"
    }
   ],
   "source": [
    "'aioho422'.zfill(100)"
   ]
  },
  {
   "cell_type": "code",
   "execution_count": 33,
   "id": "05844791",
   "metadata": {},
   "outputs": [
    {
     "name": "stdout",
     "output_type": "stream",
     "text": [
      "97\n",
      "98\n",
      "99\n",
      "101\n",
      "102\n",
      "103\n"
     ]
    }
   ],
   "source": [
    "v = memoryview(b'abcefg')\n",
    "for l in v:\n",
    "    print(l)"
   ]
  },
  {
   "cell_type": "code",
   "execution_count": 35,
   "id": "40d0a571",
   "metadata": {},
   "outputs": [
    {
     "data": {
      "text/plain": [
       "22222222"
      ]
     },
     "execution_count": 35,
     "metadata": {},
     "output_type": "execute_result"
    }
   ],
   "source": [
    "## memoryview\n",
    "import array\n",
    "a = array.array('l', [-11111111, 22222222, -33333333, 44444444])\n",
    "m = memoryview(a)\n",
    "m[1]\n",
    "\n"
   ]
  },
  {
   "cell_type": "code",
   "execution_count": 36,
   "id": "e7933334",
   "metadata": {},
   "outputs": [
    {
     "data": {
      "text/plain": [
       "True"
      ]
     },
     "execution_count": 36,
     "metadata": {},
     "output_type": "execute_result"
    }
   ],
   "source": [
    "# memoryview object can be hashed\n",
    "v = memoryview(b'abcefg')\n",
    "hash(v) == hash(b'abcefg')"
   ]
  },
  {
   "cell_type": "code",
   "execution_count": 38,
   "id": "83c8658b",
   "metadata": {},
   "outputs": [
    {
     "data": {
      "text/plain": [
       "'616263'"
      ]
     },
     "execution_count": 38,
     "metadata": {},
     "output_type": "execute_result"
    }
   ],
   "source": [
    "b\"abc\".hex()"
   ]
  },
  {
   "cell_type": "code",
   "execution_count": 47,
   "id": "7ed15446",
   "metadata": {},
   "outputs": [
    {
     "name": "stdout",
     "output_type": "stream",
     "text": [
      "72\n"
     ]
    },
    {
     "data": {
      "text/plain": [
       "bytearray(b'eello, world!')"
      ]
     },
     "execution_count": 47,
     "metadata": {},
     "output_type": "execute_result"
    }
   ],
   "source": [
    "my_bytearray = bytearray(b'Hello, world!')\n",
    "mv = memoryview(my_bytearray)\n",
    "\n",
    "# Do something with the memoryview\n",
    "mv[0]=101\n",
    "\n",
    "# Release the memory associated with the memoryview\n",
    "mv.release()\n",
    "\n",
    "# view change\n",
    "my_bytearray"
   ]
  },
  {
   "cell_type": "code",
   "execution_count": 56,
   "id": "f9b4b883",
   "metadata": {},
   "outputs": [
    {
     "data": {
      "text/plain": [
       "-272375401224217160"
      ]
     },
     "execution_count": 56,
     "metadata": {},
     "output_type": "execute_result"
    }
   ],
   "source": [
    "hash(frozenset([1,2,3]))"
   ]
  },
  {
   "cell_type": "code",
   "execution_count": 65,
   "id": "8b271e16",
   "metadata": {},
   "outputs": [
    {
     "name": "stdout",
     "output_type": "stream",
     "text": [
      "('four', 4)\n",
      "('three', 3)\n",
      "('two', 2)\n",
      "('one', 1)\n"
     ]
    },
    {
     "data": {
      "text/plain": [
       "{'one': 3, 'two': 3, 'three': 3, 'four': 3}"
      ]
     },
     "execution_count": 65,
     "metadata": {},
     "output_type": "execute_result"
    }
   ],
   "source": [
    "d = {\"one\": 1, \"two\": 2, \"three\": 3, \"four\": 4}\n",
    "for i in reversed(d.items()):\n",
    "    print(i)\n",
    "    d[i[0]] = 3\n",
    "d"
   ]
  },
  {
   "cell_type": "code",
   "execution_count": 66,
   "id": "b2f7a416",
   "metadata": {},
   "outputs": [
    {
     "data": {
      "text/plain": [
       "{'one': 2, 'two': 2, 'three': 2, 'four': 2}"
      ]
     },
     "execution_count": 66,
     "metadata": {},
     "output_type": "execute_result"
    }
   ],
   "source": [
    "for k,v in d.items():\n",
    "    d[k] = 2\n",
    "d"
   ]
  },
  {
   "cell_type": "code",
   "execution_count": 74,
   "id": "65f80701",
   "metadata": {},
   "outputs": [
    {
     "data": {
      "text/plain": [
       "dict_keys"
      ]
     },
     "execution_count": 74,
     "metadata": {},
     "output_type": "execute_result"
    }
   ],
   "source": [
    "type(d.keys())"
   ]
  },
  {
   "cell_type": "code",
   "execution_count": 76,
   "id": "c34da443",
   "metadata": {},
   "outputs": [
    {
     "data": {
      "text/plain": [
       "True"
      ]
     },
     "execution_count": 76,
     "metadata": {},
     "output_type": "execute_result"
    }
   ],
   "source": [
    "# confirm d (a dict) is a mapping object\n",
    "import collections.abc\n",
    "isinstance(d, collections.abc.Mapping)"
   ]
  },
  {
   "cell_type": "code",
   "execution_count": 97,
   "id": "a8fe13e8",
   "metadata": {},
   "outputs": [
    {
     "name": "stdout",
     "output_type": "stream",
     "text": [
      "2\n",
      "4\n",
      "(1, 2)\n",
      "(3, 4)\n",
      "5\n"
     ]
    }
   ],
   "source": [
    "# Create a custom mapping object: ie a dictionary with extra methods\n",
    "class MyMapping(collections.abc.Mapping):\n",
    "    def __init__(self, data):\n",
    "        self._data = data\n",
    "\n",
    "    def __getitem__(self, key):\n",
    "        return self._data[key]\n",
    "    \n",
    "    def __setitem__(self, key, newdata):\n",
    "        self._data[key] = newdata\n",
    "    \n",
    "    def __iter__(self):\n",
    "        for x in self._data:\n",
    "            yield x\n",
    "            \n",
    "    def __len__(self):\n",
    "        l = 0\n",
    "        for i in self:\n",
    "            l += 1\n",
    "        return l\n",
    "    \n",
    "k = MyMapping({1:2, 3:4})\n",
    "print(len(k))\n",
    "print(k[3])\n",
    "for v in k.items():\n",
    "    print(v)\n",
    "k[2] = 5\n",
    "print(k[2])"
   ]
  },
  {
   "cell_type": "code",
   "execution_count": 98,
   "id": "44825af5",
   "metadata": {},
   "outputs": [
    {
     "data": {
      "text/plain": [
       "Ellipsis"
      ]
     },
     "execution_count": 98,
     "metadata": {},
     "output_type": "execute_result"
    }
   ],
   "source": [
    "type(Ellipsis)()"
   ]
  },
  {
   "cell_type": "code",
   "execution_count": 99,
   "id": "fcc60a22",
   "metadata": {},
   "outputs": [
    {
     "data": {
      "text/plain": [
       "Ellipsis"
      ]
     },
     "execution_count": 99,
     "metadata": {},
     "output_type": "execute_result"
    }
   ],
   "source": [
    "Ellipsis"
   ]
  },
  {
   "cell_type": "code",
   "execution_count": null,
   "id": "b52e01ea",
   "metadata": {},
   "outputs": [],
   "source": [
    "### Can use Ellipsis in slicing and indexing: doesn't seem useful\n",
    "my_list = [1, 2, 3, 4, 5, 6]\n",
    "\n",
    "# Use Ellipsis to include all elements up to the fourth element\n",
    "print(my_list[:Ellipsis, 4])  # [1, 2, 3, 4]\n",
    "\n",
    "# Use Ellipsis to include all elements after the second element\n",
    "print(my_list[2, Ellipsis])  # [3, 4, 5, 6]\n",
    "\n",
    "# Use Ellipsis to include all elements\n",
    "print(my_list[Ellipsis])  # [1, 2, 3, 4, 5, 6]\n"
   ]
  },
  {
   "cell_type": "code",
   "execution_count": 103,
   "id": "c0388dde",
   "metadata": {},
   "outputs": [],
   "source": [
    "## NotImplemented shows user that method isn't made: inheriting class might want to create it\n",
    "\n",
    "class MyNumber:\n",
    "    def __add__(self, other):\n",
    "        # Implement __add__\n",
    "        pass\n",
    "\n",
    "    def __radd__(self, other):\n",
    "        # Return NotImplemented to delegate __radd__ to another object\n",
    "        return NotImplemented\n",
    "\n",
    "# Define a class that implements __radd__\n",
    "class MyOtherNumber:\n",
    "    def __radd__(self, other):\n",
    "        # Implement __radd__\n",
    "        pass\n",
    "\n",
    "MyNumber() + 2"
   ]
  },
  {
   "cell_type": "code",
   "execution_count": 106,
   "id": "2dc0c064",
   "metadata": {},
   "outputs": [
    {
     "data": {
      "text/plain": [
       "15"
      ]
     },
     "execution_count": 106,
     "metadata": {},
     "output_type": "execute_result"
    }
   ],
   "source": [
    "class MyNumber:\n",
    "    def __init__(self, value):\n",
    "        self.value = value\n",
    "\n",
    "    def __radd__(self, other):\n",
    "        # Return the sum of the other object and the value of the MyNumber object\n",
    "        return other + self.value\n",
    "\n",
    "# Create an object of the MyNumber class\n",
    "my_number = MyNumber(10)\n",
    "\n",
    "# this works\n",
    "5 + my_number\n",
    "\n",
    "# this would need __add__: my_number + 5\n"
   ]
  },
  {
   "cell_type": "code",
   "execution_count": 3,
   "id": "b16a5235",
   "metadata": {},
   "outputs": [
    {
     "data": {
      "text/plain": [
       "<coroutine object main at 0x7fe2800215c0>"
      ]
     },
     "execution_count": 3,
     "metadata": {},
     "output_type": "execute_result"
    }
   ],
   "source": [
    "# an async contextlib\n",
    "import contextlib\n",
    "import asyncio\n",
    "import requests\n",
    "@contextlib.asynccontextmanager\n",
    "async def get_google():\n",
    "    # Connect to the database\n",
    "    vals = requests.get('http://www.google.com')\n",
    "    try:\n",
    "        # Yield the connection\n",
    "        yield vals\n",
    "    finally:\n",
    "        # Close the connection\n",
    "        print('closed')\n",
    "async def main():\n",
    "    # Use the context manager to get a database connection\n",
    "    async with get_google() as google_txt:\n",
    "        print(google_txt.text)   \n",
    "# run one of the below 2 lines: need to start a new event loop if you've run loop.close()\n",
    "loop = asyncio.get_event_loop()\n",
    "loop = asyncio.new_event_loop()\n",
    "loop.run_until_complete(main())\n",
    "loop.close()"
   ]
  },
  {
   "cell_type": "code",
   "execution_count": 8,
   "id": "3cd85eff",
   "metadata": {},
   "outputs": [
    {
     "ename": "MyException",
     "evalue": "{'message': 'My hovercraft is full of animals', 'animal': 'eels'}",
     "output_type": "error",
     "traceback": [
      "\u001b[0;31m---------------------------------------------------------------------------\u001b[0m",
      "\u001b[0;31mMyException\u001b[0m                               Traceback (most recent call last)",
      "\u001b[0;32m/var/folders/x2/bt81rqpj7pl_j7fczgml3pd80000gn/T/ipykernel_11440/157969130.py\u001b[0m in \u001b[0;36m<module>\u001b[0;34m\u001b[0m\n\u001b[1;32m      3\u001b[0m     \u001b[0;34m\"\"\"Docstring for what the exception means\"\"\"\u001b[0m\u001b[0;34m\u001b[0m\u001b[0;34m\u001b[0m\u001b[0m\n\u001b[1;32m      4\u001b[0m \u001b[0;34m\u001b[0m\u001b[0m\n\u001b[0;32m----> 5\u001b[0;31m \u001b[0;32mraise\u001b[0m \u001b[0mMyException\u001b[0m\u001b[0;34m(\u001b[0m\u001b[0;34m{\u001b[0m\u001b[0;34m\"message\"\u001b[0m\u001b[0;34m:\u001b[0m\u001b[0;34m\"My hovercraft is full of animals\"\u001b[0m\u001b[0;34m,\u001b[0m \u001b[0;34m\"animal\"\u001b[0m\u001b[0;34m:\u001b[0m\u001b[0;34m\"eels\"\u001b[0m\u001b[0;34m}\u001b[0m\u001b[0;34m)\u001b[0m\u001b[0;34m\u001b[0m\u001b[0;34m\u001b[0m\u001b[0m\n\u001b[0m",
      "\u001b[0;31mMyException\u001b[0m: {'message': 'My hovercraft is full of animals', 'animal': 'eels'}"
     ]
    }
   ],
   "source": [
    "# this is a perfectly fine way to make a custom exception\n",
    "class MyException(Exception):\n",
    "    \"\"\"Docstring for what the exception means\"\"\"\n",
    "\n",
    "raise MyException({\"message\":\"My hovercraft is full of animals\", \"animal\":\"eels\"})\n"
   ]
  },
  {
   "cell_type": "code",
   "execution_count": 3,
   "id": "871dd9ee",
   "metadata": {},
   "outputs": [
    {
     "name": "stdout",
     "output_type": "stream",
     "text": [
      "eels\n"
     ]
    }
   ],
   "source": [
    "# more complicated way https://stackoverflow.com/questions/1319615/proper-way-to-declare-custom-exceptions-in-modern-python\n",
    "try:\n",
    "    raise MyException({\"message\":\"My hovercraft is full of animals\", \"animal\":\"eels\"})\n",
    "except MyException as e:\n",
    "    details = e.args[0]\n",
    "    print(details[\"animal\"])\n"
   ]
  },
  {
   "cell_type": "code",
   "execution_count": 17,
   "id": "811cf764",
   "metadata": {},
   "outputs": [
    {
     "ename": "MyAppValueError",
     "evalue": "('msg for user', 'something else', 'wasteman')",
     "output_type": "error",
     "traceback": [
      "\u001b[0;31m---------------------------------------------------------------------------\u001b[0m",
      "\u001b[0;31mMyAppValueError\u001b[0m                           Traceback (most recent call last)",
      "\u001b[0;32m/var/folders/x2/bt81rqpj7pl_j7fczgml3pd80000gn/T/ipykernel_11440/1765581778.py\u001b[0m in \u001b[0;36m<module>\u001b[0;34m\u001b[0m\n\u001b[1;32m     12\u001b[0m         \u001b[0msuper\u001b[0m\u001b[0;34m(\u001b[0m\u001b[0mMyAppValueError\u001b[0m\u001b[0;34m,\u001b[0m \u001b[0mself\u001b[0m\u001b[0;34m)\u001b[0m\u001b[0;34m.\u001b[0m\u001b[0m__init__\u001b[0m\u001b[0;34m(\u001b[0m\u001b[0mmessage\u001b[0m\u001b[0;34m,\u001b[0m \u001b[0mfoo\u001b[0m\u001b[0;34m,\u001b[0m \u001b[0;34m*\u001b[0m\u001b[0margs\u001b[0m\u001b[0;34m)\u001b[0m\u001b[0;34m\u001b[0m\u001b[0;34m\u001b[0m\u001b[0m\n\u001b[1;32m     13\u001b[0m \u001b[0;34m\u001b[0m\u001b[0m\n\u001b[0;32m---> 14\u001b[0;31m \u001b[0;32mraise\u001b[0m \u001b[0mMyAppValueError\u001b[0m\u001b[0;34m(\u001b[0m\u001b[0;34m'msg for user'\u001b[0m\u001b[0;34m,\u001b[0m \u001b[0;34m'something else'\u001b[0m\u001b[0;34m,\u001b[0m \u001b[0;34m'wasteman'\u001b[0m\u001b[0;34m)\u001b[0m\u001b[0;34m\u001b[0m\u001b[0;34m\u001b[0m\u001b[0m\n\u001b[0m",
      "\u001b[0;31mMyAppValueError\u001b[0m: ('msg for user', 'something else', 'wasteman')"
     ]
    }
   ],
   "source": [
    "### Q: why make custom exception class? \n",
    "### A: more descriptive and meaningful error message; make the error specific to your library\n",
    "\n",
    "# how to make a custom exception class?\n",
    "class MyAppValueError(ValueError):\n",
    "    '''Raise when a specific subset of values in context of app is wrong'''\n",
    "    def __init__(self, message, foo, *args):\n",
    "        self.message = message # without this you may get DeprecationWarning\n",
    "        # Special attribute you desire with your Error, \n",
    "        # perhaps the value that caused the error?:\n",
    "        self.foo = foo         \n",
    "        # allow users initialize misc. arguments as any other builtin Error\n",
    "        super(MyAppValueError, self).__init__(message, foo, *args) \n",
    "\n",
    "raise MyAppValueError('msg for user', 'something else', 'wasteman')\n"
   ]
  },
  {
   "cell_type": "code",
   "execution_count": 24,
   "id": "f74714fe",
   "metadata": {},
   "outputs": [
    {
     "ename": "NetworkError",
     "evalue": "A network error occurred",
     "output_type": "error",
     "traceback": [
      "\u001b[0;31m---------------------------------------------------------------------------\u001b[0m",
      "\u001b[0;31mNetworkError\u001b[0m                              Traceback (most recent call last)",
      "\u001b[0;32m/var/folders/x2/bt81rqpj7pl_j7fczgml3pd80000gn/T/ipykernel_11440/3813351106.py\u001b[0m in \u001b[0;36m<module>\u001b[0;34m\u001b[0m\n\u001b[1;32m      3\u001b[0m         \u001b[0msuper\u001b[0m\u001b[0;34m(\u001b[0m\u001b[0;34m)\u001b[0m\u001b[0;34m.\u001b[0m\u001b[0m__init__\u001b[0m\u001b[0;34m(\u001b[0m\u001b[0mmessage\u001b[0m\u001b[0;34m)\u001b[0m\u001b[0;34m\u001b[0m\u001b[0;34m\u001b[0m\u001b[0m\n\u001b[1;32m      4\u001b[0m         \u001b[0mself\u001b[0m\u001b[0;34m.\u001b[0m\u001b[0merrors\u001b[0m \u001b[0;34m=\u001b[0m \u001b[0merrors\u001b[0m\u001b[0;34m\u001b[0m\u001b[0;34m\u001b[0m\u001b[0m\n\u001b[0;32m----> 5\u001b[0;31m \u001b[0;32mraise\u001b[0m \u001b[0mNetworkError\u001b[0m\u001b[0;34m(\u001b[0m\u001b[0;34m'A network error occurred'\u001b[0m\u001b[0;34m,\u001b[0m \u001b[0;34m[\u001b[0m\u001b[0;34m'Error 1'\u001b[0m\u001b[0;34m,\u001b[0m \u001b[0;34m'Error 2'\u001b[0m\u001b[0;34m]\u001b[0m\u001b[0;34m)\u001b[0m\u001b[0;34m\u001b[0m\u001b[0;34m\u001b[0m\u001b[0m\n\u001b[0m",
      "\u001b[0;31mNetworkError\u001b[0m: A network error occurred"
     ]
    }
   ],
   "source": [
    "class NetworkError(Exception):\n",
    "    def __init__(self, message, errors):\n",
    "        super().__init__(message)\n",
    "        self.errors = errors\n",
    "raise NetworkError('A network error occurred', ['Error 1', 'Error 2'])"
   ]
  },
  {
   "cell_type": "code",
   "execution_count": 38,
   "id": "c671e744",
   "metadata": {},
   "outputs": [
    {
     "name": "stdout",
     "output_type": "stream",
     "text": [
      "<class 'ValueError'>\n",
      "(\"invalid literal for int() with base 10: 'asfgaa3f2w4g'\",)\n",
      "value was asfg\n",
      "invalid literal for int() with base 10: 'asfgaa3f2w4g'\n"
     ]
    }
   ],
   "source": [
    "# can catch multiple types of error and get info on the error\n",
    "try:\n",
    "    int('asfg'+'aa'+'3f2w4g')\n",
    "except (RuntimeError, TypeError, NameError, ValueError) as e:\n",
    "    print(type(e))\n",
    "    print(e.args)\n",
    "    print('value was asfg')\n",
    "    print(e) "
   ]
  },
  {
   "cell_type": "code",
   "execution_count": 39,
   "id": "09382caa",
   "metadata": {},
   "outputs": [
    {
     "name": "stdout",
     "output_type": "stream",
     "text": [
      "Handling run-time error: division by zero\n"
     ]
    }
   ],
   "source": [
    "# try/except can catch errors which propagate from called functions\n",
    "def this_fails():\n",
    "    x = 1/0\n",
    "try:\n",
    "    this_fails()\n",
    "except ZeroDivisionError as err:\n",
    "    print('Handling run-time error:', err)"
   ]
  },
  {
   "cell_type": "markdown",
   "id": "8a5abe48",
   "metadata": {},
   "source": [
    "finally is executed regardless of whether the statements in the try block fail or succeed. else is executed only if the statements in the try block don't raise an exception.\n",
    "\n",
    "https://stackoverflow.com/questions/6051934/purpose-of-else-and-finally-in-exception-handling"
   ]
  },
  {
   "cell_type": "code",
   "execution_count": 84,
   "id": "b9fc4b89",
   "metadata": {},
   "outputs": [
    {
     "name": "stdout",
     "output_type": "stream",
     "text": [
      "cannot open -f\n",
      "ho\n",
      "a\n",
      "hahaha\n",
      "/Users/adambricknell/Library/Jupyter/runtime/kernel-baf82497-861a-4941-8c79-854ddfa5ff82.json has 12 lines\n",
      "ho\n"
     ]
    }
   ],
   "source": [
    "# if open() in try fails, then exception is run, then runtime returns to rest of try statement: this is \n",
    "# true for OSError but not KeyError, which if called *does* skip the else section\n",
    "for arg in sys.argv[1:]:\n",
    "    f = None\n",
    "    d = {4:3}\n",
    "    try:\n",
    "        f = open(arg, 'r')\n",
    "        print('still running after OSError is raised!' + d[3])\n",
    "        print('a')\n",
    "    except OSError:\n",
    "        print('cannot open', arg)\n",
    "    except KeyError as e:\n",
    "        print(e)\n",
    "    else:\n",
    "        print('hahaha')   \n",
    "        print(arg, 'has', len(f.readlines()), 'lines')\n",
    "    finally:\n",
    "        #print(arg, 'has', len(f.readlines()), 'lines')\n",
    "        print('ho')\n",
    "        if f:\n",
    "            f.close()\n"
   ]
  },
  {
   "cell_type": "code",
   "execution_count": 103,
   "id": "18ff21b6",
   "metadata": {},
   "outputs": [
    {
     "ename": "Exception",
     "evalue": "{'error_type': 'KeyError', 'error_message': '3', 'error_traceback': 'Traceback (most recent call last):\\n  File \"/var/folders/x2/bt81rqpj7pl_j7fczgml3pd80000gn/T/ipykernel_11440/871524406.py\", line 5, in <module>\\n    d[3]\\nKeyError: 3\\n', 'error_keys': ['__cause__', '__class__', '__context__', '__delattr__', '__dict__', '__dir__', '__doc__', '__eq__', '__format__', '__ge__', '__getattribute__', '__gt__', '__hash__', '__init__', '__init_subclass__', '__le__', '__lt__', '__ne__', '__new__', '__reduce__', '__reduce_ex__', '__repr__', '__setattr__', '__setstate__', '__sizeof__', '__str__', '__subclasshook__', '__suppress_context__', '__traceback__', 'args', 'with_traceback'], 'args': (3,)}",
     "output_type": "error",
     "traceback": [
      "\u001b[0;31m---------------------------------------------------------------------------\u001b[0m",
      "\u001b[0;31mKeyError\u001b[0m                                  Traceback (most recent call last)",
      "\u001b[0;32m/var/folders/x2/bt81rqpj7pl_j7fczgml3pd80000gn/T/ipykernel_11440/871524406.py\u001b[0m in \u001b[0;36m<module>\u001b[0;34m\u001b[0m\n\u001b[1;32m      4\u001b[0m \u001b[0;32mtry\u001b[0m\u001b[0;34m:\u001b[0m\u001b[0;34m\u001b[0m\u001b[0;34m\u001b[0m\u001b[0m\n\u001b[0;32m----> 5\u001b[0;31m     \u001b[0md\u001b[0m\u001b[0;34m[\u001b[0m\u001b[0;36m3\u001b[0m\u001b[0;34m]\u001b[0m\u001b[0;34m\u001b[0m\u001b[0;34m\u001b[0m\u001b[0m\n\u001b[0m\u001b[1;32m      6\u001b[0m \u001b[0;32mexcept\u001b[0m \u001b[0mException\u001b[0m \u001b[0;32mas\u001b[0m \u001b[0me\u001b[0m\u001b[0;34m:\u001b[0m\u001b[0;34m\u001b[0m\u001b[0;34m\u001b[0m\u001b[0m\n",
      "\u001b[0;31mKeyError\u001b[0m: 3",
      "\nDuring handling of the above exception, another exception occurred:\n",
      "\u001b[0;31mException\u001b[0m                                 Traceback (most recent call last)",
      "\u001b[0;32m/var/folders/x2/bt81rqpj7pl_j7fczgml3pd80000gn/T/ipykernel_11440/871524406.py\u001b[0m in \u001b[0;36m<module>\u001b[0;34m\u001b[0m\n\u001b[1;32m     12\u001b[0m         \u001b[0;34m'args'\u001b[0m\u001b[0;34m:\u001b[0m\u001b[0me\u001b[0m\u001b[0;34m.\u001b[0m\u001b[0margs\u001b[0m\u001b[0;34m\u001b[0m\u001b[0;34m\u001b[0m\u001b[0m\n\u001b[1;32m     13\u001b[0m     }\n\u001b[0;32m---> 14\u001b[0;31m     \u001b[0;32mraise\u001b[0m \u001b[0mException\u001b[0m\u001b[0;34m(\u001b[0m\u001b[0mcontext\u001b[0m\u001b[0;34m)\u001b[0m\u001b[0;34m\u001b[0m\u001b[0;34m\u001b[0m\u001b[0m\n\u001b[0m",
      "\u001b[0;31mException\u001b[0m: {'error_type': 'KeyError', 'error_message': '3', 'error_traceback': 'Traceback (most recent call last):\\n  File \"/var/folders/x2/bt81rqpj7pl_j7fczgml3pd80000gn/T/ipykernel_11440/871524406.py\", line 5, in <module>\\n    d[3]\\nKeyError: 3\\n', 'error_keys': ['__cause__', '__class__', '__context__', '__delattr__', '__dict__', '__dir__', '__doc__', '__eq__', '__format__', '__ge__', '__getattribute__', '__gt__', '__hash__', '__init__', '__init_subclass__', '__le__', '__lt__', '__ne__', '__new__', '__reduce__', '__reduce_ex__', '__repr__', '__setattr__', '__setstate__', '__sizeof__', '__str__', '__subclasshook__', '__suppress_context__', '__traceback__', 'args', 'with_traceback'], 'args': (3,)}"
     ]
    }
   ],
   "source": [
    "# getting info on specific error raised. Also can store 'context' for later\n",
    "import traceback\n",
    "d={4:3}\n",
    "try:\n",
    "    d[3]\n",
    "except Exception as e:\n",
    "    context = {\n",
    "        'error_type': e.__class__.__name__,\n",
    "        'error_message': str(e),\n",
    "        'error_traceback': traceback.format_exc(),\n",
    "        'error_keys':dir(e),\n",
    "        'args':e.args\n",
    "    }\n",
    "    raise Exception(context)\n"
   ]
  },
  {
   "cell_type": "code",
   "execution_count": 118,
   "id": "1fcf024b",
   "metadata": {},
   "outputs": [
    {
     "name": "stderr",
     "output_type": "stream",
     "text": [
      "Traceback (most recent call last):\n",
      "  File \"/var/folders/x2/bt81rqpj7pl_j7fczgml3pd80000gn/T/ipykernel_11440/582922386.py\", line 6, in <module>\n",
      "    d[3]\n",
      "KeyError: 3\n",
      "\n",
      "During handling of the above exception, another exception occurred:\n",
      "\n",
      "Traceback (most recent call last):\n",
      "  File \"/Users/adambricknell/opt/anaconda3/lib/python3.9/site-packages/IPython/core/interactiveshell.py\", line 3444, in run_code\n",
      "    exec(code_obj, self.user_global_ns, self.user_ns)\n",
      "  File \"/var/folders/x2/bt81rqpj7pl_j7fczgml3pd80000gn/T/ipykernel_11440/582922386.py\", line 12, in <module>\n",
      "    'exception':traceback.format_exception_only(e),\n",
      "TypeError: format_exception_only() missing 1 required positional argument: 'value'\n"
     ]
    },
    {
     "ename": "Exception",
     "evalue": "{'error_type': 'KeyError', 'error_message': '3', 'error_traceback': 'Traceback (most recent call last):\\n  File \"/var/folders/x2/bt81rqpj7pl_j7fczgml3pd80000gn/T/ipykernel_11440/866511178.py\", line 6, in <module>\\n    d[3]\\nKeyError: 3\\n', 'exception': None, 'error_traceback_stack': [<FrameSummary file /Users/adambricknell/opt/anaconda3/lib/python3.9/runpy.py, line 197 in _run_module_as_main>, <FrameSummary file /Users/adambricknell/opt/anaconda3/lib/python3.9/runpy.py, line 87 in _run_code>, <FrameSummary file /Users/adambricknell/opt/anaconda3/lib/python3.9/site-packages/ipykernel_launcher.py, line 16 in <module>>, <FrameSummary file /Users/adambricknell/opt/anaconda3/lib/python3.9/site-packages/traitlets/config/application.py, line 846 in launch_instance>, <FrameSummary file /Users/adambricknell/opt/anaconda3/lib/python3.9/site-packages/ipykernel/kernelapp.py, line 677 in start>, <FrameSummary file /Users/adambricknell/opt/anaconda3/lib/python3.9/site-packages/tornado/platform/asyncio.py, line 199 in start>, <FrameSummary file /Users/adambricknell/opt/anaconda3/lib/python3.9/asyncio/base_events.py, line 596 in run_forever>, <FrameSummary file /Users/adambricknell/opt/anaconda3/lib/python3.9/asyncio/base_events.py, line 1890 in _run_once>, <FrameSummary file /Users/adambricknell/opt/anaconda3/lib/python3.9/asyncio/events.py, line 80 in _run>, <FrameSummary file /Users/adambricknell/opt/anaconda3/lib/python3.9/site-packages/ipykernel/kernelbase.py, line 457 in dispatch_queue>, <FrameSummary file /Users/adambricknell/opt/anaconda3/lib/python3.9/site-packages/ipykernel/kernelbase.py, line 446 in process_one>, <FrameSummary file /Users/adambricknell/opt/anaconda3/lib/python3.9/site-packages/ipykernel/kernelbase.py, line 353 in dispatch_shell>, <FrameSummary file /Users/adambricknell/opt/anaconda3/lib/python3.9/site-packages/ipykernel/kernelbase.py, line 648 in execute_request>, <FrameSummary file /Users/adambricknell/opt/anaconda3/lib/python3.9/site-packages/ipykernel/ipkernel.py, line 353 in do_execute>, <FrameSummary file /Users/adambricknell/opt/anaconda3/lib/python3.9/site-packages/ipykernel/zmqshell.py, line 533 in run_cell>, <FrameSummary file /Users/adambricknell/opt/anaconda3/lib/python3.9/site-packages/IPython/core/interactiveshell.py, line 2901 in run_cell>, <FrameSummary file /Users/adambricknell/opt/anaconda3/lib/python3.9/site-packages/IPython/core/interactiveshell.py, line 2947 in _run_cell>, <FrameSummary file /Users/adambricknell/opt/anaconda3/lib/python3.9/site-packages/IPython/core/async_helpers.py, line 68 in _pseudo_sync_runner>, <FrameSummary file /Users/adambricknell/opt/anaconda3/lib/python3.9/site-packages/IPython/core/interactiveshell.py, line 3172 in run_cell_async>, <FrameSummary file /Users/adambricknell/opt/anaconda3/lib/python3.9/site-packages/IPython/core/interactiveshell.py, line 3364 in run_ast_nodes>, <FrameSummary file /Users/adambricknell/opt/anaconda3/lib/python3.9/site-packages/IPython/core/interactiveshell.py, line 3444 in run_code>, <FrameSummary file /var/folders/x2/bt81rqpj7pl_j7fczgml3pd80000gn/T/ipykernel_11440/866511178.py, line 13 in <module>>], 'error_keys': ['__cause__', '__class__', '__context__', '__delattr__', '__dict__', '__dir__', '__doc__', '__eq__', '__format__', '__ge__', '__getattribute__', '__gt__', '__hash__', '__init__', '__init_subclass__', '__le__', '__lt__', '__ne__', '__new__', '__reduce__', '__reduce_ex__', '__repr__', '__setattr__', '__setstate__', '__sizeof__', '__str__', '__subclasshook__', '__suppress_context__', '__traceback__', 'args', 'with_traceback'], 'args': (3,)}",
     "output_type": "error",
     "traceback": [
      "\u001b[0;31m---------------------------------------------------------------------------\u001b[0m",
      "\u001b[0;31mKeyError\u001b[0m                                  Traceback (most recent call last)",
      "\u001b[0;32m/var/folders/x2/bt81rqpj7pl_j7fczgml3pd80000gn/T/ipykernel_11440/866511178.py\u001b[0m in \u001b[0;36m<module>\u001b[0;34m\u001b[0m\n\u001b[1;32m      5\u001b[0m \u001b[0;32mtry\u001b[0m\u001b[0;34m:\u001b[0m\u001b[0;34m\u001b[0m\u001b[0;34m\u001b[0m\u001b[0m\n\u001b[0;32m----> 6\u001b[0;31m     \u001b[0md\u001b[0m\u001b[0;34m[\u001b[0m\u001b[0;36m3\u001b[0m\u001b[0;34m]\u001b[0m\u001b[0;34m\u001b[0m\u001b[0;34m\u001b[0m\u001b[0m\n\u001b[0m\u001b[1;32m      7\u001b[0m \u001b[0;32mexcept\u001b[0m \u001b[0mException\u001b[0m \u001b[0;32mas\u001b[0m \u001b[0me\u001b[0m\u001b[0;34m:\u001b[0m\u001b[0;34m\u001b[0m\u001b[0;34m\u001b[0m\u001b[0m\n",
      "\u001b[0;31mKeyError\u001b[0m: 3",
      "\nDuring handling of the above exception, another exception occurred:\n",
      "\u001b[0;31mException\u001b[0m                                 Traceback (most recent call last)",
      "\u001b[0;32m/var/folders/x2/bt81rqpj7pl_j7fczgml3pd80000gn/T/ipykernel_11440/866511178.py\u001b[0m in \u001b[0;36m<module>\u001b[0;34m\u001b[0m\n\u001b[1;32m     17\u001b[0m         \u001b[0;34m'args'\u001b[0m\u001b[0;34m:\u001b[0m\u001b[0me\u001b[0m\u001b[0;34m.\u001b[0m\u001b[0margs\u001b[0m\u001b[0;34m\u001b[0m\u001b[0;34m\u001b[0m\u001b[0m\n\u001b[1;32m     18\u001b[0m     }\n\u001b[0;32m---> 19\u001b[0;31m     \u001b[0;32mraise\u001b[0m \u001b[0mException\u001b[0m\u001b[0;34m(\u001b[0m\u001b[0mcontext\u001b[0m\u001b[0;34m)\u001b[0m\u001b[0;34m\u001b[0m\u001b[0;34m\u001b[0m\u001b[0m\n\u001b[0m",
      "\u001b[0;31mException\u001b[0m: {'error_type': 'KeyError', 'error_message': '3', 'error_traceback': 'Traceback (most recent call last):\\n  File \"/var/folders/x2/bt81rqpj7pl_j7fczgml3pd80000gn/T/ipykernel_11440/866511178.py\", line 6, in <module>\\n    d[3]\\nKeyError: 3\\n', 'exception': None, 'error_traceback_stack': [<FrameSummary file /Users/adambricknell/opt/anaconda3/lib/python3.9/runpy.py, line 197 in _run_module_as_main>, <FrameSummary file /Users/adambricknell/opt/anaconda3/lib/python3.9/runpy.py, line 87 in _run_code>, <FrameSummary file /Users/adambricknell/opt/anaconda3/lib/python3.9/site-packages/ipykernel_launcher.py, line 16 in <module>>, <FrameSummary file /Users/adambricknell/opt/anaconda3/lib/python3.9/site-packages/traitlets/config/application.py, line 846 in launch_instance>, <FrameSummary file /Users/adambricknell/opt/anaconda3/lib/python3.9/site-packages/ipykernel/kernelapp.py, line 677 in start>, <FrameSummary file /Users/adambricknell/opt/anaconda3/lib/python3.9/site-packages/tornado/platform/asyncio.py, line 199 in start>, <FrameSummary file /Users/adambricknell/opt/anaconda3/lib/python3.9/asyncio/base_events.py, line 596 in run_forever>, <FrameSummary file /Users/adambricknell/opt/anaconda3/lib/python3.9/asyncio/base_events.py, line 1890 in _run_once>, <FrameSummary file /Users/adambricknell/opt/anaconda3/lib/python3.9/asyncio/events.py, line 80 in _run>, <FrameSummary file /Users/adambricknell/opt/anaconda3/lib/python3.9/site-packages/ipykernel/kernelbase.py, line 457 in dispatch_queue>, <FrameSummary file /Users/adambricknell/opt/anaconda3/lib/python3.9/site-packages/ipykernel/kernelbase.py, line 446 in process_one>, <FrameSummary file /Users/adambricknell/opt/anaconda3/lib/python3.9/site-packages/ipykernel/kernelbase.py, line 353 in dispatch_shell>, <FrameSummary file /Users/adambricknell/opt/anaconda3/lib/python3.9/site-packages/ipykernel/kernelbase.py, line 648 in execute_request>, <FrameSummary file /Users/adambricknell/opt/anaconda3/lib/python3.9/site-packages/ipykernel/ipkernel.py, line 353 in do_execute>, <FrameSummary file /Users/adambricknell/opt/anaconda3/lib/python3.9/site-packages/ipykernel/zmqshell.py, line 533 in run_cell>, <FrameSummary file /Users/adambricknell/opt/anaconda3/lib/python3.9/site-packages/IPython/core/interactiveshell.py, line 2901 in run_cell>, <FrameSummary file /Users/adambricknell/opt/anaconda3/lib/python3.9/site-packages/IPython/core/interactiveshell.py, line 2947 in _run_cell>, <FrameSummary file /Users/adambricknell/opt/anaconda3/lib/python3.9/site-packages/IPython/core/async_helpers.py, line 68 in _pseudo_sync_runner>, <FrameSummary file /Users/adambricknell/opt/anaconda3/lib/python3.9/site-packages/IPython/core/interactiveshell.py, line 3172 in run_cell_async>, <FrameSummary file /Users/adambricknell/opt/anaconda3/lib/python3.9/site-packages/IPython/core/interactiveshell.py, line 3364 in run_ast_nodes>, <FrameSummary file /Users/adambricknell/opt/anaconda3/lib/python3.9/site-packages/IPython/core/interactiveshell.py, line 3444 in run_code>, <FrameSummary file /var/folders/x2/bt81rqpj7pl_j7fczgml3pd80000gn/T/ipykernel_11440/866511178.py, line 13 in <module>>], 'error_keys': ['__cause__', '__class__', '__context__', '__delattr__', '__dict__', '__dir__', '__doc__', '__eq__', '__format__', '__ge__', '__getattribute__', '__gt__', '__hash__', '__init__', '__init_subclass__', '__le__', '__lt__', '__ne__', '__new__', '__reduce__', '__reduce_ex__', '__repr__', '__setattr__', '__setstate__', '__sizeof__', '__str__', '__subclasshook__', '__suppress_context__', '__traceback__', 'args', 'with_traceback'], 'args': (3,)}"
     ]
    }
   ],
   "source": [
    "# raise exception with tracebacks\n",
    "# More tracebacks here: https://docs.python.org/3/library/traceback.html\n",
    "import traceback\n",
    "d={4:3}\n",
    "try:\n",
    "    d[3]\n",
    "except Exception as e:\n",
    "    context = {\n",
    "        'error_type': e.__class__.__name__,\n",
    "        'error_message': str(e),\n",
    "        'error_traceback': traceback.format_exc(),\n",
    "        'exception':traceback.print_last(),\n",
    "        'error_traceback_stack': traceback.extract_stack(),\n",
    "        #'error_traceback': traceback.format_list(),\n",
    "        #'error_traceback': traceback.walk_stack(),\n",
    "        'error_keys':dir(e),\n",
    "        'args':e.args\n",
    "    }\n",
    "    \n",
    "    # could store traceback here\n",
    "    \n",
    "    raise Exception(context)\n"
   ]
  },
  {
   "cell_type": "code",
   "execution_count": 119,
   "id": "47f5e270",
   "metadata": {},
   "outputs": [],
   "source": [
    "context['exception']"
   ]
  },
  {
   "cell_type": "code",
   "execution_count": 115,
   "id": "00fd9591",
   "metadata": {},
   "outputs": [
    {
     "data": {
      "text/plain": [
       "[<FrameSummary file /Users/adambricknell/opt/anaconda3/lib/python3.9/runpy.py, line 197 in _run_module_as_main>,\n",
       " <FrameSummary file /Users/adambricknell/opt/anaconda3/lib/python3.9/runpy.py, line 87 in _run_code>,\n",
       " <FrameSummary file /Users/adambricknell/opt/anaconda3/lib/python3.9/site-packages/ipykernel_launcher.py, line 16 in <module>>,\n",
       " <FrameSummary file /Users/adambricknell/opt/anaconda3/lib/python3.9/site-packages/traitlets/config/application.py, line 846 in launch_instance>,\n",
       " <FrameSummary file /Users/adambricknell/opt/anaconda3/lib/python3.9/site-packages/ipykernel/kernelapp.py, line 677 in start>,\n",
       " <FrameSummary file /Users/adambricknell/opt/anaconda3/lib/python3.9/site-packages/tornado/platform/asyncio.py, line 199 in start>,\n",
       " <FrameSummary file /Users/adambricknell/opt/anaconda3/lib/python3.9/asyncio/base_events.py, line 596 in run_forever>,\n",
       " <FrameSummary file /Users/adambricknell/opt/anaconda3/lib/python3.9/asyncio/base_events.py, line 1890 in _run_once>,\n",
       " <FrameSummary file /Users/adambricknell/opt/anaconda3/lib/python3.9/asyncio/events.py, line 80 in _run>,\n",
       " <FrameSummary file /Users/adambricknell/opt/anaconda3/lib/python3.9/site-packages/ipykernel/kernelbase.py, line 457 in dispatch_queue>,\n",
       " <FrameSummary file /Users/adambricknell/opt/anaconda3/lib/python3.9/site-packages/ipykernel/kernelbase.py, line 446 in process_one>,\n",
       " <FrameSummary file /Users/adambricknell/opt/anaconda3/lib/python3.9/site-packages/ipykernel/kernelbase.py, line 353 in dispatch_shell>,\n",
       " <FrameSummary file /Users/adambricknell/opt/anaconda3/lib/python3.9/site-packages/ipykernel/kernelbase.py, line 648 in execute_request>,\n",
       " <FrameSummary file /Users/adambricknell/opt/anaconda3/lib/python3.9/site-packages/ipykernel/ipkernel.py, line 353 in do_execute>,\n",
       " <FrameSummary file /Users/adambricknell/opt/anaconda3/lib/python3.9/site-packages/ipykernel/zmqshell.py, line 533 in run_cell>,\n",
       " <FrameSummary file /Users/adambricknell/opt/anaconda3/lib/python3.9/site-packages/IPython/core/interactiveshell.py, line 2901 in run_cell>,\n",
       " <FrameSummary file /Users/adambricknell/opt/anaconda3/lib/python3.9/site-packages/IPython/core/interactiveshell.py, line 2947 in _run_cell>,\n",
       " <FrameSummary file /Users/adambricknell/opt/anaconda3/lib/python3.9/site-packages/IPython/core/async_helpers.py, line 68 in _pseudo_sync_runner>,\n",
       " <FrameSummary file /Users/adambricknell/opt/anaconda3/lib/python3.9/site-packages/IPython/core/interactiveshell.py, line 3172 in run_cell_async>,\n",
       " <FrameSummary file /Users/adambricknell/opt/anaconda3/lib/python3.9/site-packages/IPython/core/interactiveshell.py, line 3364 in run_ast_nodes>,\n",
       " <FrameSummary file /Users/adambricknell/opt/anaconda3/lib/python3.9/site-packages/IPython/core/interactiveshell.py, line 3444 in run_code>,\n",
       " <FrameSummary file /var/folders/x2/bt81rqpj7pl_j7fczgml3pd80000gn/T/ipykernel_11440/633832102.py, line 12 in <module>>]"
      ]
     },
     "execution_count": 115,
     "metadata": {},
     "output_type": "execute_result"
    }
   ],
   "source": [
    "context['error_traceback_stack']"
   ]
  },
  {
   "cell_type": "code",
   "execution_count": 135,
   "id": "8609cd98",
   "metadata": {},
   "outputs": [
    {
     "name": "stdout",
     "output_type": "stream",
     "text": [
      "[('table_name',)]\n"
     ]
    }
   ],
   "source": [
    "## write to sqlite db\n",
    "import sqlite3\n",
    "\n",
    "# Connect to the database\n",
    "conn = sqlite3.connect('mydatabase.db')\n",
    "\n",
    "# Create a cursor object\n",
    "cursor = conn.cursor()\n",
    "\n",
    "value1='a'\n",
    "value2='b'\n",
    "table_name='haha'\n",
    "\n",
    "# Execute a CREATE TABLE statement: do this if table doesn't exist yet\n",
    "#cursor.execute(\"CREATE TABLE table_name (column1 datatype, column2 datatype)\")\n",
    "\n",
    "# Execute an INSERT statement\n",
    "cursor.execute(\"INSERT INTO table_name (column1, column2) VALUES (?, ?)\", (value1, value2))\n",
    "\n",
    "# Commit the changes to the database\n",
    "conn.commit()\n",
    "\n",
    "# view all tables\n",
    "cursor.execute(\"SELECT name FROM sqlite_master WHERE type='table'\")\n",
    "print(cursor.fetchall())\n",
    "\n",
    "# Close the connection\n",
    "conn.close()\n",
    "\n"
   ]
  },
  {
   "cell_type": "code",
   "execution_count": 137,
   "id": "7f16d809",
   "metadata": {},
   "outputs": [
    {
     "name": "stderr",
     "output_type": "stream",
     "text": [
      "/var/folders/x2/bt81rqpj7pl_j7fczgml3pd80000gn/T/ipykernel_11440/3763678046.py:5: UserWarning: This is a warning message.\n",
      "  warnings.warn(\"This is a warning message.\")\n",
      "/var/folders/x2/bt81rqpj7pl_j7fczgml3pd80000gn/T/ipykernel_11440/3763678046.py:10: UserWarning: This is a warning message.\n",
      "  warnings.warn(\"This is a warning message.\", category=UserWarning)\n"
     ]
    }
   ],
   "source": [
    "# warnings: can raise generic warning or a category of warning\n",
    "import warnings\n",
    "\n",
    "def function_with_warning():\n",
    "    warnings.warn(\"This is a warning message.\")\n",
    "function_with_warning()\n",
    "\n",
    "def function_with_warning():\n",
    "    warnings.warn(\"This is a warning message.\", category=UserWarning)\n",
    "function_with_warning()\n"
   ]
  },
  {
   "cell_type": "code",
   "execution_count": 141,
   "id": "2231de61",
   "metadata": {},
   "outputs": [
    {
     "name": "stdout",
     "output_type": "stream",
     "text": [
      "this warning is all kinds of bad\n"
     ]
    },
    {
     "name": "stderr",
     "output_type": "stream",
     "text": [
      "/var/folders/x2/bt81rqpj7pl_j7fczgml3pd80000gn/T/ipykernel_11440/2117664306.py:8: CustomWarning: This is a custom warning message.\n",
      "  warnings.warn(\"This is a custom warning message.\", category=CustomWarning)\n"
     ]
    }
   ],
   "source": [
    "# can make a custom class of warning\n",
    "import warnings\n",
    "\n",
    "class CustomWarning(Warning):\n",
    "    print('this warning is all kinds of bad')\n",
    "\n",
    "def function_with_warning():\n",
    "    warnings.warn(\"This is a custom warning message.\", category=CustomWarning)\n",
    "\n",
    "function_with_warning()\n"
   ]
  },
  {
   "cell_type": "code",
   "execution_count": 142,
   "id": "dae1a50a",
   "metadata": {},
   "outputs": [
    {
     "name": "stdout",
     "output_type": "stream",
     "text": [
      "This is a custom exception message.\n"
     ]
    }
   ],
   "source": [
    "# raising custom exception message\n",
    "class CustomException(Exception):\n",
    "    def __init__(self, message):\n",
    "        super().__init__(message)\n",
    "        self.message = message\n",
    "\n",
    "def function_that_raises_exception():\n",
    "    raise CustomException(\"This is a custom exception message.\")\n",
    "\n",
    "try:\n",
    "    function_that_raises_exception()\n",
    "except CustomException as e:\n",
    "    print(e)\n"
   ]
  },
  {
   "cell_type": "code",
   "execution_count": 144,
   "id": "73170e66",
   "metadata": {},
   "outputs": [
    {
     "ename": "NameError",
     "evalue": "name 'ExceptionGroup' is not defined",
     "output_type": "error",
     "traceback": [
      "\u001b[0;31m---------------------------------------------------------------------------\u001b[0m",
      "\u001b[0;31mNameError\u001b[0m                                 Traceback (most recent call last)",
      "\u001b[0;32m/var/folders/x2/bt81rqpj7pl_j7fczgml3pd80000gn/T/ipykernel_11440/1349459076.py\u001b[0m in \u001b[0;36m<module>\u001b[0;34m\u001b[0m\n\u001b[1;32m      2\u001b[0m     \u001b[0mexcs\u001b[0m \u001b[0;34m=\u001b[0m \u001b[0;34m[\u001b[0m\u001b[0mOSError\u001b[0m\u001b[0;34m(\u001b[0m\u001b[0;34m'error 1'\u001b[0m\u001b[0;34m)\u001b[0m\u001b[0;34m,\u001b[0m \u001b[0mSystemError\u001b[0m\u001b[0;34m(\u001b[0m\u001b[0;34m'error 2'\u001b[0m\u001b[0;34m)\u001b[0m\u001b[0;34m]\u001b[0m\u001b[0;34m\u001b[0m\u001b[0;34m\u001b[0m\u001b[0m\n\u001b[1;32m      3\u001b[0m     \u001b[0;32mraise\u001b[0m \u001b[0mExceptionGroup\u001b[0m\u001b[0;34m(\u001b[0m\u001b[0;34m'there were problems'\u001b[0m\u001b[0;34m,\u001b[0m \u001b[0mexcs\u001b[0m\u001b[0;34m)\u001b[0m\u001b[0;34m\u001b[0m\u001b[0;34m\u001b[0m\u001b[0m\n\u001b[0;32m----> 4\u001b[0;31m \u001b[0mf\u001b[0m\u001b[0;34m(\u001b[0m\u001b[0;34m)\u001b[0m\u001b[0;34m\u001b[0m\u001b[0;34m\u001b[0m\u001b[0m\n\u001b[0m",
      "\u001b[0;32m/var/folders/x2/bt81rqpj7pl_j7fczgml3pd80000gn/T/ipykernel_11440/1349459076.py\u001b[0m in \u001b[0;36mf\u001b[0;34m()\u001b[0m\n\u001b[1;32m      1\u001b[0m \u001b[0;32mdef\u001b[0m \u001b[0mf\u001b[0m\u001b[0;34m(\u001b[0m\u001b[0;34m)\u001b[0m\u001b[0;34m:\u001b[0m\u001b[0;34m\u001b[0m\u001b[0;34m\u001b[0m\u001b[0m\n\u001b[1;32m      2\u001b[0m     \u001b[0mexcs\u001b[0m \u001b[0;34m=\u001b[0m \u001b[0;34m[\u001b[0m\u001b[0mOSError\u001b[0m\u001b[0;34m(\u001b[0m\u001b[0;34m'error 1'\u001b[0m\u001b[0;34m)\u001b[0m\u001b[0;34m,\u001b[0m \u001b[0mSystemError\u001b[0m\u001b[0;34m(\u001b[0m\u001b[0;34m'error 2'\u001b[0m\u001b[0;34m)\u001b[0m\u001b[0;34m]\u001b[0m\u001b[0;34m\u001b[0m\u001b[0;34m\u001b[0m\u001b[0m\n\u001b[0;32m----> 3\u001b[0;31m     \u001b[0;32mraise\u001b[0m \u001b[0mExceptionGroup\u001b[0m\u001b[0;34m(\u001b[0m\u001b[0;34m'there were problems'\u001b[0m\u001b[0;34m,\u001b[0m \u001b[0mexcs\u001b[0m\u001b[0;34m)\u001b[0m\u001b[0;34m\u001b[0m\u001b[0;34m\u001b[0m\u001b[0m\n\u001b[0m\u001b[1;32m      4\u001b[0m \u001b[0mf\u001b[0m\u001b[0;34m(\u001b[0m\u001b[0;34m)\u001b[0m\u001b[0;34m\u001b[0m\u001b[0;34m\u001b[0m\u001b[0m\n",
      "\u001b[0;31mNameError\u001b[0m: name 'ExceptionGroup' is not defined"
     ]
    }
   ],
   "source": [
    "def f():\n",
    "    excs = [OSError('error 1'), SystemError('error 2')]\n",
    "    raise ExceptionGroup('there were problems', excs)\n",
    "f()"
   ]
  },
  {
   "cell_type": "code",
   "execution_count": 148,
   "id": "1c7474e1",
   "metadata": {},
   "outputs": [
    {
     "name": "stdout",
     "output_type": "stream",
     "text": [
      "First String: Welcome to Javatpoint\n",
      "Second String: Welcome to Python tutorial\n",
      "Sequence Matched: 0.5106382978723404\n"
     ]
    }
   ],
   "source": [
    "# SequenceMatcher class shows how similar two strings are;\n",
    "# Differ class shows how much they differ\n",
    "\n",
    "import difflib  \n",
    "from difflib import SequenceMatcher  \n",
    "# defining the strings  \n",
    "str_1 = \"Welcome to Javatpoint\"  \n",
    "str_2 = \"Welcome to Python tutorial\"  \n",
    "  \n",
    "# using the SequenceMatcher() function  \n",
    "my_seq = SequenceMatcher(a = str_1, b = str_2)  \n",
    "  \n",
    "# printing the result  \n",
    "print(\"First String:\", str_1)  \n",
    "print(\"Second String:\", str_2)  \n",
    "print(\"Sequence Matched:\", my_seq.ratio())    # the ratio of identical characters in the two strings,"
   ]
  },
  {
   "cell_type": "code",
   "execution_count": 154,
   "id": "1630c676",
   "metadata": {},
   "outputs": [
    {
     "name": "stdout",
     "output_type": "stream",
     "text": [
      "First String: They would like to order a soft drink\n",
      "Second String: They would like to order a corn pizza\n",
      "Difference between the Strings\n",
      "- They would like to order a soft drink\n",
      "?                            ^ ^^ ^^ ^^\n",
      "\n",
      "+ They would like to order a corn pizza\n",
      "?                            ^ ^^ ^ ^^^\n",
      "\n"
     ]
    }
   ],
   "source": [
    "\n",
    "import difflib  \n",
    "from difflib import Differ  \n",
    "  \n",
    "# defining the strings  \n",
    "str_1 = \"They would like to order a soft drink\"  \n",
    "str_2 = \"They would like to order a corn pizza\"  \n",
    "  \n",
    "# using the splitlines() function  \n",
    "lines_str1 = str_1.splitlines()  \n",
    "lines_str2 = str_2.splitlines()  \n",
    "  \n",
    "# using the Differ() and compare() function  \n",
    "dif = difflib.Differ()  \n",
    "my_diff = dif.compare(lines_str1, lines_str2)  \n",
    "  \n",
    "# printing the results  \n",
    "print(\"First String:\", str_1)  \n",
    "print(\"Second String:\", str_2)  \n",
    "print(\"Difference between the Strings:\")  \n",
    "print('\\n'.join(my_diff)) "
   ]
  },
  {
   "cell_type": "code",
   "execution_count": 157,
   "id": "0330251e",
   "metadata": {},
   "outputs": [
    {
     "data": {
      "text/plain": [
       "'- They would like to order a soft drink\\n?                            ^ ^^ ^^ ^^\\n\\n+ They would like to order a corn pizza\\n?                            ^ ^^ ^ ^^^\\n'"
      ]
     },
     "execution_count": 157,
     "metadata": {},
     "output_type": "execute_result"
    }
   ],
   "source": [
    "'\\n'.join(dif.compare(lines_str1, lines_str2))"
   ]
  },
  {
   "cell_type": "code",
   "execution_count": 163,
   "id": "4312090b",
   "metadata": {},
   "outputs": [
    {
     "name": "stdout",
     "output_type": "stream",
     "text": [
      "Matching words: ['mass', 'mask', 'master']\n"
     ]
    }
   ],
   "source": [
    "# get words which are similar to given string\n",
    "# uses a cutoff of % of letters which are in both strings\n",
    "\n",
    "import difflib  \n",
    "from difflib import get_close_matches  \n",
    "  \n",
    "# using the get_close_matches method  \n",
    "my_list = get_close_matches('mas', ['master', 'mask', 'duck', 'cow', 'mass', 'massive', 'python', 'butter'])  \n",
    "  \n",
    "# printing the list  \n",
    "print(\"Matching words:\", my_list)  "
   ]
  },
  {
   "cell_type": "code",
   "execution_count": 164,
   "id": "88bd054d",
   "metadata": {},
   "outputs": [
    {
     "name": "stdout",
     "output_type": "stream",
     "text": [
      "--- \n",
      "+++ \n",
      "@@ -1,6 +1,6 @@\n",
      "-Mark\n",
      "-Henry\n",
      "-Richard\n",
      "-Stella\n",
      "-Robin\n",
      "+Arthur\n",
      "+Joseph\n",
      "+Stacey\n",
      "+Harry\n",
      "+Emma\n",
      " Employees\n"
     ]
    }
   ],
   "source": [
    "# unified_diff to see what would have to be dropped and added to go from first string to second\n",
    "import sys  \n",
    "import difflib  \n",
    "from difflib import unified_diff  \n",
    "  \n",
    "# defining the string variables  \n",
    "str_1 = ['Mark\\n', 'Henry\\n', 'Richard\\n', 'Stella\\n', 'Robin\\n', 'Employees\\n']  \n",
    "str_2 = ['Arthur\\n', 'Joseph\\n', 'Stacey\\n', 'Harry\\n', 'Emma\\n', 'Employees\\n']  \n",
    "  \n",
    "# using the unified_diff() function  \n",
    "sys.stdout.writelines(unified_diff(str_1, str_2))  "
   ]
  },
  {
   "cell_type": "code",
   "execution_count": 165,
   "id": "bb210314",
   "metadata": {},
   "outputs": [
    {
     "name": "stdout",
     "output_type": "stream",
     "text": [
      "*** \n",
      "--- \n",
      "***************\n",
      "*** 1,6 ****\n",
      "! Mark\n",
      "! Henry\n",
      "! Richard\n",
      "! Stella\n",
      "! Robin\n",
      "  Employees\n",
      "--- 1,6 ----\n",
      "! Arthur\n",
      "! Joseph\n",
      "! Stacey\n",
      "! Harry\n",
      "! Emma\n",
      "  Employees\n"
     ]
    }
   ],
   "source": [
    "import sys  \n",
    "import difflib  \n",
    "from difflib import context_diff  \n",
    "  \n",
    "# defining the string variables  \n",
    "str_1 = ['Mark\\n', 'Henry\\n', 'Richard\\n', 'Stella\\n', 'Robin\\n', 'Employees\\n']  \n",
    "str_2 = ['Arthur\\n', 'Joseph\\n', 'Stacey\\n', 'Harry\\n', 'Emma\\n', 'Employees\\n']  \n",
    "  \n",
    "# using the context_diff() function  \n",
    "sys.stdout.writelines(context_diff(str_1, str_2))  "
   ]
  },
  {
   "cell_type": "code",
   "execution_count": 181,
   "id": "f56258ff",
   "metadata": {},
   "outputs": [
    {
     "name": "stdout",
     "output_type": "stream",
     "text": [
      "a\n",
      "\n",
      "b\n",
      "\n"
     ]
    }
   ],
   "source": [
    "# use file.readline to read one line at a time, file.readlines() to read all\n",
    "# file.write() to append one line at a time\n",
    "import readline\n",
    "\n",
    "for char in 'abcdef':\n",
    "    with open(\"filename.txt\", \"a\") as file:\n",
    "        file.write(f'{char}\\n')\n",
    "    \n",
    "# Open the file in read-only mode\n",
    "with open(\"filename.txt\", \"r\") as file:\n",
    "    # Read a single line of text from the file\n",
    "    line = file.readline()\n",
    "    print(line)\n",
    "    line = file.readline()\n",
    "    print(line)"
   ]
  },
  {
   "cell_type": "code",
   "execution_count": 192,
   "id": "a67632ba",
   "metadata": {},
   "outputs": [
    {
     "data": {
      "text/plain": [
       "'LEFT CURLY BRACKET'"
      ]
     },
     "execution_count": 192,
     "metadata": {},
     "output_type": "execute_result"
    }
   ],
   "source": [
    "import unicodedata\n",
    "unicodedata.name('B')\n",
    "unicodedata.name('{')\n"
   ]
  },
  {
   "cell_type": "code",
   "execution_count": 195,
   "id": "21192028",
   "metadata": {},
   "outputs": [
    {
     "data": {
      "text/plain": [
       "'Hello...'"
      ]
     },
     "execution_count": 195,
     "metadata": {},
     "output_type": "execute_result"
    }
   ],
   "source": [
    "import textwrap\n",
    "textwrap.shorten(\"Hello world\", width=10, placeholder=\"...\")"
   ]
  },
  {
   "cell_type": "code",
   "execution_count": 204,
   "id": "61c23674",
   "metadata": {},
   "outputs": [
    {
     "name": "stdout",
     "output_type": "stream",
     "text": [
      "hello\n",
      "  world\n",
      "\n"
     ]
    }
   ],
   "source": [
    "s = '''\\\n",
    "    hello\n",
    "      world\n",
    "    '''\n",
    "print(textwrap.dedent(s))"
   ]
  },
  {
   "cell_type": "code",
   "execution_count": 215,
   "id": "3d993c5e",
   "metadata": {},
   "outputs": [
    {
     "data": {
      "text/plain": [
       "'*hah    hello       world'"
      ]
     },
     "execution_count": 215,
     "metadata": {},
     "output_type": "execute_result"
    }
   ],
   "source": [
    "## giving rules to a TextWrapper class then applying it\n",
    "wrapper = textwrap.TextWrapper()\n",
    "wrapper.initial_indent = \"*hah\"\n",
    "wrapper.fill(s)"
   ]
  },
  {
   "cell_type": "code",
   "execution_count": 217,
   "id": "e72083c0",
   "metadata": {},
   "outputs": [
    {
     "name": "stdout",
     "output_type": "stream",
     "text": [
      "2020-10-31 12:00:00-07:00\n"
     ]
    },
    {
     "data": {
      "text/plain": [
       "'PDT'"
      ]
     },
     "execution_count": 217,
     "metadata": {},
     "output_type": "execute_result"
    }
   ],
   "source": [
    "from zoneinfo import ZoneInfo\n",
    "from datetime import datetime, timedelta\n",
    "\n",
    "dt = datetime(2020, 10, 31, 12, tzinfo=ZoneInfo(\"America/Los_Angeles\"))\n",
    "print(dt)\n",
    "\n",
    "dt.tzname()\n"
   ]
  },
  {
   "cell_type": "code",
   "execution_count": 220,
   "id": "f8d6cf53",
   "metadata": {},
   "outputs": [
    {
     "data": {
      "text/plain": [
       "596"
      ]
     },
     "execution_count": 220,
     "metadata": {},
     "output_type": "execute_result"
    }
   ],
   "source": [
    "import zoneinfo \n",
    "len(zoneinfo.available_timezones())"
   ]
  },
  {
   "cell_type": "code",
   "execution_count": 221,
   "id": "b71dd3fd",
   "metadata": {},
   "outputs": [
    {
     "data": {
      "text/plain": [
       "('/Users/adambricknell/opt/anaconda3/share/zoneinfo',\n",
       " '/Users/adambricknell/opt/anaconda3/share/tzinfo')"
      ]
     },
     "execution_count": 221,
     "metadata": {},
     "output_type": "execute_result"
    }
   ],
   "source": [
    "zoneinfo.TZPATH"
   ]
  },
  {
   "cell_type": "code",
   "execution_count": 278,
   "id": "f778f944",
   "metadata": {},
   "outputs": [
    {
     "name": "stdout",
     "output_type": "stream",
     "text": [
      "10\n",
      "None\n",
      "20\n"
     ]
    }
   ],
   "source": [
    "import weakref\n",
    "\n",
    "class MyClass:\n",
    "    def __init__(self, value):\n",
    "        self.value = value\n",
    "        self.current_btcs = 0\n",
    "    \n",
    "    def multi(self):\n",
    "        self.value = self.value * 2\n",
    "        \n",
    "    def minus(self):\n",
    "        self.value -= 5\n",
    "    \n",
    "    def buy_btc(self, amount, price):\n",
    "        self.current_btcs += amount\n",
    "        self.value -= amount * price\n",
    "        \n",
    "\n",
    "obj = MyClass(10)\n",
    "weak_ref = weakref.ref(obj)\n",
    "\n",
    "obj = weak_ref()\n",
    "print(obj.value)  # prints 10\n",
    "print(obj.multi())  # prints 10\n",
    "print(obj.value)  # prints 10\n"
   ]
  },
  {
   "cell_type": "code",
   "execution_count": 257,
   "id": "6720efd6",
   "metadata": {},
   "outputs": [],
   "source": [
    "aaa = 10"
   ]
  },
  {
   "cell_type": "code",
   "execution_count": 279,
   "id": "c24c6007",
   "metadata": {},
   "outputs": [],
   "source": [
    "thing = MyClass(10)\n",
    "thing.buy_btc(2, 3)"
   ]
  },
  {
   "cell_type": "code",
   "execution_count": 281,
   "id": "5ab2266b",
   "metadata": {},
   "outputs": [
    {
     "name": "stdout",
     "output_type": "stream",
     "text": [
      "4\n",
      "2\n"
     ]
    }
   ],
   "source": [
    "print(thing.value)\n",
    "print(thing.current_btcs)"
   ]
  },
  {
   "cell_type": "code",
   "execution_count": 293,
   "id": "3cfc850b",
   "metadata": {},
   "outputs": [
    {
     "name": "stdout",
     "output_type": "stream",
     "text": [
      "RED\n",
      "1\n",
      "GREEN\n",
      "2\n",
      "BLUE\n",
      "3\n"
     ]
    },
    {
     "data": {
      "text/plain": [
       "[<Color.RED: 1>, <Color.GREEN: 2>, <Color.BLUE: 3>]"
      ]
     },
     "execution_count": 293,
     "metadata": {},
     "output_type": "execute_result"
    }
   ],
   "source": [
    "from enum import Enum\n",
    "Color = Enum('Color', ['RED', 'GREEN', 'BLUE'])\n",
    "for c in Color:\n",
    "    print(c.name)\n",
    "    print(c.value)\n",
    "list(Color)"
   ]
  },
  {
   "cell_type": "code",
   "execution_count": 298,
   "id": "fed09cfb",
   "metadata": {},
   "outputs": [
    {
     "name": "stdout",
     "output_type": "stream",
     "text": [
      "delta\n",
      "red\n",
      "alpha\n",
      "blue\n"
     ]
    }
   ],
   "source": [
    "keywords = Enum('Keys', {'delta':'red', 'alpha':'blue'})\n",
    "for c in keywords:\n",
    "    print(c.name)\n",
    "    print(c.value)\n"
   ]
  },
  {
   "cell_type": "code",
   "execution_count": 301,
   "id": "b576dbe1",
   "metadata": {},
   "outputs": [
    {
     "data": {
      "text/plain": [
       "('A', 'C', 'B', 'D')"
      ]
     },
     "execution_count": 301,
     "metadata": {},
     "output_type": "execute_result"
    }
   ],
   "source": [
    "# topological sort only works if it's a directed acyclic grap\n",
    "from graphlib import TopologicalSorter\n",
    "graph = {\"D\": {\"B\", \"C\"}, \"C\": {\"A\"}, \"B\": {\"A\"}}\n",
    "ts = TopologicalSorter(graph)\n",
    "tuple(ts.static_order())\n"
   ]
  },
  {
   "cell_type": "code",
   "execution_count": 303,
   "id": "5b4d587f",
   "metadata": {},
   "outputs": [
    {
     "name": "stdout",
     "output_type": "stream",
     "text": [
      "Hello, my name is Alice\n"
     ]
    }
   ],
   "source": [
    "### Can assign a function to a new types class as a method\n",
    "import types\n",
    "\n",
    "# Define a new type called 'MyType'\n",
    "MyType = types.new_class('MyType')\n",
    "\n",
    "# Define a method for the type\n",
    "def greet(self):\n",
    "    print(f'Hello, my name is {self.name}')\n",
    "\n",
    "# Set the method as an attribute of the type\n",
    "MyType.greet = greet\n",
    "\n",
    "# Create an instance of the type\n",
    "obj = MyType()\n",
    "obj.name = 'Alice'\n",
    "\n",
    "# Call the method on the instance\n",
    "obj.greet()  # prints \"Hello, my name is Alice\"\n"
   ]
  },
  {
   "cell_type": "code",
   "execution_count": 305,
   "id": "ca957e01",
   "metadata": {},
   "outputs": [
    {
     "data": {
      "text/plain": [
       "True"
      ]
     },
     "execution_count": 305,
     "metadata": {},
     "output_type": "execute_result"
    }
   ],
   "source": [
    "from types import GenericAlias\n",
    "\n",
    "list[int] == GenericAlias(list, (int,))\n",
    "\n",
    "dict[str, int] == GenericAlias(dict, (str, int))"
   ]
  },
  {
   "cell_type": "code",
   "execution_count": 341,
   "id": "3ac459e8",
   "metadata": {},
   "outputs": [
    {
     "data": {
      "text/plain": [
       "[2, 3, 4]"
      ]
     },
     "execution_count": 341,
     "metadata": {},
     "output_type": "execute_result"
    }
   ],
   "source": [
    "import types\n",
    "IntList = types.GenericAlias('IntList', list[int])\n",
    "\n",
    "def test_function(x: IntList):\n",
    "    \"\"\"Add 1 to all values in list of ints\"\"\"\n",
    "    if not isinstance(x[0], int):\n",
    "        raise TypeError('Input must be an integer')\n",
    "    return [c+1 for c in x]\n",
    "\n",
    "test_function([1,2,3])\n"
   ]
  },
  {
   "cell_type": "code",
   "execution_count": 345,
   "id": "b85031a1",
   "metadata": {},
   "outputs": [
    {
     "data": {
      "text/plain": [
       "collections.abc.Sequence"
      ]
     },
     "execution_count": 345,
     "metadata": {},
     "output_type": "execute_result"
    }
   ],
   "source": [
    "from collections.abc import Sequence\n",
    "Sequence"
   ]
  },
  {
   "cell_type": "code",
   "execution_count": 361,
   "id": "d0a83d5f",
   "metadata": {},
   "outputs": [
    {
     "data": {
      "text/plain": [
       "30"
      ]
     },
     "execution_count": 361,
     "metadata": {},
     "output_type": "execute_result"
    }
   ],
   "source": [
    "from dataclasses import dataclass\n",
    "\n",
    "@dataclass\n",
    "class InventoryItem:\n",
    "    \"\"\"Class for keeping track of an item in inventory.\"\"\"\n",
    "    name: str\n",
    "    unit_price: float\n",
    "    quantity_on_hand: int = 0\n",
    "\n",
    "    def total_cost(self) -> float:\n",
    "        return self.unit_price * self.quantity_on_hand\n",
    "    \n",
    "InventoryItem('adam', 15, 2).total_cost()"
   ]
  },
  {
   "cell_type": "code",
   "execution_count": 364,
   "id": "566812d0",
   "metadata": {},
   "outputs": [
    {
     "name": "stdout",
     "output_type": "stream",
     "text": [
      "10\n",
      "10\n",
      "10\n"
     ]
    }
   ],
   "source": [
    "import itertools\n",
    "for i in itertools.repeat(10, 3):\n",
    "    print(i)"
   ]
  },
  {
   "cell_type": "code",
   "execution_count": 368,
   "id": "16984364",
   "metadata": {},
   "outputs": [
    {
     "name": "stdout",
     "output_type": "stream",
     "text": [
      "1\n",
      "3\n",
      "6\n",
      "10\n",
      "15\n"
     ]
    }
   ],
   "source": [
    "for i in itertools.accumulate([1,2,3,4,5]):\n",
    "    print(i)"
   ]
  },
  {
   "cell_type": "code",
   "execution_count": 371,
   "id": "6bd1d7ee",
   "metadata": {},
   "outputs": [
    {
     "name": "stdout",
     "output_type": "stream",
     "text": [
      "A\n",
      "B\n",
      "C\n",
      "D\n",
      "E\n",
      "F\n",
      "a\n",
      "a\n",
      "a\n"
     ]
    }
   ],
   "source": [
    "for i in itertools.chain('ABC', 'DEF','aaa'):\n",
    "    print(i)"
   ]
  },
  {
   "cell_type": "code",
   "execution_count": 373,
   "id": "d11ee9a4",
   "metadata": {},
   "outputs": [
    {
     "name": "stdout",
     "output_type": "stream",
     "text": [
      "A\n",
      "C\n",
      "E\n",
      "F\n"
     ]
    }
   ],
   "source": [
    "# filter where is a 1 not 0 in corresponding list\n",
    "for i in itertools.compress('ABCDEF', [1,0,1,0,1,1]):\n",
    "    print(i)\n"
   ]
  },
  {
   "cell_type": "code",
   "execution_count": 374,
   "id": "282f71ae",
   "metadata": {},
   "outputs": [
    {
     "name": "stdout",
     "output_type": "stream",
     "text": [
      "('A', 'B')\n",
      "('A', 'C')\n",
      "('A', 'D')\n",
      "('B', 'A')\n",
      "('B', 'C')\n",
      "('B', 'D')\n",
      "('C', 'A')\n",
      "('C', 'B')\n",
      "('C', 'D')\n",
      "('D', 'A')\n",
      "('D', 'B')\n",
      "('D', 'C')\n"
     ]
    }
   ],
   "source": [
    "for p in itertools.permutations('ABCD', 2):\n",
    "    print(p)"
   ]
  },
  {
   "cell_type": "code",
   "execution_count": 375,
   "id": "89d2bd0c",
   "metadata": {
    "scrolled": true
   },
   "outputs": [
    {
     "name": "stdout",
     "output_type": "stream",
     "text": [
      "('A', 'B')\n",
      "('A', 'C')\n",
      "('A', 'D')\n",
      "('B', 'C')\n",
      "('B', 'D')\n",
      "('C', 'D')\n"
     ]
    }
   ],
   "source": [
    "# all combinations in one order\n",
    "for p in itertools.combinations('ABCD', 2):\n",
    "    print(p)"
   ]
  },
  {
   "cell_type": "code",
   "execution_count": 436,
   "id": "6c33bde3",
   "metadata": {},
   "outputs": [
    {
     "name": "stdout",
     "output_type": "stream",
     "text": [
      "2\n",
      "CacheInfo(hits=0, misses=3, maxsize=None, currsize=3)\n",
      "{'maxsize': None, 'typed': False}\n",
      "None\n",
      "CacheInfo(hits=0, misses=0, maxsize=None, currsize=0)\n"
     ]
    }
   ],
   "source": [
    "# same as memoise\n",
    "from functools import cache\n",
    "@cache\n",
    "def factorial(n):\n",
    "    return n * factorial(n-1) if n else 1\n",
    "print(factorial(2))\n",
    "print(factorial.cache_info())\n",
    "print(factorial.cache_parameters())\n",
    "print(factorial.cache_clear())\n",
    "print(factorial.cache_info())\n"
   ]
  },
  {
   "cell_type": "code",
   "execution_count": 452,
   "id": "64aefd57",
   "metadata": {},
   "outputs": [
    {
     "data": {
      "text/plain": [
       "200000"
      ]
     },
     "execution_count": 452,
     "metadata": {},
     "output_type": "execute_result"
    }
   ],
   "source": [
    "# the @property decorator turns the voltage() method into a “getter” for a read-only attribute with the same name, \n",
    "class Parrot:\n",
    "    def __init__(self):\n",
    "        self._voltage = 100000\n",
    "\n",
    "    @property\n",
    "    def voltage(self):\n",
    "        \"\"\"Get the current voltage.\"\"\"\n",
    "        return self._voltage * 2\n",
    "    \n",
    "p = Parrot()\n",
    "p.voltage"
   ]
  },
  {
   "cell_type": "code",
   "execution_count": 468,
   "id": "e85ee3f8",
   "metadata": {},
   "outputs": [
    {
     "data": {
      "text/plain": [
       "4"
      ]
     },
     "execution_count": 468,
     "metadata": {},
     "output_type": "execute_result"
    }
   ],
   "source": [
    "class C:\n",
    "    def __init__(self):\n",
    "        self._x = 'ha'\n",
    "\n",
    "    @property\n",
    "    def x(self):\n",
    "        \"\"\"I'm the 'x' property.\"\"\"\n",
    "        return self._x\n",
    "\n",
    "    # allows setting value of Cinstance.x\n",
    "    @x.setter\n",
    "    def x(self, value):\n",
    "        self._x = value\n",
    "   \n",
    "    # allows deleting value of Cinstance.x\n",
    "    @x.deleter\n",
    "    def x(self):\n",
    "        del self._x\n",
    "    \n",
    "c = C()\n",
    "del c.x\n",
    "c.x = 4\n",
    "c.x\n"
   ]
  },
  {
   "cell_type": "code",
   "execution_count": 471,
   "id": "bccff073",
   "metadata": {},
   "outputs": [
    {
     "data": {
      "text/plain": [
       "4"
      ]
     },
     "execution_count": 471,
     "metadata": {},
     "output_type": "execute_result"
    }
   ],
   "source": [
    "# lru_cache = memoizing callable that saves up to the maxsize most recent calls\n",
    "from functools import lru_cache \n",
    "@lru_cache\n",
    "def count_vowels(sentence):\n",
    "    return sum(sentence.count(vowel) for vowel in 'AEIOUaeiou')\n",
    "count_vowels('hahahan os')"
   ]
  },
  {
   "cell_type": "code",
   "execution_count": 484,
   "id": "7116e800",
   "metadata": {},
   "outputs": [
    {
     "name": "stdout",
     "output_type": "stream",
     "text": [
      "False\n",
      "True\n"
     ]
    }
   ],
   "source": [
    "import functools\n",
    "@functools.total_ordering\n",
    "class Student:\n",
    "    def _is_valid_operand(self, other):\n",
    "        return (hasattr(other, \"lastname\") and\n",
    "                hasattr(other, \"firstname\"))\n",
    "    def __eq__(self, other):\n",
    "        if not self._is_valid_operand(other):\n",
    "            return NotImplemented\n",
    "        return ((self.lastname.lower(), self.firstname.lower()) ==\n",
    "                (other.lastname.lower(), other.firstname.lower()))\n",
    "    def __lt__(self, other):\n",
    "        if not self._is_valid_operand(other):\n",
    "            return NotImplemented\n",
    "        return ((self.lastname.lower(), self.firstname.lower()) <\n",
    "                (other.lastname.lower(), other.firstname.lower()))\n",
    "s = Student()\n",
    "s.lastname = 'aa'\n",
    "s.firstname = 'bb'\n",
    "print(s < s)\n",
    "print(s >= s)"
   ]
  },
  {
   "cell_type": "code",
   "execution_count": 493,
   "id": "bb65ffe7",
   "metadata": {},
   "outputs": [
    {
     "data": {
      "text/plain": [
       "15"
      ]
     },
     "execution_count": 493,
     "metadata": {},
     "output_type": "execute_result"
    }
   ],
   "source": [
    "# reduce() takes a start value x (0 in this case) does something with each y value, accumulating \n",
    "from functools import reduce\n",
    "reduce(lambda x, y: x+y, [1, 2, 3, 4, 5], 0)"
   ]
  },
  {
   "cell_type": "code",
   "execution_count": null,
   "id": "bce954cf",
   "metadata": {},
   "outputs": [],
   "source": [
    "## @singledispatch makes one fun(), and depending on the input type a different version of the below will be \n",
    "## called. Basically: overloading the function\n",
    "from functools import singledispatch\n",
    "@singledispatch\n",
    "def fun(arg, verbose=False):\n",
    "    if verbose:\n",
    "        print(\"Let me just say,\", end=\" \")\n",
    "    print(arg)\n",
    "    \n",
    "@fun.register\n",
    "def _(arg: int | float, verbose=False):\n",
    "    if verbose:\n",
    "        print(\"Strength in numbers, eh?\", end=\" \")\n",
    "    print(arg)\n",
    "\n",
    "from typing import Union\n",
    "@fun.register\n",
    "def _(arg: Union[list, set], verbose=False):\n",
    "    if verbose:\n",
    "        print(\"Enumerate this:\")\n",
    "    for i, elem in enumerate(arg):\n",
    "        print(i, elem)"
   ]
  },
  {
   "cell_type": "code",
   "execution_count": 494,
   "id": "15678aa8",
   "metadata": {},
   "outputs": [
    {
     "name": "stdout",
     "output_type": "stream",
     "text": [
      "Called add with arguments (1, 2) and keyword arguments {}\n",
      "add returned 3\n",
      "3\n"
     ]
    }
   ],
   "source": [
    "import functools\n",
    "\n",
    "def log_function(func):\n",
    "    @functools.wraps(func)\n",
    "    def wrapper(*args, **kwargs):\n",
    "        result = func(*args, **kwargs)\n",
    "        print(f\"Called {func.__name__} with arguments {args} and keyword arguments {kwargs}\")\n",
    "        print(f\"{func.__name__} returned {result}\")\n",
    "        return result\n",
    "    return wrapper\n",
    "\n",
    "@log_function\n",
    "def add(x, y):\n",
    "    return x + y\n",
    "\n",
    "print(add(1, 2))\n",
    "# Output:\n",
    "# Called add with arguments (1, 2) and keyword arguments {}\n",
    "# add returned 3\n"
   ]
  },
  {
   "cell_type": "code",
   "execution_count": 517,
   "id": "2582b109",
   "metadata": {},
   "outputs": [
    {
     "name": "stdout",
     "output_type": "stream",
     "text": [
      "[PosixPath('.ipynb_checkpoints'), PosixPath('.git')]\n",
      "[PosixPath('.Rhistory'), PosixPath('Main.ipynb'), PosixPath('.DS_Store'), PosixPath('mydatabase.db'), PosixPath('filename.txt'), PosixPath('main.md'), PosixPath('README.md'), PosixPath('.ipynb_checkpoints'), PosixPath('.git')]\n",
      "/tmp/com.apple.launchd.ye3ZWRuuj7\n",
      "/tmp/com.google.Keystone\n",
      "/tmp/Sublime Text.daeb8d2dcf358f1f1233e99d67cef1e9.0760999cf8d4863a82a24070c50718c2.sock\n",
      "/tmp/example.txt\n",
      "/tmp/bitrock_installer.log\n",
      "/tmp/78697f8f-2611-41d3-4dd2-7933cefcf1a3_autoUpdaterStart_rca_response.txt\n",
      "Hello, world!\n",
      "\n",
      "haha\n",
      "The file exists\n",
      "contents: Hello, world!\n",
      "haha\n"
     ]
    }
   ],
   "source": [
    "from pathlib import Path\n",
    "p = Path('.')\n",
    "print([x for x in p.iterdir() if x.is_dir()])\n",
    "print([x for x in p.iterdir()])\n",
    "\n",
    "# get .md files in this directory tree\n",
    "list(p.glob('**/*.md'))\n",
    "\n",
    "path = Path('/tmp')\n",
    "for item in path.iterdir():\n",
    "    print(item)\n",
    "\n",
    "path = Path('/tmp/example.txt')\n",
    "path.write_text('Hello, world!\\nhaha')\n",
    "    \n",
    "path = Path('/tmp/example.txt')\n",
    "with path.open() as f:\n",
    "    print(f.readline())\n",
    "    print(f.readline())\n",
    "    \n",
    "path = Path('/tmp/example.txt')\n",
    "if path.exists():\n",
    "    print('The file exists')\n",
    "else:\n",
    "    print('The file does not exist')\n",
    "\n",
    "contents = path.read_text()\n",
    "print(f'contents: {contents}')\n"
   ]
  },
  {
   "cell_type": "code",
   "execution_count": 529,
   "id": "03c38aa3",
   "metadata": {},
   "outputs": [
    {
     "name": "stdout",
     "output_type": "stream",
     "text": [
      "a\n",
      "\n",
      "b\n",
      "\n",
      "c\n",
      "\n",
      "d\n",
      "\n",
      "e\n",
      "\n",
      "f\n",
      "\n",
      "a\n",
      "\n",
      "b\n",
      "\n",
      "c\n",
      "\n",
      "d\n",
      "\n",
      "e\n",
      "\n",
      "f\n",
      "\n"
     ]
    }
   ],
   "source": [
    "import fileinput\n",
    "with fileinput.input(files=['filename.txt', 'filename.txt']) as f:\n",
    "    for line in f:\n",
    "        print(line)"
   ]
  },
  {
   "cell_type": "code",
   "execution_count": 523,
   "id": "a8e0a7ba",
   "metadata": {},
   "outputs": [
    {
     "name": "stdout",
     "output_type": "stream",
     "text": [
      ".Rhistory\n",
      "Main.ipynb\n",
      ".DS_Store\n",
      "mydatabase.db\n",
      "filename.txt\n",
      "main.md\n",
      "README.md\n",
      ".ipynb_checkpoints\n",
      ".git\n"
     ]
    }
   ],
   "source": [
    "path = Path()\n",
    "for item in path.iterdir():\n",
    "    print(item)"
   ]
  },
  {
   "cell_type": "code",
   "execution_count": 533,
   "id": "1a8ecf0e",
   "metadata": {},
   "outputs": [
    {
     "data": {
      "text/plain": [
       "(['filename.txt'], [], [])"
      ]
     },
     "execution_count": 533,
     "metadata": {},
     "output_type": "execute_result"
    }
   ],
   "source": [
    "import filecmp\n",
    "# returns match, mismatch, errors for specified files (3rd param) between 2 directories (params 1 and 2)\n",
    "filecmp.cmpfiles('', '', ['filename.txt'])"
   ]
  },
  {
   "cell_type": "code",
   "execution_count": 534,
   "id": "47450485",
   "metadata": {},
   "outputs": [
    {
     "data": {
      "text/plain": [
       "True"
      ]
     },
     "execution_count": 534,
     "metadata": {},
     "output_type": "execute_result"
    }
   ],
   "source": [
    "filecmp.cmp('filename.txt', 'filename.txt')"
   ]
  },
  {
   "cell_type": "code",
   "execution_count": 536,
   "id": "6086eb7b",
   "metadata": {},
   "outputs": [
    {
     "name": "stdout",
     "output_type": "stream",
     "text": [
      "created temporary directory /var/folders/x2/bt81rqpj7pl_j7fczgml3pd80000gn/T/tmpblrgdylz\n",
      "/var/folders/x2/bt81rqpj7pl_j7fczgml3pd80000gn/T/tmpblrgdylz\n"
     ]
    }
   ],
   "source": [
    "import tempfile\n",
    "\n",
    "with tempfile.TemporaryFile() as fp:\n",
    "    fp.write(b'Hello world!')\n",
    "    fp.seek(0)\n",
    "    fp.read()\n",
    "\n",
    "with tempfile.TemporaryDirectory() as tmpdirname:\n",
    "    print('created temporary directory', tmpdirname)\n"
   ]
  },
  {
   "cell_type": "code",
   "execution_count": 548,
   "id": "7bbbf1fd",
   "metadata": {},
   "outputs": [
    {
     "data": {
      "text/plain": [
       "'\\n'"
      ]
     },
     "execution_count": 548,
     "metadata": {},
     "output_type": "execute_result"
    }
   ],
   "source": [
    "import linecache\n",
    "linecache.getline(next(p.glob('**/*.md')).name, 4)"
   ]
  },
  {
   "cell_type": "code",
   "execution_count": 542,
   "id": "bdf86974",
   "metadata": {},
   "outputs": [
    {
     "data": {
      "text/plain": [
       "['__bytes__',\n",
       " '__class__',\n",
       " '__class_getitem__',\n",
       " '__delattr__',\n",
       " '__dir__',\n",
       " '__doc__',\n",
       " '__enter__',\n",
       " '__eq__',\n",
       " '__exit__',\n",
       " '__format__',\n",
       " '__fspath__',\n",
       " '__ge__',\n",
       " '__getattribute__',\n",
       " '__gt__',\n",
       " '__hash__',\n",
       " '__init__',\n",
       " '__init_subclass__',\n",
       " '__le__',\n",
       " '__lt__',\n",
       " '__module__',\n",
       " '__ne__',\n",
       " '__new__',\n",
       " '__reduce__',\n",
       " '__reduce_ex__',\n",
       " '__repr__',\n",
       " '__rtruediv__',\n",
       " '__setattr__',\n",
       " '__sizeof__',\n",
       " '__slots__',\n",
       " '__str__',\n",
       " '__subclasshook__',\n",
       " '__truediv__',\n",
       " '_accessor',\n",
       " '_cached_cparts',\n",
       " '_cparts',\n",
       " '_drv',\n",
       " '_flavour',\n",
       " '_format_parsed_parts',\n",
       " '_from_parsed_parts',\n",
       " '_from_parts',\n",
       " '_hash',\n",
       " '_init',\n",
       " '_make_child',\n",
       " '_make_child_relpath',\n",
       " '_opener',\n",
       " '_parse_args',\n",
       " '_parts',\n",
       " '_pparts',\n",
       " '_raw_open',\n",
       " '_root',\n",
       " '_str',\n",
       " 'absolute',\n",
       " 'anchor',\n",
       " 'as_posix',\n",
       " 'as_uri',\n",
       " 'chmod',\n",
       " 'cwd',\n",
       " 'drive',\n",
       " 'exists',\n",
       " 'expanduser',\n",
       " 'glob',\n",
       " 'group',\n",
       " 'home',\n",
       " 'is_absolute',\n",
       " 'is_block_device',\n",
       " 'is_char_device',\n",
       " 'is_dir',\n",
       " 'is_fifo',\n",
       " 'is_file',\n",
       " 'is_mount',\n",
       " 'is_relative_to',\n",
       " 'is_reserved',\n",
       " 'is_socket',\n",
       " 'is_symlink',\n",
       " 'iterdir',\n",
       " 'joinpath',\n",
       " 'lchmod',\n",
       " 'link_to',\n",
       " 'lstat',\n",
       " 'match',\n",
       " 'mkdir',\n",
       " 'name',\n",
       " 'open',\n",
       " 'owner',\n",
       " 'parent',\n",
       " 'parents',\n",
       " 'parts',\n",
       " 'read_bytes',\n",
       " 'read_text',\n",
       " 'readlink',\n",
       " 'relative_to',\n",
       " 'rename',\n",
       " 'replace',\n",
       " 'resolve',\n",
       " 'rglob',\n",
       " 'rmdir',\n",
       " 'root',\n",
       " 'samefile',\n",
       " 'stat',\n",
       " 'stem',\n",
       " 'suffix',\n",
       " 'suffixes',\n",
       " 'symlink_to',\n",
       " 'touch',\n",
       " 'unlink',\n",
       " 'with_name',\n",
       " 'with_stem',\n",
       " 'with_suffix',\n",
       " 'write_bytes',\n",
       " 'write_text']"
      ]
     },
     "execution_count": 542,
     "metadata": {},
     "output_type": "execute_result"
    }
   ],
   "source": [
    "dir(next(p.glob('**/*.md')))"
   ]
  },
  {
   "cell_type": "code",
   "execution_count": 544,
   "id": "cd7ae717",
   "metadata": {},
   "outputs": [
    {
     "data": {
      "text/plain": [
       "'main.md'"
      ]
     },
     "execution_count": 544,
     "metadata": {},
     "output_type": "execute_result"
    }
   ],
   "source": [
    "next(p.glob('**/*.md')).name"
   ]
  },
  {
   "cell_type": "code",
   "execution_count": 551,
   "id": "7d533e77",
   "metadata": {},
   "outputs": [
    {
     "data": {
      "text/plain": [
       "b'\\x80\\x05\\x95\\x0c\\x00\\x00\\x00\\x00\\x00\\x00\\x00\\x8c\\x08sometext\\x94.'"
      ]
     },
     "execution_count": 551,
     "metadata": {},
     "output_type": "execute_result"
    }
   ],
   "source": [
    "import pickle\n",
    "pickle.dumps('sometext', protocol=pickle.HIGHEST_PROTOCOL)\n"
   ]
  },
  {
   "cell_type": "code",
   "execution_count": 553,
   "id": "72a87c44",
   "metadata": {},
   "outputs": [
    {
     "data": {
      "text/plain": [
       "'sometext'"
      ]
     },
     "execution_count": 553,
     "metadata": {},
     "output_type": "execute_result"
    }
   ],
   "source": [
    "# use pickletools.optimize. Is:\n",
    "# shorter, takes less transmission time, requires less storage space, and unpickles more efficiently.\n",
    "import pickletools\n",
    "more_efficient_pickle_bytestring = pickletools.optimize(pickle.dumps('sometext', protocol=pickle.HIGHEST_PROTOCOL))\n",
    "pickle.loads(more_efficient_pickle_bytestring)"
   ]
  },
  {
   "cell_type": "code",
   "execution_count": 561,
   "id": "603e16f5",
   "metadata": {},
   "outputs": [
    {
     "name": "stdout",
     "output_type": "stream",
     "text": [
      "eggs_and_bacon\n",
      "eggs_and_bacon\n"
     ]
    }
   ],
   "source": [
    "import shelve\n",
    "with shelve.open('spam') as db:\n",
    "    print(db.get('eggs'))\n",
    "    db['eggs2'] = 'eggs_and_bacon'\n",
    "    print(db.get('eggs2'))"
   ]
  },
  {
   "cell_type": "code",
   "execution_count": 564,
   "id": "247f545f",
   "metadata": {},
   "outputs": [
    {
     "name": "stdout",
     "output_type": "stream",
     "text": [
      "eggs_and_bacon\n",
      "eggs_and_bacon\n"
     ]
    }
   ],
   "source": [
    "import shelve\n",
    "with shelve.open('spam', writeback=True) as db:\n",
    "    print(db.get('eggs'))\n",
    "    db.sync()        \t\t\t\t\t ### adding this line to manually sync db\n",
    "    db['eggs2'] = 'eggs_and_bacon'\n",
    "    print(db.get('eggs2'))"
   ]
  },
  {
   "cell_type": "code",
   "execution_count": 567,
   "id": "cd7b178d",
   "metadata": {},
   "outputs": [
    {
     "name": "stdout",
     "output_type": "stream",
     "text": [
      "b'not present'\n"
     ]
    }
   ],
   "source": [
    "import dbm\n",
    "\n",
    "# Open database, creating it if necessary.\n",
    "with dbm.open('cache', 'c') as db:\n",
    "\n",
    "    # Record some values\n",
    "    db[b'hello'] = b'there'\n",
    "    db['www.python.org'] = 'Python Website'\n",
    "    db['www.cnn.com'] = 'Cable News Network'\n",
    "\n",
    "    # Note that the keys are considered bytes now.\n",
    "    assert db[b'www.python.org'] == b'Python Website'\n",
    "    # Notice how the value is now in bytes.\n",
    "    assert db['www.cnn.com'] == b'Cable News Network'\n",
    "\n",
    "    # Often-used methods of the dict interface work too.\n",
    "    print(db.get('python.org', b'not present'))\n",
    "    \n",
    "    # Storing a non-string key or value will raise an exception (most\n",
    "    # likely a TypeError).\n",
    "    db['www.yahoo.com'] = 'a'"
   ]
  },
  {
   "cell_type": "code",
   "execution_count": 568,
   "id": "5dfc83b8",
   "metadata": {},
   "outputs": [
    {
     "data": {
      "text/plain": [
       "['.Rhistory',\n",
       " 'Main.ipynb',\n",
       " '.DS_Store',\n",
       " 'mydatabase.db',\n",
       " 'filename.txt',\n",
       " 'main.md',\n",
       " 'README.md',\n",
       " 'spam.db',\n",
       " 'cache.db',\n",
       " '.ipynb_checkpoints',\n",
       " '.git']"
      ]
     },
     "execution_count": 568,
     "metadata": {},
     "output_type": "execute_result"
    }
   ],
   "source": [
    "os.listdir()"
   ]
  },
  {
   "cell_type": "code",
   "execution_count": 572,
   "id": "c31d4542",
   "metadata": {},
   "outputs": [
    {
     "name": "stdout",
     "output_type": "stream",
     "text": [
      "('movie',)\n",
      "True\n",
      "(1971, 'And Now for Something Completely Different')\n",
      "(1975, 'Monty Python and the Holy Grail')\n",
      "(1979, \"Monty Python's Life of Brian\")\n",
      "(1982, 'Monty Python Live at the Hollywood Bowl')\n",
      "(1983, \"Monty Python's The Meaning of Life\")\n"
     ]
    }
   ],
   "source": [
    "## sqlite\n",
    "import sqlite3\n",
    "con = sqlite3.connect(\"tutorial.db\")\n",
    "cur = con.cursor()\n",
    "cur.execute(\"CREATE TABLE movie(title, year, score)\")\n",
    "res = cur.execute(\"SELECT name FROM sqlite_master\")\n",
    "print(res.fetchone())\n",
    "res = cur.execute(\"SELECT name FROM sqlite_master WHERE name='spam'\")\n",
    "print(res.fetchone() is None)\n",
    "cur.execute(\"\"\"\n",
    "    INSERT INTO movie VALUES\n",
    "        ('Monty Python and the Holy Grail', 1975, 8.2),\n",
    "        ('And Now for Something Completely Different', 1971, 7.5)\n",
    "\"\"\")\n",
    "con.commit()\n",
    "data = [\n",
    "    (\"Monty Python Live at the Hollywood Bowl\", 1982, 7.9),\n",
    "    (\"Monty Python's The Meaning of Life\", 1983, 7.5),\n",
    "    (\"Monty Python's Life of Brian\", 1979, 8.0),\n",
    "]\n",
    "cur.executemany(\"INSERT INTO movie VALUES(?, ?, ?)\", data)\n",
    "con.commit() \n",
    "for row in cur.execute(\"SELECT year, title FROM movie ORDER BY year\"):\n",
    "    print(row)"
   ]
  },
  {
   "cell_type": "code",
   "execution_count": 575,
   "id": "60c43027",
   "metadata": {},
   "outputs": [
    {
     "name": "stdout",
     "output_type": "stream",
     "text": [
      "('acbd18db4cc2f85cedef654fccc4a4d8',)\n"
     ]
    }
   ],
   "source": [
    "# making a python function and calling it in sqlite with con.create_functionw\n",
    "import hashlib\n",
    "def md5sum(t):\n",
    "    return hashlib.md5(t).hexdigest()\n",
    "con = sqlite3.connect(\":memory:\")\n",
    "con.create_function(\"md5\", 1, md5sum)\n",
    "for row in con.execute(\"SELECT md5(?)\", (b\"foo\",)):\n",
    "    print(row)"
   ]
  },
  {
   "cell_type": "code",
   "execution_count": 582,
   "id": "2972c691",
   "metadata": {},
   "outputs": [
    {
     "name": "stdout",
     "output_type": "stream",
     "text": [
      "[('Monty Python and the Holy Grail', 1975, 8.2), ('And Now for Something Completely Different', 1971, 7.5), ('Monty Python Live at the Hollywood Bowl', 1982, 7.9), (\"Monty Python's The Meaning of Life\", 1983, 7.5), (\"Monty Python's Life of Brian\", 1979, 8.0)]\n"
     ]
    }
   ],
   "source": [
    "# using context manager\n",
    "with sqlite3.connect(\"tutorial.db\") as con:\n",
    "    print(con.execute(\"select * from movie\").fetchall())"
   ]
  },
  {
   "cell_type": "code",
   "execution_count": 600,
   "id": "92c80601",
   "metadata": {},
   "outputs": [
    {
     "name": "stdout",
     "output_type": "stream",
     "text": [
      "b'x\\x9cKL\\x04\\x00\\x01%\\x00\\xc3'\n",
      "b'\\x1f\\x8b\\x08\\x00p\\\\\\xacc\\x02\\xffKL\\x04\\x00\\xd7\\x19\\x8a\\x07\\x02\\x00\\x00\\x00'\n",
      "b'\\xfd7zXZ\\x00\\x00\\x04\\xe6\\xd6\\xb4F\\x02\\x00!\\x01\\x16\\x00\\x00\\x00t/\\xe5\\xa3\\x01\\x00\\x01aa\\x00\\x00\\x00rOc\\xa5\\xc9\\t\\xcf\\xfb\\x00\\x01\\x1a\\x02\\xdc.\\xa5~\\x1f\\xb6\\xf3}\\x01\\x00\\x00\\x00\\x00\\x04YZ'\n",
      "b'BZh91AY&SY\\xe4\\xd0\\xdb\\x14\\x00\\x00\\x00\\x81\\x00 \\x00 \\x00!\\x18F\\xc2\\xeeH\\xa7\\n\\x12\\x1c\\x9a\\x1bb\\x80'\n",
      "b'aa'\n",
      "b'aa'\n"
     ]
    }
   ],
   "source": [
    "import zlib, gzip, lzma, bz2\n",
    "print(zlib.compress(b'aa'))\n",
    "print(gzip.compress(b'aa'))\n",
    "print(lzma.compress(b'aa'))\n",
    "print(bz2.compress(b'aa'))\n",
    "\n",
    "\n",
    "print(zlib.decompress(zlib.compress(b'aa')))\n",
    "print(bz2.decompress(bz2.compress(b'aa')))"
   ]
  },
  {
   "cell_type": "code",
   "execution_count": 613,
   "id": "b9ec643e",
   "metadata": {},
   "outputs": [],
   "source": [
    "import configparser\n",
    "config = configparser.ConfigParser()\n",
    "config['one.thing'] = {'ServerAliveInterval': '45',\n",
    "                     'Compression': 'yes',\n",
    "                     'CompressionLevel': '9'}\n",
    "config['bitbucket.org'] = {}\n",
    "config['bitbucket.org']['User'] = 'hg'\n",
    "config['topsecret.server.com'] = {}\n",
    "topsecret = config['topsecret.server.com']\n",
    "topsecret['Port'] = '50022'     # mutates the parser\n",
    "topsecret['ForwardX11'] = 'no'  # same here\n",
    "config['DEFAULT']['ForwardX11'] = 'yes'\n",
    "with open('example.ini', 'w') as configfile:\n",
    "  config.write(configfile)"
   ]
  },
  {
   "cell_type": "code",
   "execution_count": 616,
   "id": "ad8ddca6",
   "metadata": {},
   "outputs": [
    {
     "data": {
      "text/plain": [
       "{'one.thing': {'forwardx11': 'yes',\n",
       "  'serveraliveinterval': '45',\n",
       "  'compression': 'yes',\n",
       "  'compressionlevel': '9'},\n",
       " 'bitbucket.org': {'forwardx11': 'yes', 'user': 'hg'},\n",
       " 'topsecret.server.com': {'forwardx11': 'no', 'port': '50022'}}"
      ]
     },
     "execution_count": 616,
     "metadata": {},
     "output_type": "execute_result"
    }
   ],
   "source": [
    "# read in ini file and convert to dict\n",
    "config = configparser.ConfigParser()\n",
    "config.read('example.ini')\n",
    "config_dict = {s:dict(config.items(s)) for s in config.sections()}\n",
    "config_dict"
   ]
  },
  {
   "cell_type": "code",
   "execution_count": 619,
   "id": "38cf0501",
   "metadata": {},
   "outputs": [
    {
     "data": {
      "text/plain": [
       "{'forwardx11': 'yes',\n",
       " 'serveraliveinterval': '45',\n",
       " 'compression': 'yes',\n",
       " 'compressionlevel': '9'}"
      ]
     },
     "execution_count": 619,
     "metadata": {},
     "output_type": "execute_result"
    }
   ],
   "source": [
    "config_dict['one.thing']"
   ]
  },
  {
   "cell_type": "code",
   "execution_count": 636,
   "id": "b78f7fc4",
   "metadata": {},
   "outputs": [
    {
     "name": "stdout",
     "output_type": "stream",
     "text": [
      "b'\\xe7\\xa3\\xf8\\x08\\xcb\\x06\\x87\\xfd6`\\xe9V\\xa5\\xdf\\x0f\\x00\\xe2>\\xda\\xc5e\\x07i\\xec5N\\xe6p\\xb6X\\x85\\x8c'\n",
      "b'\\xe7\\xa3\\xf8\\x08\\xcb\\x06\\x87\\xfd6`\\xe9V\\xa5\\xdf\\x0f\\x00\\xe2>\\xda\\xc5e\\x07i\\xec5N\\xe6p\\xb6X\\x85\\x8c'\n",
      "e7a3f808cb0687fd3660e956a5df0f00e23edac5650769ec354ee670b658858c\n",
      "fde32ee3ef761264598330493cee1fdab3d83d1a3e0e14b493e9ca72202d8bf0800dc6bf855ec2836df1dae735eeaa46fbd77bac77629a5be34ed4ad1278c39f\n",
      "3ef729ccf0cc56079ca546d58083dc12\n",
      "{'sha512_224', 'ripemd160', 'md4', 'md5-sha1', 'sm3', 'md5', 'sha3_224', 'sha224', 'sha3_512', 'whirlpool', 'sha1', 'shake_128', 'sha512_256', 'sha512', 'sha256', 'sha384', 'sha3_384', 'sha3_256', 'shake_256', 'blake2b', 'mdc2', 'blake2s'}\n"
     ]
    }
   ],
   "source": [
    "# hashlib\n",
    "from hashlib import sha256, blake2b, md5\n",
    "s = sha256()\n",
    "s.update(b\"Nobody inspects\")\n",
    "print(s.digest())\n",
    "\n",
    "\n",
    "# or the same\n",
    "print(sha256(b\"Nobody inspects\").digest())\n",
    "print(sha256(b\"Nobody inspects\").hexdigest())\n",
    "print(blake2b(b\"Nobody inspects\").hexdigest())\n",
    "print(md5(b\"Nobody inspects\").hexdigest())\n",
    "\n",
    "print(hashlib.algorithms_available)"
   ]
  },
  {
   "cell_type": "code",
   "execution_count": 648,
   "id": "c3a67a24",
   "metadata": {},
   "outputs": [
    {
     "data": {
      "text/plain": [
       "b'\\xf0Ns=\\x0cY\\xff\\n\\x7f\\xdc\\xdb\\xd8.\\ta\\xa6'"
      ]
     },
     "execution_count": 648,
     "metadata": {},
     "output_type": "execute_result"
    }
   ],
   "source": [
    "import hmac\n",
    "hmac.digest(b'key1',msg=b'haha',digest='md5')\n"
   ]
  },
  {
   "cell_type": "code",
   "execution_count": 652,
   "id": "9fbdb768",
   "metadata": {},
   "outputs": [
    {
     "name": "stdout",
     "output_type": "stream",
     "text": [
      "63ZIOpBF\n"
     ]
    },
    {
     "data": {
      "text/plain": [
       "'https://example.com/reset=xQ6groEd3znGXofsE6ljMGlRrtG_eRmrKUemqkOfEas'"
      ]
     },
     "execution_count": 652,
     "metadata": {},
     "output_type": "execute_result"
    }
   ],
   "source": [
    "import secrets\n",
    "# make random bytestring of length 16\n",
    "secrets.token_bytes(16) \n",
    "secrets.token_hex(16)\n",
    "\n",
    "\n",
    "# generate 8 letter alphanumeric password\n",
    "import string\n",
    "import secrets\n",
    "alphabet = string.ascii_letters + string.digits\n",
    "password = ''.join(secrets.choice(alphabet) for i in range(8))\n",
    "print(password)\n",
    "\n",
    "# Generate a hard-to-guess temporary URL containing a security token suitable for password recovery applications:\n",
    "import secrets\n",
    "url = 'https://example.com/reset=' + secrets.token_urlsafe()\n",
    "url\n",
    "\n",
    "\n",
    "# create random set of words\n",
    "import secrets\n",
    "# On standard Linux systems, use a convenient dictionary file.\n",
    "# Other platforms may need to provide their own word-list.\n",
    "with open('/usr/share/dict/words') as f:\n",
    "    words = [word.strip() for word in f]\n",
    "    password = ' '.join(secrets.choice(words) for i in range(4))"
   ]
  },
  {
   "cell_type": "code",
   "execution_count": 681,
   "id": "a3edef77",
   "metadata": {},
   "outputs": [
    {
     "data": {
      "text/plain": [
       "<_io.TextIOWrapper name='newfile.txt' mode='w' encoding='UTF-8'>"
      ]
     },
     "execution_count": 681,
     "metadata": {},
     "output_type": "execute_result"
    }
   ],
   "source": [
    "import os\n",
    "os.stat(path)\n",
    "os.name\n",
    "os.fsencode('haha')\n",
    "\n",
    "# get env variables\n",
    "os.environ           \n",
    "\n",
    "# get name of user\n",
    "os.getlogin()\n",
    "\n",
    "# get pid of this process\n",
    "os.getpgrp()\n",
    "\n",
    "# create new empty file\n",
    "open('newfile.txt', 'w')\n",
    "\n"
   ]
  },
  {
   "cell_type": "code",
   "execution_count": 718,
   "id": "9024e5ab",
   "metadata": {},
   "outputs": [
    {
     "data": {
      "text/plain": [
       "'/Users/adambricknell/Desktop/pythonlearning2023'"
      ]
     },
     "execution_count": 718,
     "metadata": {},
     "output_type": "execute_result"
    }
   ],
   "source": [
    "os.path.expanduser('~/Desktop/pythonlearning2023')"
   ]
  },
  {
   "cell_type": "code",
   "execution_count": 734,
   "id": "8b4fe822",
   "metadata": {},
   "outputs": [
    {
     "name": "stdout",
     "output_type": "stream",
     "text": [
      "some initial text data\n",
      "b'some initial binary data: \\x00\\x01'\n"
     ]
    }
   ],
   "source": [
    "import io\n",
    "f = io.StringIO(\"some initial text data\")\n",
    "for i in f:\n",
    "    print(i)\n",
    "    \n",
    "f = io.BytesIO(b\"some initial binary data: \\x00\\x01\")\n",
    "for i in f:\n",
    "    print(i)"
   ]
  },
  {
   "cell_type": "code",
   "execution_count": null,
   "id": "f0ea8bb4",
   "metadata": {},
   "outputs": [],
   "source": [
    "# reads in raw file: docs say its rare you'll do this\n",
    "f = open(\"myfile.jpg\", \"rb\", buffering=0)"
   ]
  },
  {
   "cell_type": "code",
   "execution_count": 746,
   "id": "500f825d",
   "metadata": {},
   "outputs": [
    {
     "ename": "ImportError",
     "evalue": "cannot import name 'text_encoding' from 'io' (unknown location)",
     "output_type": "error",
     "traceback": [
      "\u001b[0;31m---------------------------------------------------------------------------\u001b[0m",
      "\u001b[0;31mImportError\u001b[0m                               Traceback (most recent call last)",
      "\u001b[0;32m/var/folders/x2/bt81rqpj7pl_j7fczgml3pd80000gn/T/ipykernel_11440/370548049.py\u001b[0m in \u001b[0;36m<module>\u001b[0;34m\u001b[0m\n\u001b[0;32m----> 1\u001b[0;31m from _io import (DEFAULT_BUFFER_SIZE, BlockingIOError, UnsupportedOperation,\n\u001b[0m\u001b[1;32m      2\u001b[0m                  \u001b[0mopen\u001b[0m\u001b[0;34m,\u001b[0m \u001b[0mopen_code\u001b[0m\u001b[0;34m,\u001b[0m \u001b[0mFileIO\u001b[0m\u001b[0;34m,\u001b[0m \u001b[0mBytesIO\u001b[0m\u001b[0;34m,\u001b[0m \u001b[0mStringIO\u001b[0m\u001b[0;34m,\u001b[0m \u001b[0mBufferedReader\u001b[0m\u001b[0;34m,\u001b[0m\u001b[0;34m\u001b[0m\u001b[0;34m\u001b[0m\u001b[0m\n\u001b[1;32m      3\u001b[0m                  \u001b[0mBufferedWriter\u001b[0m\u001b[0;34m,\u001b[0m \u001b[0mBufferedRWPair\u001b[0m\u001b[0;34m,\u001b[0m \u001b[0mBufferedRandom\u001b[0m\u001b[0;34m,\u001b[0m\u001b[0;34m\u001b[0m\u001b[0;34m\u001b[0m\u001b[0m\n\u001b[1;32m      4\u001b[0m                  IncrementalNewlineDecoder, text_encoding, TextIOWrapper)\n",
      "\u001b[0;31mImportError\u001b[0m: cannot import name 'text_encoding' from 'io' (unknown location)"
     ]
    }
   ],
   "source": [
    "from _io import (DEFAULT_BUFFER_SIZE, BlockingIOError, UnsupportedOperation,\n",
    "                 open, open_code, FileIO, BytesIO, StringIO, BufferedReader,\n",
    "                 BufferedWriter, BufferedRWPair, BufferedRandom,\n",
    "                 IncrementalNewlineDecoder, text_encoding, TextIOWrapper)\n"
   ]
  },
  {
   "cell_type": "code",
   "execution_count": 759,
   "id": "beef20f1",
   "metadata": {},
   "outputs": [
    {
     "name": "stderr",
     "output_type": "stream",
     "text": [
      "WARNING:root:Watch out!\n"
     ]
    }
   ],
   "source": [
    "import logging\n",
    "logging.warning('Watch out!')"
   ]
  },
  {
   "cell_type": "code",
   "execution_count": 768,
   "id": "0827b95c",
   "metadata": {},
   "outputs": [
    {
     "name": "stderr",
     "output_type": "stream",
     "text": [
      "WARNING:root:And this, too 3\n",
      "ERROR:root:And non-ASCII stuff, too, like Øresund and Malmö\n"
     ]
    },
    {
     "name": "stdout",
     "output_type": "stream",
     "text": [
      "/Users/adambricknell/Desktop/pythonlearning2023/example.log\n"
     ]
    }
   ],
   "source": [
    "# this needs to run in python terminal: won't work in jupyter\n",
    "import logging\n",
    "import os\n",
    "logfilepath=filename=os.getcwd()+'/example.log'\n",
    "logging.basicConfig(filename=logfilepath, encoding='utf-8', level=logging.DEBUG)\n",
    "logging.debug('This message should go to the log file')\n",
    "logging.info('So should this')\n",
    "haha = 3\n",
    "logging.warning(f'And this, too {haha}')\n",
    "logging.error('And non-ASCII stuff, too, like Øresund and Malmö')\n",
    "print(logfilepath)"
   ]
  },
  {
   "cell_type": "code",
   "execution_count": 769,
   "id": "894f5b7b",
   "metadata": {},
   "outputs": [
    {
     "data": {
      "text/plain": [
       "<Logger __main__ (WARNING)>"
      ]
     },
     "execution_count": 769,
     "metadata": {},
     "output_type": "execute_result"
    }
   ],
   "source": [
    "logging.getLogger(__name__)"
   ]
  },
  {
   "cell_type": "code",
   "execution_count": 772,
   "id": "d5dc509c",
   "metadata": {},
   "outputs": [
    {
     "name": "stdout",
     "output_type": "stream",
     "text": [
      "········\n",
      "haha\n"
     ]
    }
   ],
   "source": [
    "import getpass\n",
    "a = getpass.getpass()\n",
    "print(a)"
   ]
  },
  {
   "cell_type": "code",
   "execution_count": 780,
   "id": "5b5518c9",
   "metadata": {},
   "outputs": [
    {
     "name": "stdout",
     "output_type": "stream",
     "text": [
      "\u001b)0\u001b7\u001b[?47h\u001b[1;24r\u001b[m\u001b[4l\u001b[H\u001b[2J\u001b[5;5HHello from 4,4\u001b[6;16HHello\r",
      "\u001b[1B from 5,15 with a lo\r",
      "\u001b[1Bng string\u001b[H\u001b[2J"
     ]
    },
    {
     "ename": "error",
     "evalue": "mvwin() returned ERR",
     "output_type": "error",
     "traceback": [
      "\u001b[0;31m---------------------------------------------------------------------------\u001b[0m",
      "\u001b[0;31merror\u001b[0m                                     Traceback (most recent call last)",
      "\u001b[0;32m/var/folders/x2/bt81rqpj7pl_j7fczgml3pd80000gn/T/ipykernel_11440/4280010322.py\u001b[0m in \u001b[0;36m<module>\u001b[0;34m\u001b[0m\n\u001b[1;32m     27\u001b[0m \u001b[0;31m# the original window contents would remain on the screen\u001b[0m\u001b[0;34m\u001b[0m\u001b[0;34m\u001b[0m\u001b[0m\n\u001b[1;32m     28\u001b[0m \u001b[0;31m# and we would see the window text twice.\u001b[0m\u001b[0;34m\u001b[0m\u001b[0;34m\u001b[0m\u001b[0m\n\u001b[0;32m---> 29\u001b[0;31m \u001b[0mmy_window\u001b[0m\u001b[0;34m.\u001b[0m\u001b[0mmvwin\u001b[0m\u001b[0;34m(\u001b[0m\u001b[0;36m10\u001b[0m\u001b[0;34m,\u001b[0m \u001b[0;36m10\u001b[0m\u001b[0;34m)\u001b[0m\u001b[0;34m\u001b[0m\u001b[0;34m\u001b[0m\u001b[0m\n\u001b[0m\u001b[1;32m     30\u001b[0m \u001b[0mmy_window\u001b[0m\u001b[0;34m.\u001b[0m\u001b[0mrefresh\u001b[0m\u001b[0;34m(\u001b[0m\u001b[0;34m)\u001b[0m\u001b[0;34m\u001b[0m\u001b[0;34m\u001b[0m\u001b[0m\n\u001b[1;32m     31\u001b[0m \u001b[0mcurses\u001b[0m\u001b[0;34m.\u001b[0m\u001b[0mnapms\u001b[0m\u001b[0;34m(\u001b[0m\u001b[0;36m1000\u001b[0m\u001b[0;34m)\u001b[0m\u001b[0;34m\u001b[0m\u001b[0;34m\u001b[0m\u001b[0m\n",
      "\u001b[0;31merror\u001b[0m: mvwin() returned ERR"
     ]
    }
   ],
   "source": [
    "import curses\n",
    "screen = curses.initscr()\n",
    "# Update the buffer, adding text at different locations\n",
    "screen.addstr(0, 0, \"This string gets printed at position (0, 0)\")\n",
    "screen.addstr(3, 1, \"Try Russian text: Привет\")  # Python 3 required for unicode\n",
    "screen.addstr(4, 4, \"X\")\n",
    "screen.addch(5, 5, \"Y\")\n",
    "# Changes go in to the screen buffer and only get\n",
    "# displayed after calling `refresh()` to update\n",
    "screen.refresh()\n",
    "curses.napms(3000)\n",
    "curses.endwin()"
   ]
  },
  {
   "cell_type": "code",
   "execution_count": 792,
   "id": "f6fbcac3",
   "metadata": {},
   "outputs": [
    {
     "data": {
      "text/plain": [
       "uname_result(system='Darwin', node='Adams-MacBook-Air.local', release='21.1.0', version='Darwin Kernel Version 21.1.0: Wed Oct 13 17:33:24 PDT 2021; root:xnu-8019.41.5~1/RELEASE_ARM64_T8101', machine='x86_64')"
      ]
     },
     "execution_count": 792,
     "metadata": {},
     "output_type": "execute_result"
    }
   ],
   "source": [
    "import platform\n",
    "platform.architecture()\n",
    "platform.machine()\n",
    "platform.node()\n",
    "platform.platform()\n",
    "platform.processor()\n",
    "platform.python_build()\n",
    "platform.python_compiler()\n",
    "platform.python_version()\n",
    "platform.system()\n",
    "platform.uname()"
   ]
  },
  {
   "cell_type": "code",
   "execution_count": 793,
   "id": "6d6bd449",
   "metadata": {},
   "outputs": [
    {
     "data": {
      "text/plain": [
       "9"
      ]
     },
     "execution_count": 793,
     "metadata": {},
     "output_type": "execute_result"
    }
   ],
   "source": [
    "import threading\n",
    "\n",
    "# count active threads\n",
    "threading.active_count()"
   ]
  },
  {
   "cell_type": "code",
   "execution_count": 798,
   "id": "fcf7d837",
   "metadata": {},
   "outputs": [
    {
     "name": "stdout",
     "output_type": "stream",
     "text": [
      "<_MainThread(MainThread, started 8604440064)>\n",
      "<Thread(Thread-4, started daemon 12940689408)>\n",
      "<Heartbeat(Thread-5, started daemon 12957478912)>\n",
      "<Thread(Thread-6, started daemon 12975341568)>\n",
      "<Thread(Thread-7, started daemon 12992131072)>\n",
      "<ControlThread(Thread-3, started daemon 13008920576)>\n",
      "<HistorySavingThread(IPythonHistorySavingThread, started 13025710080)>\n",
      "<ParentPollerUnix(Thread-2, started daemon 13043052544)>\n",
      "<GarbageCollectorThread(Thread-8, started daemon 13059842048)>\n"
     ]
    }
   ],
   "source": [
    "# list active threads\n",
    "for i in threading.enumerate():\n",
    "    print(i)"
   ]
  },
  {
   "cell_type": "code",
   "execution_count": 799,
   "id": "7333b819",
   "metadata": {},
   "outputs": [
    {
     "data": {
      "text/plain": [
       "<_MainThread(MainThread, started 8604440064)>"
      ]
     },
     "execution_count": 799,
     "metadata": {},
     "output_type": "execute_result"
    }
   ],
   "source": [
    "threading.main_thread()"
   ]
  },
  {
   "cell_type": "code",
   "execution_count": 805,
   "id": "43b8b822",
   "metadata": {},
   "outputs": [
    {
     "name": "stdout",
     "output_type": "stream",
     "text": [
      "[<Thread(Thread-29, initial)>, <Thread(Thread-30, initial)>, <Thread(Thread-31, initial)>, <Thread(Thread-32, initial)>, <Thread(Thread-33, initial)>]\n",
      "[120, 240, 360, 480, 600]\n"
     ]
    }
   ],
   "source": [
    "import threading\n",
    "from numba.typed import Dict\n",
    "import numpy as np\n",
    "\n",
    "# Create a global list\n",
    "my_list = [1, 2, 3, 4, 5]\n",
    "\n",
    "# Define a function that will be run by the thread\n",
    "def update_list(n):\n",
    "    global my_list\n",
    "    my_list = [i*n for i in my_list]\n",
    "\n",
    "# Create a thread for each operation\n",
    "threads = []\n",
    "for i in range(5):\n",
    "    t = threading.Thread(target=update_list, args=(i+1,))\n",
    "    threads.append(t)\n",
    "\n",
    "print(threads)\n",
    "\n",
    "# Start the threads\n",
    "for t in threads:\n",
    "    t.start()\n",
    "\n",
    "# Wait for the threads to finish\n",
    "for t in threads:\n",
    "    t.join()\n",
    "\n",
    "# Print the final state of the list\n",
    "print(my_list)"
   ]
  },
  {
   "cell_type": "code",
   "execution_count": 821,
   "id": "06f5c20e",
   "metadata": {},
   "outputs": [
    {
     "data": {
      "text/plain": [
       "DictType[float64,float64]<iv=None>({1.0: 2.0, 2.0: 3.0, 3.0: 4.0, 4.0: 5.0, 5.0: 6.0, 6.0: 7.0, 7.0: 8.0, 8.0: 9.0})"
      ]
     },
     "execution_count": 821,
     "metadata": {},
     "output_type": "execute_result"
    }
   ],
   "source": [
    "## writing to typed dict in parallel. \n",
    "# Could read distributed GCS files to append as memory is shared\n",
    "import numba\n",
    "value_float = numba.float64\n",
    "\n",
    "typed_dict = Dict.empty(\n",
    "    key_type=value_float,\n",
    "    value_type=value_float\n",
    "    )\n",
    "\n",
    "def update_dict(n):\n",
    "    global typed_dict\n",
    "    typed_dict[n] = n + 1\n",
    "\n",
    "# Create a thread for each operation\n",
    "threads = []\n",
    "for i in range(8):\n",
    "    t = threading.Thread(target=update_dict, args=(i+1,))\n",
    "    threads.append(t)\n",
    "\n",
    "# Start the threads\n",
    "for t in threads:\n",
    "    t.start()\n",
    "\n",
    "# Wait for the threads to finish\n",
    "for t in threads:\n",
    "    t.join()\n",
    "\n",
    "print(typed_dict)\n"
   ]
  },
  {
   "cell_type": "code",
   "execution_count": 823,
   "id": "49d38a05",
   "metadata": {},
   "outputs": [
    {
     "name": "stdout",
     "output_type": "stream",
     "text": [
      "1\n"
     ]
    },
    {
     "name": "stderr",
     "output_type": "stream",
     "text": [
      "Traceback (most recent call last):\n",
      "  File \"<string>\", line 1, in <module>\n",
      "  File \"/Users/adambricknell/opt/anaconda3/lib/python3.9/multiprocessing/spawn.py\", line 116, in spawn_main\n",
      "    exitcode = _main(fd, parent_sentinel)\n",
      "  File \"/Users/adambricknell/opt/anaconda3/lib/python3.9/multiprocessing/spawn.py\", line 126, in _main\n",
      "    self = reduction.pickle.load(from_parent)\n",
      "AttributeError: Can't get attribute 'compute' on <module '__main__' (built-in)>\n"
     ]
    }
   ],
   "source": [
    "from multiprocessing import Process\n",
    "def print_func(continent='Asia'):\n",
    "    print('The name of continent is : ', continent)\n",
    "if __name__ == \"__main__\":  # confirms that the code is under main function\n",
    "    names = ['America', 'Europe', 'Africa']\n",
    "    procs = []\n",
    "    proc = Process(target=print_func)  # instantiating without any argument\n",
    "    procs.append(proc)\n",
    "    proc.start()\n",
    "    # instantiating process with arguments\n",
    "    for name in names:\n",
    "        # print(name)\n",
    "        proc = Process(target=print_func, args=(name,))\n",
    "        procs.append(proc)\n",
    "        proc.start()\n",
    "    print(proc)\n",
    "    # complete the processes\n",
    "    for proc in procs:\n",
    "        proc.join()"
   ]
  },
  {
   "cell_type": "code",
   "execution_count": 825,
   "id": "306aae4a",
   "metadata": {},
   "outputs": [
    {
     "name": "stderr",
     "output_type": "stream",
     "text": [
      "Traceback (most recent call last):\n",
      "  File \"<string>\", line 1, in <module>\n",
      "  File \"/Users/adambricknell/opt/anaconda3/lib/python3.9/multiprocessing/spawn.py\", line 116, in spawn_main\n",
      "Traceback (most recent call last):\n",
      "  File \"<string>\", line 1, in <module>\n",
      "Traceback (most recent call last):\n",
      "  File \"<string>\", line 1, in <module>\n",
      "  File \"/Users/adambricknell/opt/anaconda3/lib/python3.9/multiprocessing/spawn.py\", line 116, in spawn_main\n",
      "  File \"/Users/adambricknell/opt/anaconda3/lib/python3.9/multiprocessing/spawn.py\", line 116, in spawn_main\n",
      "    exitcode = _main(fd, parent_sentinel)\n",
      "  File \"/Users/adambricknell/opt/anaconda3/lib/python3.9/multiprocessing/spawn.py\", line 126, in _main\n",
      "    self = reduction.pickle.load(from_parent)\n",
      "AttributeError: Can't get attribute 'task' on <module '__main__' (built-in)>\n",
      "    exitcode = _main(fd, parent_sentinel)\n",
      "  File \"/Users/adambricknell/opt/anaconda3/lib/python3.9/multiprocessing/spawn.py\", line 126, in _main\n",
      "    exitcode = _main(fd, parent_sentinel)\n",
      "  File \"/Users/adambricknell/opt/anaconda3/lib/python3.9/multiprocessing/spawn.py\", line 126, in _main\n",
      "    self = reduction.pickle.load(from_parent)\n",
      "    self = reduction.pickle.load(from_parent)\n",
      "AttributeError: Can't get attribute 'task' on <module '__main__' (built-in)>\n",
      "AttributeError: Can't get attribute 'task' on <module '__main__' (built-in)>\n",
      "Traceback (most recent call last):\n",
      "  File \"<string>\", line 1, in <module>\n",
      "  File \"/Users/adambricknell/opt/anaconda3/lib/python3.9/multiprocessing/spawn.py\", line 116, in spawn_main\n",
      "    exitcode = _main(fd, parent_sentinel)\n",
      "  File \"/Users/adambricknell/opt/anaconda3/lib/python3.9/multiprocessing/spawn.py\", line 126, in _main\n",
      "    self = reduction.pickle.load(from_parent)\n",
      "AttributeError: Can't get attribute 'task' on <module '__main__' (built-in)>\n",
      "Traceback (most recent call last):\n",
      "  File \"<string>\", line 1, in <module>\n",
      "  File \"/Users/adambricknell/opt/anaconda3/lib/python3.9/multiprocessing/spawn.py\", line 116, in spawn_main\n",
      "    exitcode = _main(fd, parent_sentinel)\n",
      "  File \"/Users/adambricknell/opt/anaconda3/lib/python3.9/multiprocessing/spawn.py\", line 126, in _main\n",
      "    self = reduction.pickle.load(from_parent)\n",
      "AttributeError: Can't get attribute 'task' on <module '__main__' (built-in)>\n",
      "Traceback (most recent call last):\n",
      "  File \"<string>\", line 1, in <module>\n",
      "  File \"/Users/adambricknell/opt/anaconda3/lib/python3.9/multiprocessing/spawn.py\", line 116, in spawn_main\n",
      "    exitcode = _main(fd, parent_sentinel)\n",
      "  File \"/Users/adambricknell/opt/anaconda3/lib/python3.9/multiprocessing/spawn.py\", line 126, in _main\n",
      "    self = reduction.pickle.load(from_parent)\n",
      "AttributeError: Can't get attribute 'task' on <module '__main__' (built-in)>\n",
      "Traceback (most recent call last):\n",
      "  File \"<string>\", line 1, in <module>\n",
      "  File \"/Users/adambricknell/opt/anaconda3/lib/python3.9/multiprocessing/spawn.py\", line 116, in spawn_main\n",
      "    exitcode = _main(fd, parent_sentinel)\n",
      "  File \"/Users/adambricknell/opt/anaconda3/lib/python3.9/multiprocessing/spawn.py\", line 126, in _main\n",
      "    self = reduction.pickle.load(from_parent)\n",
      "AttributeError: Can't get attribute 'task' on <module '__main__' (built-in)>\n",
      "Traceback (most recent call last):\n",
      "  File \"<string>\", line 1, in <module>\n",
      "  File \"/Users/adambricknell/opt/anaconda3/lib/python3.9/multiprocessing/spawn.py\", line 116, in spawn_main\n",
      "    exitcode = _main(fd, parent_sentinel)\n",
      "  File \"/Users/adambricknell/opt/anaconda3/lib/python3.9/multiprocessing/spawn.py\", line 126, in _main\n",
      "    self = reduction.pickle.load(from_parent)\n",
      "AttributeError: Can't get attribute 'task' on <module '__main__' (built-in)>\n",
      "Traceback (most recent call last):\n",
      "  File \"<string>\", line 1, in <module>\n",
      "  File \"/Users/adambricknell/opt/anaconda3/lib/python3.9/multiprocessing/spawn.py\", line 116, in spawn_main\n",
      "    exitcode = _main(fd, parent_sentinel)\n",
      "  File \"/Users/adambricknell/opt/anaconda3/lib/python3.9/multiprocessing/spawn.py\", line 126, in _main\n",
      "    self = reduction.pickle.load(from_parent)\n",
      "AttributeError: Can't get attribute 'task' on <module '__main__' (built-in)>\n",
      "Traceback (most recent call last):\n",
      "  File \"<string>\", line 1, in <module>\n",
      "  File \"/Users/adambricknell/opt/anaconda3/lib/python3.9/multiprocessing/spawn.py\", line 116, in spawn_main\n",
      "    exitcode = _main(fd, parent_sentinel)\n",
      "  File \"/Users/adambricknell/opt/anaconda3/lib/python3.9/multiprocessing/spawn.py\", line 126, in _main\n",
      "    self = reduction.pickle.load(from_parent)\n",
      "AttributeError: Can't get attribute 'task' on <module '__main__' (built-in)>\n"
     ]
    }
   ],
   "source": [
    "# target function\n",
    "from multiprocessing import Semaphore, Process\n",
    "def task(semaphore, number):\n",
    "    # attempt to acquire the semaphore\n",
    "    with semaphore:\n",
    "        # simulate computational effort\n",
    "        value = random()\n",
    "        sleep(value)\n",
    "        # report result\n",
    "        print(f'Process {number} got {value}')\n",
    "semaphore = Semaphore(2)\n",
    "processes = [Process(target=task, args=(semaphore, i)) for i in range(10)]\n",
    "# start child processes\n",
    "for process in processes:\n",
    "    process.start()\n",
    "# wait for child processes to finish\n",
    "for process in processes:\n",
    "    process.join()\n"
   ]
  },
  {
   "cell_type": "code",
   "execution_count": 830,
   "id": "7d1151eb",
   "metadata": {},
   "outputs": [
    {
     "name": "stdout",
     "output_type": "stream",
     "text": [
      "0\n"
     ]
    }
   ],
   "source": [
    "import ctypes\n",
    "rows = 3\n",
    "cols = 4\n",
    "arr = [[0] * cols for _ in range(rows)]\n",
    "\n",
    "# Create a pointer type for the elements of the array\n",
    "IntArrayType = ctypes.c_int * cols\n",
    "\n",
    "# Create an array of pointers to the elements of the array\n",
    "pointers = (IntArrayType * rows)()\n",
    "\n",
    "# Initialize the pointers and the elements of the array\n",
    "for i in range(rows):\n",
    "    pointers[i] = IntArrayType(*arr[i])\n",
    "\n",
    "print(pointers[1][2])\n"
   ]
  },
  {
   "cell_type": "code",
   "execution_count": 839,
   "id": "09dc20da",
   "metadata": {},
   "outputs": [],
   "source": [
    "current_thread = threading.current_thread()\n",
    "#thread_id = current_thread.ident"
   ]
  },
  {
   "cell_type": "code",
   "execution_count": 876,
   "id": "b87dd711",
   "metadata": {},
   "outputs": [
    {
     "data": {
      "text/plain": [
       "SharedMemory('psm_60f91867', size=4096)"
      ]
     },
     "execution_count": 876,
     "metadata": {},
     "output_type": "execute_result"
    }
   ],
   "source": [
    "from multiprocessing.shared_memory import ShareableList\n",
    "a = ShareableList(['howdy', b'HoWdY', -273.154, 100, None, True, 42])\n",
    "a[2] = -78.5\n",
    "len(a)\n",
    "a.shm\n"
   ]
  },
  {
   "cell_type": "code",
   "execution_count": 16,
   "id": "1a99ad45",
   "metadata": {},
   "outputs": [
    {
     "name": "stdout",
     "output_type": "stream",
     "text": [
      "hi\n",
      "hi\n",
      "hi\n",
      "hi\n",
      "hi\n",
      "hi\n",
      "hi\n",
      "hi\n",
      "hi\n",
      "hi\n",
      "hi\n",
      "hi\n",
      "hi\n",
      "hi\n",
      "hi\n",
      "hi\n",
      "hi\n",
      "hi\n",
      "hi\n",
      "hi\n",
      "hi\n",
      "hi\n",
      "hi\n",
      "hi\n",
      "hi\n",
      "hi\n",
      "hi\n",
      "hi\n",
      "hi\n",
      "hi\n",
      "hi\n",
      "hi\n",
      "hi\n",
      "hi\n",
      "hi\n",
      "hi\n",
      "hi\n",
      "hi\n",
      "hi\n",
      "hi\n",
      "hi\n",
      "hi\n",
      "hi\n",
      "hi\n",
      "hi\n",
      "hi\n",
      "hi\n",
      "hi\n",
      "hi\n",
      "hi\n",
      "hi\n",
      "hi\n",
      "hi\n",
      "hi\n",
      "hi\n",
      "hi\n",
      "hi\n",
      "hi\n",
      "hi\n",
      "hi\n",
      "hi\n",
      "hi\n",
      "hi\n",
      "hi\n",
      "hi\n",
      "hi\n",
      "hi\n",
      "hi\n",
      "hi\n",
      "hi\n",
      "hi\n",
      "hi\n",
      "hi\n",
      "hi\n",
      "hi\n",
      "hi\n",
      "hi\n",
      "hi\n",
      "hi\n",
      "hi\n",
      "hi\n",
      "hi\n",
      "hi\n",
      "hi\n",
      "hi\n",
      "hi\n",
      "hi\n",
      "hi\n",
      "hi\n",
      "hi\n",
      "hi\n",
      "hi\n",
      "hi\n",
      "hi\n",
      "hi\n",
      "hi\n",
      "hi\n",
      "hi\n",
      "hi\n",
      "hi\n",
      "0\n",
      "1\n",
      "2\n",
      "3\n",
      "4\n",
      "5\n",
      "6\n",
      "7\n",
      "8\n",
      "9\n",
      "10\n",
      "11\n",
      "12\n",
      "13\n",
      "14\n",
      "15\n",
      "16\n",
      "17\n",
      "18\n",
      "19\n",
      "20\n",
      "21\n",
      "22\n",
      "23\n",
      "24\n",
      "25\n",
      "26\n",
      "27\n",
      "28\n",
      "29\n",
      "30\n",
      "31\n",
      "32\n",
      "33\n",
      "34\n",
      "35\n",
      "36\n",
      "37\n",
      "38\n",
      "39\n",
      "40\n",
      "41\n",
      "42\n",
      "43\n",
      "44\n",
      "45\n",
      "46\n",
      "47\n",
      "48\n",
      "49\n",
      "50\n",
      "51\n",
      "52\n",
      "53\n",
      "54\n",
      "55\n",
      "56\n",
      "57\n",
      "58\n",
      "59\n",
      "60\n",
      "61\n",
      "62\n",
      "63\n",
      "64\n",
      "65\n",
      "66\n",
      "67\n",
      "68\n",
      "69\n",
      "70\n",
      "71\n",
      "72\n",
      "73\n",
      "74\n",
      "75\n",
      "76\n",
      "77\n",
      "78\n",
      "79\n",
      "80\n",
      "81\n",
      "82\n",
      "83\n",
      "84\n",
      "85\n",
      "86\n",
      "87\n",
      "88\n",
      "89\n",
      "90\n",
      "91\n",
      "92\n",
      "93\n",
      "94\n",
      "95\n",
      "96\n",
      "97\n",
      "98\n",
      "99\n"
     ]
    }
   ],
   "source": [
    "import asyncio\n",
    "import requests\n",
    "async def do_thing(i):\n",
    "    print('hi')\n",
    "    res = requests.get('https://www.google.com').text\n",
    "    return i\n",
    "\n",
    "tasks = []\n",
    "for i in range(100):  \n",
    "    task = asyncio.create_task(do_thing(i))\n",
    "    tasks.append(task)\n",
    "\n",
    "for coro in asyncio.as_completed(tasks):\n",
    "    earliest_result = await coro \n",
    "    print(earliest_result)   # this only prints when above line is done for all 100. \n",
    "                            # earliest_result is an int, but all 100 vals are printed (it may be different for each \n",
    "                            # coroutine)"
   ]
  },
  {
   "cell_type": "code",
   "execution_count": 19,
   "id": "f631818d",
   "metadata": {},
   "outputs": [
    {
     "data": {
      "text/plain": [
       "<_UnixSelectorEventLoop running=True closed=False debug=False>"
      ]
     },
     "execution_count": 19,
     "metadata": {},
     "output_type": "execute_result"
    }
   ],
   "source": [
    "asyncio.get_running_loop()"
   ]
  },
  {
   "cell_type": "code",
   "execution_count": 45,
   "id": "bfbfbc1f",
   "metadata": {},
   "outputs": [
    {
     "name": "stdout",
     "output_type": "stream",
     "text": [
      "written to /Users/adambricknell/Desktop/pythonlearning2023/example.log\n",
      "[16, 23]\n"
     ]
    },
    {
     "data": {
      "text/plain": [
       "[b'message',\n",
       " b'message',\n",
       " b'message',\n",
       " b'message',\n",
       " b'message',\n",
       " b'message',\n",
       " b'message',\n",
       " b'message',\n",
       " b'message']"
      ]
     },
     "execution_count": 45,
     "metadata": {},
     "output_type": "execute_result"
    }
   ],
   "source": [
    "##### Searching big logs. \n",
    "\n",
    "# on recommmendation is grep and awk, as they are v fast. Or mmap as below\n",
    "# https://stackoverflow.com/questions/66071560/searching-through-a-large-text-or-log-file-10gb\n",
    "import logging\n",
    "import os\n",
    "import mmap\n",
    "import re\n",
    "logfilepath=filename=os.getcwd()+'/example.log'\n",
    "logging.basicConfig(filename=logfilepath, encoding='utf-8', level=logging.DEBUG)\n",
    "logging.debug('This message should go to the log file')\n",
    "logging.info('So should this')\n",
    "haha = 3\n",
    "logging.warning(f'And this, too {haha}')\n",
    "logging.error('And non-ASCII stuff, too, like Øresund and Malmö')\n",
    "print(f'written to {logfilepath}')\n",
    "\n",
    "f = open(logfilepath, \"r\")\n",
    "mm = mmap.mmap(f.fileno(), 0, prot=mmap.PROT_READ)\n",
    "search_res = re.search(b\"message\", mm)\n",
    "print([search_res.start(), search_res.end()])\n",
    "\n",
    "# findall returns list of matched patterns by default\n",
    "findall_res = re.findall(b\"message\", mm)\n",
    "findall_res\n"
   ]
  },
  {
   "cell_type": "code",
   "execution_count": 69,
   "id": "bce35314",
   "metadata": {},
   "outputs": [
    {
     "name": "stdout",
     "output_type": "stream",
     "text": [
      "1432\n"
     ]
    }
   ],
   "source": [
    "with open(logfilepath, \"r\") as f:\n",
    "    mm = mmap.mmap(f.fileno(), 0, access=mmap.ACCESS_READ)\n",
    "    print(mm.rfind(b'ERR'))"
   ]
  },
  {
   "cell_type": "code",
   "execution_count": 76,
   "id": "875479f7",
   "metadata": {},
   "outputs": [
    {
     "name": "stdout",
     "output_type": "stream",
     "text": [
      "['\\nERROR:root:And non-ASCII stuff, too, like Øresund and Malmö', '\\nERROR:root:And non-ASCII stuff, too, like Øresund and Malmö', '\\nERROR:root:And non-ASCII stuff, too, like Øresund and Malmö', '\\nERROR:root:And non-ASCII stuff, too, like Øresund and Malmö', '\\nERROR:root:And non-ASCII stuff, too, like Øresund and Malmö', '\\nERROR:root:And non-ASCII stuff, too, like Øresund and Malmö', '\\nERROR:root:And non-ASCII stuff, too, like Øresund and Malmö', '\\nERROR:root:And non-ASCII stuff, too, like Øresund and Malmö', '\\nERROR:root:And non-ASCII stuff, too, like Øresund and Malmö']\n"
     ]
    }
   ],
   "source": [
    "# Get whole line of log featuring 'ASCII'\n",
    "import re\n",
    "import mmap\n",
    "import os\n",
    "logfilepath=filename=os.getcwd()+'/example.log'\n",
    "\n",
    "with open(logfilepath, \"r\") as f:\n",
    "    mm = mmap.mmap(f.fileno(), 0, access=mmap.ACCESS_READ)\n",
    "    # Search for the pattern \"error\" in the file\n",
    "    start = mm.find(b\"ASCII\")\n",
    "    end = mm.find(b\"\\n\", start)\n",
    "    \n",
    "    # find first '\\n' prior to 'start'\n",
    "    line_start = mm.rfind(b'\\n', 0, start)\n",
    "    \n",
    "    error_lines = []\n",
    "    \n",
    "    while start != -1 and end != -1:\n",
    "        \n",
    "        # Extract the line containing the pattern and decode it\n",
    "        line = mm[line_start:end].decode()\n",
    "        \n",
    "        # Append the line to the list of error lines\n",
    "        error_lines.append(line)\n",
    "        \n",
    "        # Search for the next occurrence of the pattern\n",
    "        start = mm.find(b\"ASCII\", end)\n",
    "        previous_instance_end = end\n",
    "        end = mm.find(b\"\\n\", start)\n",
    "        line_start = mm.rfind(b'\\n', previous_instance_end, start)\n",
    "        \n",
    "    # Close the memory-mapped file\n",
    "    mm.close()\n",
    "\n",
    "# Print the list of error lines\n",
    "print(error_lines)"
   ]
  },
  {
   "cell_type": "code",
   "execution_count": 87,
   "id": "89d6f15b",
   "metadata": {},
   "outputs": [
    {
     "name": "stdout",
     "output_type": "stream",
     "text": [
      "b'DEBUG:root:This message should go to the log file\\n'\n",
      "b'INFO:root:So should this\\n'\n",
      "b'WARNING:root:And this, too 3\\n'\n",
      "b'ERROR:root:And non-ASCII stuff, too, like \\xc3\\x98resund and Malm\\xc3\\xb6\\n'\n",
      "b'DEBUG:root:This message should go to the log file\\n'\n",
      "b'INFO:root:So should this\\n'\n",
      "b'WARNING:root:And this, too 3\\n'\n",
      "b'ERROR:root:And non-ASCII stuff, too, like \\xc3\\x98resund and Malm\\xc3\\xb6\\n'\n",
      "b'DEBUG:root:This message should go to the log file\\n'\n",
      "b'INFO:root:So should this\\n'\n",
      "b'WARNING:root:And this, too 3\\n'\n",
      "b'ERROR:root:And non-ASCII stuff, too, like \\xc3\\x98resund and Malm\\xc3\\xb6\\n'\n",
      "b'DEBUG:root:This message should go to the log file\\n'\n",
      "b'INFO:root:So should this\\n'\n",
      "b'WARNING:root:And this, too 3\\n'\n",
      "b'ERROR:root:And non-ASCII stuff, too, like \\xc3\\x98resund and Malm\\xc3\\xb6\\n'\n",
      "b'DEBUG:root:This message should go to the log file\\n'\n",
      "b'INFO:root:So should this\\n'\n",
      "b'WARNING:root:And this, too 3\\n'\n",
      "b'ERROR:root:And non-ASCII stuff, too, like \\xc3\\x98resund and Malm\\xc3\\xb6\\n'\n",
      "b'DEBUG:root:This message should go to the log file\\n'\n",
      "b'INFO:root:So should this\\n'\n",
      "b'WARNING:root:And this, too 3\\n'\n",
      "b'ERROR:root:And non-ASCII stuff, too, like \\xc3\\x98resund and Malm\\xc3\\xb6\\n'\n",
      "b'DEBUG:root:This message should go to the log file\\n'\n",
      "b'INFO:root:So should this\\n'\n",
      "b'WARNING:root:And this, too 3\\n'\n",
      "b'ERROR:root:And non-ASCII stuff, too, like \\xc3\\x98resund and Malm\\xc3\\xb6\\n'\n",
      "b'DEBUG:root:This message should go to the log file\\n'\n",
      "b'INFO:root:So should this\\n'\n",
      "b'WARNING:root:And this, too 3\\n'\n",
      "b'ERROR:root:And non-ASCII stuff, too, like \\xc3\\x98resund and Malm\\xc3\\xb6\\n'\n",
      "b'DEBUG:root:This message should go to the log file\\n'\n",
      "b'INFO:root:So should this\\n'\n",
      "b'WARNING:root:And this, too 3\\n'\n",
      "b'ERROR:root:And non-ASCII stuff, too, like \\xc3\\x98resund and Malm\\xc3\\xb6\\n'\n",
      "b'INFO:numexpr.utils:NumExpr defaulting to 8 threads.\\n'\n"
     ]
    }
   ],
   "source": [
    "with open(logfilepath, \"r+b\") as f:\n",
    "    with mmap.mmap(f.fileno(), 0) as mm:\n",
    "        myline = mm.readline()\n",
    "        while myline:\n",
    "            print(myline)\n",
    "            myline = mm.readline()\n",
    "        mm.close()   \n"
   ]
  },
  {
   "cell_type": "code",
   "execution_count": 60,
   "id": "42134512",
   "metadata": {},
   "outputs": [
    {
     "data": {
      "text/plain": [
       "['__class__',\n",
       " '__delattr__',\n",
       " '__delitem__',\n",
       " '__dir__',\n",
       " '__doc__',\n",
       " '__enter__',\n",
       " '__eq__',\n",
       " '__exit__',\n",
       " '__format__',\n",
       " '__ge__',\n",
       " '__getattribute__',\n",
       " '__getitem__',\n",
       " '__gt__',\n",
       " '__hash__',\n",
       " '__init__',\n",
       " '__init_subclass__',\n",
       " '__le__',\n",
       " '__len__',\n",
       " '__lt__',\n",
       " '__ne__',\n",
       " '__new__',\n",
       " '__reduce__',\n",
       " '__reduce_ex__',\n",
       " '__repr__',\n",
       " '__setattr__',\n",
       " '__setitem__',\n",
       " '__sizeof__',\n",
       " '__str__',\n",
       " '__subclasshook__',\n",
       " 'close',\n",
       " 'closed',\n",
       " 'find',\n",
       " 'flush',\n",
       " 'madvise',\n",
       " 'move',\n",
       " 'read',\n",
       " 'read_byte',\n",
       " 'readline',\n",
       " 'resize',\n",
       " 'rfind',\n",
       " 'seek',\n",
       " 'size',\n",
       " 'tell',\n",
       " 'write',\n",
       " 'write_byte']"
      ]
     },
     "execution_count": 60,
     "metadata": {},
     "output_type": "execute_result"
    }
   ],
   "source": [
    "myline = myfile.readline()\n",
    "while myline:\n",
    "    print(myline)\n",
    "    myline = myfile.readline()\n",
    "myfile.close()   "
   ]
  },
  {
   "cell_type": "code",
   "execution_count": 55,
   "id": "9b73c47d",
   "metadata": {},
   "outputs": [
    {
     "data": {
      "text/plain": [
       "list"
      ]
     },
     "execution_count": 55,
     "metadata": {},
     "output_type": "execute_result"
    }
   ],
   "source": [
    "import unittest\n",
    "\n",
    "class DefaultWidgetSizeTestCase(unittest.TestCase):\n",
    "    def test_default_widget_size(self):\n",
    "        widget = Widget('The widget')\n",
    "        self.assertEqual(widget.size(), (50, 50))"
   ]
  },
  {
   "cell_type": "code",
   "execution_count": 92,
   "id": "14727ae8",
   "metadata": {},
   "outputs": [
    {
     "name": "stdout",
     "output_type": "stream",
     "text": [
      "(50, 50)\n"
     ]
    },
    {
     "data": {
      "text/plain": [
       "array([[0.54792315, 0.00267254, 0.05785664, ..., 0.41786686, 0.14085596,\n",
       "        0.31772802],\n",
       "       [0.74329202, 0.41532419, 0.25448088, ..., 0.23445296, 0.9533298 ,\n",
       "        0.73696712],\n",
       "       [0.60965565, 0.82661866, 0.06088021, ..., 0.85677213, 0.99525951,\n",
       "        0.13127314],\n",
       "       ...,\n",
       "       [0.15204087, 0.97085177, 0.85409168, ..., 0.31901912, 0.85943642,\n",
       "        0.11938075],\n",
       "       [0.91047426, 0.30420672, 0.24505318, ..., 0.20037692, 0.07281049,\n",
       "        0.9615233 ],\n",
       "       [0.83069542, 0.81185263, 0.46865395, ..., 0.97141359, 0.4370952 ,\n",
       "        0.33028505]])"
      ]
     },
     "execution_count": 92,
     "metadata": {},
     "output_type": "execute_result"
    }
   ],
   "source": [
    "import unittest\n",
    "import numpy as np\n",
    "\n",
    "def Widget():\n",
    "    ar = np.random.rand(50,50)\n",
    "    print(ar.shape)\n",
    "    return ar\n",
    "\n",
    "Widget()"
   ]
  },
  {
   "cell_type": "code",
   "execution_count": 94,
   "id": "eb55d5a9",
   "metadata": {},
   "outputs": [
    {
     "ename": "AssertionError",
     "evalue": "1 != 0",
     "output_type": "error",
     "traceback": [
      "\u001b[0;31m---------------------------------------------------------------------------\u001b[0m",
      "\u001b[0;31mAssertionError\u001b[0m                            Traceback (most recent call last)",
      "\u001b[0;32m/var/folders/x2/bt81rqpj7pl_j7fczgml3pd80000gn/T/ipykernel_28293/639919357.py\u001b[0m in \u001b[0;36m<module>\u001b[0;34m\u001b[0m\n\u001b[1;32m      7\u001b[0m             \u001b[0;32mwith\u001b[0m \u001b[0mself\u001b[0m\u001b[0;34m.\u001b[0m\u001b[0msubTest\u001b[0m\u001b[0;34m(\u001b[0m\u001b[0mi\u001b[0m\u001b[0;34m=\u001b[0m\u001b[0mi\u001b[0m\u001b[0;34m)\u001b[0m\u001b[0;34m:\u001b[0m\u001b[0;34m\u001b[0m\u001b[0;34m\u001b[0m\u001b[0m\n\u001b[1;32m      8\u001b[0m                 \u001b[0mself\u001b[0m\u001b[0;34m.\u001b[0m\u001b[0massertEqual\u001b[0m\u001b[0;34m(\u001b[0m\u001b[0mi\u001b[0m \u001b[0;34m%\u001b[0m \u001b[0;36m2\u001b[0m\u001b[0;34m,\u001b[0m \u001b[0;36m0\u001b[0m\u001b[0;34m)\u001b[0m\u001b[0;34m\u001b[0m\u001b[0;34m\u001b[0m\u001b[0m\n\u001b[0;32m----> 9\u001b[0;31m \u001b[0mNumbersTest\u001b[0m\u001b[0;34m(\u001b[0m\u001b[0;34m)\u001b[0m\u001b[0;34m.\u001b[0m\u001b[0mtest_even\u001b[0m\u001b[0;34m(\u001b[0m\u001b[0;34m)\u001b[0m\u001b[0;34m\u001b[0m\u001b[0;34m\u001b[0m\u001b[0m\n\u001b[0m",
      "\u001b[0;32m/var/folders/x2/bt81rqpj7pl_j7fczgml3pd80000gn/T/ipykernel_28293/639919357.py\u001b[0m in \u001b[0;36mtest_even\u001b[0;34m(self)\u001b[0m\n\u001b[1;32m      6\u001b[0m         \u001b[0;32mfor\u001b[0m \u001b[0mi\u001b[0m \u001b[0;32min\u001b[0m \u001b[0mrange\u001b[0m\u001b[0;34m(\u001b[0m\u001b[0;36m0\u001b[0m\u001b[0;34m,\u001b[0m \u001b[0;36m6\u001b[0m\u001b[0;34m)\u001b[0m\u001b[0;34m:\u001b[0m\u001b[0;34m\u001b[0m\u001b[0;34m\u001b[0m\u001b[0m\n\u001b[1;32m      7\u001b[0m             \u001b[0;32mwith\u001b[0m \u001b[0mself\u001b[0m\u001b[0;34m.\u001b[0m\u001b[0msubTest\u001b[0m\u001b[0;34m(\u001b[0m\u001b[0mi\u001b[0m\u001b[0;34m=\u001b[0m\u001b[0mi\u001b[0m\u001b[0;34m)\u001b[0m\u001b[0;34m:\u001b[0m\u001b[0;34m\u001b[0m\u001b[0;34m\u001b[0m\u001b[0m\n\u001b[0;32m----> 8\u001b[0;31m                 \u001b[0mself\u001b[0m\u001b[0;34m.\u001b[0m\u001b[0massertEqual\u001b[0m\u001b[0;34m(\u001b[0m\u001b[0mi\u001b[0m \u001b[0;34m%\u001b[0m \u001b[0;36m2\u001b[0m\u001b[0;34m,\u001b[0m \u001b[0;36m0\u001b[0m\u001b[0;34m)\u001b[0m\u001b[0;34m\u001b[0m\u001b[0;34m\u001b[0m\u001b[0m\n\u001b[0m\u001b[1;32m      9\u001b[0m \u001b[0mNumbersTest\u001b[0m\u001b[0;34m(\u001b[0m\u001b[0;34m)\u001b[0m\u001b[0;34m.\u001b[0m\u001b[0mtest_even\u001b[0m\u001b[0;34m(\u001b[0m\u001b[0;34m)\u001b[0m\u001b[0;34m\u001b[0m\u001b[0;34m\u001b[0m\u001b[0m\n",
      "\u001b[0;32m~/opt/anaconda3/lib/python3.9/unittest/case.py\u001b[0m in \u001b[0;36massertEqual\u001b[0;34m(self, first, second, msg)\u001b[0m\n\u001b[1;32m    827\u001b[0m         \"\"\"\n\u001b[1;32m    828\u001b[0m         \u001b[0massertion_func\u001b[0m \u001b[0;34m=\u001b[0m \u001b[0mself\u001b[0m\u001b[0;34m.\u001b[0m\u001b[0m_getAssertEqualityFunc\u001b[0m\u001b[0;34m(\u001b[0m\u001b[0mfirst\u001b[0m\u001b[0;34m,\u001b[0m \u001b[0msecond\u001b[0m\u001b[0;34m)\u001b[0m\u001b[0;34m\u001b[0m\u001b[0;34m\u001b[0m\u001b[0m\n\u001b[0;32m--> 829\u001b[0;31m         \u001b[0massertion_func\u001b[0m\u001b[0;34m(\u001b[0m\u001b[0mfirst\u001b[0m\u001b[0;34m,\u001b[0m \u001b[0msecond\u001b[0m\u001b[0;34m,\u001b[0m \u001b[0mmsg\u001b[0m\u001b[0;34m=\u001b[0m\u001b[0mmsg\u001b[0m\u001b[0;34m)\u001b[0m\u001b[0;34m\u001b[0m\u001b[0;34m\u001b[0m\u001b[0m\n\u001b[0m\u001b[1;32m    830\u001b[0m \u001b[0;34m\u001b[0m\u001b[0m\n\u001b[1;32m    831\u001b[0m     \u001b[0;32mdef\u001b[0m \u001b[0massertNotEqual\u001b[0m\u001b[0;34m(\u001b[0m\u001b[0mself\u001b[0m\u001b[0;34m,\u001b[0m \u001b[0mfirst\u001b[0m\u001b[0;34m,\u001b[0m \u001b[0msecond\u001b[0m\u001b[0;34m,\u001b[0m \u001b[0mmsg\u001b[0m\u001b[0;34m=\u001b[0m\u001b[0;32mNone\u001b[0m\u001b[0;34m)\u001b[0m\u001b[0;34m:\u001b[0m\u001b[0;34m\u001b[0m\u001b[0;34m\u001b[0m\u001b[0m\n",
      "\u001b[0;32m~/opt/anaconda3/lib/python3.9/unittest/case.py\u001b[0m in \u001b[0;36m_baseAssertEqual\u001b[0;34m(self, first, second, msg)\u001b[0m\n\u001b[1;32m    820\u001b[0m             \u001b[0mstandardMsg\u001b[0m \u001b[0;34m=\u001b[0m \u001b[0;34m'%s != %s'\u001b[0m \u001b[0;34m%\u001b[0m \u001b[0m_common_shorten_repr\u001b[0m\u001b[0;34m(\u001b[0m\u001b[0mfirst\u001b[0m\u001b[0;34m,\u001b[0m \u001b[0msecond\u001b[0m\u001b[0;34m)\u001b[0m\u001b[0;34m\u001b[0m\u001b[0;34m\u001b[0m\u001b[0m\n\u001b[1;32m    821\u001b[0m             \u001b[0mmsg\u001b[0m \u001b[0;34m=\u001b[0m \u001b[0mself\u001b[0m\u001b[0;34m.\u001b[0m\u001b[0m_formatMessage\u001b[0m\u001b[0;34m(\u001b[0m\u001b[0mmsg\u001b[0m\u001b[0;34m,\u001b[0m \u001b[0mstandardMsg\u001b[0m\u001b[0;34m)\u001b[0m\u001b[0;34m\u001b[0m\u001b[0;34m\u001b[0m\u001b[0m\n\u001b[0;32m--> 822\u001b[0;31m             \u001b[0;32mraise\u001b[0m \u001b[0mself\u001b[0m\u001b[0;34m.\u001b[0m\u001b[0mfailureException\u001b[0m\u001b[0;34m(\u001b[0m\u001b[0mmsg\u001b[0m\u001b[0;34m)\u001b[0m\u001b[0;34m\u001b[0m\u001b[0;34m\u001b[0m\u001b[0m\n\u001b[0m\u001b[1;32m    823\u001b[0m \u001b[0;34m\u001b[0m\u001b[0m\n\u001b[1;32m    824\u001b[0m     \u001b[0;32mdef\u001b[0m \u001b[0massertEqual\u001b[0m\u001b[0;34m(\u001b[0m\u001b[0mself\u001b[0m\u001b[0;34m,\u001b[0m \u001b[0mfirst\u001b[0m\u001b[0;34m,\u001b[0m \u001b[0msecond\u001b[0m\u001b[0;34m,\u001b[0m \u001b[0mmsg\u001b[0m\u001b[0;34m=\u001b[0m\u001b[0;32mNone\u001b[0m\u001b[0;34m)\u001b[0m\u001b[0;34m:\u001b[0m\u001b[0;34m\u001b[0m\u001b[0;34m\u001b[0m\u001b[0m\n",
      "\u001b[0;31mAssertionError\u001b[0m: 1 != 0"
     ]
    }
   ],
   "source": [
    "class NumbersTest(unittest.TestCase):\n",
    "    def test_even(self):\n",
    "        \"\"\"\n",
    "        Test that numbers between 0 and 5 are all even.\n",
    "        \"\"\"\n",
    "        for i in range(0, 6):\n",
    "            with self.subTest(i=i):\n",
    "                self.assertEqual(i % 2, 0)\n",
    "NumbersTest().test_even()"
   ]
  },
  {
   "cell_type": "code",
   "execution_count": 96,
   "id": "77daad8f",
   "metadata": {},
   "outputs": [
    {
     "data": {
      "text/plain": [
       "11"
      ]
     },
     "execution_count": 96,
     "metadata": {},
     "output_type": "execute_result"
    }
   ],
   "source": [
    "def greeting(name: str) -> str:\n",
    "    return 'Hello ' + name\n",
    "greeting('adam')"
   ]
  },
  {
   "cell_type": "code",
   "execution_count": 98,
   "id": "29746c91",
   "metadata": {},
   "outputs": [
    {
     "data": {
      "text/plain": [
       "[2.0, -8.4, 10.8]"
      ]
     },
     "execution_count": 98,
     "metadata": {},
     "output_type": "execute_result"
    }
   ],
   "source": [
    "Vector = list[float]\n",
    "\n",
    "def scale(scalar: float, vector: Vector) -> Vector:\n",
    "    \"\"\"\n",
    "    scale = input float value\n",
    "    vector = the thing we multiply by\n",
    "    \"\"\"\n",
    "    return [scalar * num for num in vector]\n",
    "\n",
    "# passes type checking; a list of floats qualifies as a Vector.\n",
    "new_vector = scale(2.0, [1.0, -4.2, 5.4])\n",
    "new_vector"
   ]
  },
  {
   "cell_type": "code",
   "execution_count": 99,
   "id": "68686ffc",
   "metadata": {},
   "outputs": [],
   "source": [
    "from typing import NewType\n",
    "\n",
    "# Create a new type called \"UserId\"\n",
    "UserId = NewType('UserId', int)\n",
    "\n",
    "# Define a function that takes a UserId as an argument\n",
    "def get_user_name(user_id: UserId) -> str:\n",
    "    # Implementation goes here\n",
    "    pass\n",
    "\n",
    "# Create a value of type UserId\n",
    "user_id = UserId(123)\n",
    "\n",
    "# Call the function with the UserId value\n",
    "user_name = get_user_name(user_id)\n"
   ]
  },
  {
   "cell_type": "code",
   "execution_count": null,
   "id": "0f0afd56",
   "metadata": {},
   "outputs": [],
   "source": []
  },
  {
   "cell_type": "code",
   "execution_count": null,
   "id": "aecf321d",
   "metadata": {},
   "outputs": [],
   "source": []
  },
  {
   "cell_type": "code",
   "execution_count": null,
   "id": "b79069c9",
   "metadata": {},
   "outputs": [],
   "source": []
  },
  {
   "cell_type": "code",
   "execution_count": null,
   "id": "0a1c8899",
   "metadata": {},
   "outputs": [],
   "source": []
  },
  {
   "cell_type": "code",
   "execution_count": null,
   "id": "9c010885",
   "metadata": {},
   "outputs": [],
   "source": []
  },
  {
   "cell_type": "code",
   "execution_count": null,
   "id": "0c4f244f",
   "metadata": {},
   "outputs": [],
   "source": []
  }
 ],
 "metadata": {
  "kernelspec": {
   "display_name": "Python 3 (ipykernel)",
   "language": "python",
   "name": "python3"
  },
  "language_info": {
   "codemirror_mode": {
    "name": "ipython",
    "version": 3
   },
   "file_extension": ".py",
   "mimetype": "text/x-python",
   "name": "python",
   "nbconvert_exporter": "python",
   "pygments_lexer": "ipython3",
   "version": "3.9.7"
  }
 },
 "nbformat": 4,
 "nbformat_minor": 5
}
